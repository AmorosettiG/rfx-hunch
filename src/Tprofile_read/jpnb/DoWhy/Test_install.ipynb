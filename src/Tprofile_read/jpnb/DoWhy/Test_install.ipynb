{
 "cells": [
  {
   "cell_type": "code",
   "execution_count": 15,
   "metadata": {},
   "outputs": [
    {
     "name": "stdout",
     "output_type": "stream",
     "text": [
      "Collecting git+https://github.com/microsoft/dowhy.git\n",
      "  Cloning https://github.com/microsoft/dowhy.git to /tmp/pip-req-build-8f7w7kam\n",
      "  Running command git clone -q https://github.com/microsoft/dowhy.git /tmp/pip-req-build-8f7w7kam\n",
      "Requirement already satisfied (use --upgrade to upgrade): dowhy==0.2a1 from git+https://github.com/microsoft/dowhy.git in /home/andrea/devel/rfx/rfx-hunch/build/conf/python/site-packages/lib/python3.6/site-packages\n",
      "Requirement already satisfied: numpy>=1.15 in /home/andrea/devel/rfx/rfx-hunch/build/conf/python/site-packages/lib/python3.6/site-packages (from dowhy==0.2a1) (1.17.3)\n",
      "Requirement already satisfied: scipy in /usr/local/lib/python3.6/dist-packages (from dowhy==0.2a1) (1.3.1)\n",
      "Requirement already satisfied: statsmodels in /usr/local/lib/python3.6/dist-packages (from dowhy==0.2a1) (0.10.1)\n",
      "Requirement already satisfied: pandas>=0.24 in /usr/local/lib/python3.6/dist-packages (from dowhy==0.2a1) (0.25.1)\n",
      "Requirement already satisfied: networkx>=2.0 in /home/andrea/devel/rfx/rfx-hunch/build/conf/python/site-packages/lib/python3.6/site-packages (from dowhy==0.2a1) (2.4)\n",
      "Requirement already satisfied: matplotlib in /usr/local/lib/python3.6/dist-packages (from dowhy==0.2a1) (3.1.1)\n",
      "Requirement already satisfied: sympy>=1.4 in /home/andrea/devel/rfx/rfx-hunch/build/conf/python/site-packages/lib/python3.6/site-packages (from dowhy==0.2a1) (1.4)\n",
      "Requirement already satisfied: scikit-learn in /home/andrea/devel/rfx/rfx-hunch/build/conf/python/site-packages/lib/python3.6/site-packages (from dowhy==0.2a1) (0.21.2)\n",
      "Requirement already satisfied: pydot>=1.4 in /home/andrea/devel/rfx/rfx-hunch/build/conf/python/site-packages/lib/python3.6/site-packages (from dowhy==0.2a1) (1.4.1)\n",
      "Requirement already satisfied: patsy>=0.4.0 in /usr/local/lib/python3.6/dist-packages (from statsmodels->dowhy==0.2a1) (0.5.1)\n",
      "Requirement already satisfied: pytz>=2017.2 in /usr/local/lib/python3.6/dist-packages (from pandas>=0.24->dowhy==0.2a1) (2019.3)\n",
      "Requirement already satisfied: python-dateutil>=2.6.1 in /usr/local/lib/python3.6/dist-packages (from pandas>=0.24->dowhy==0.2a1) (2.8.0)\n",
      "Requirement already satisfied: decorator>=4.3.0 in /home/andrea/devel/rfx/rfx-hunch/build/conf/python/site-packages/lib/python3.6/site-packages (from networkx>=2.0->dowhy==0.2a1) (4.4.1)\n",
      "Requirement already satisfied: cycler>=0.10 in /usr/local/lib/python3.6/dist-packages (from matplotlib->dowhy==0.2a1) (0.10.0)\n",
      "Requirement already satisfied: pyparsing!=2.0.4,!=2.1.2,!=2.1.6,>=2.0.1 in /usr/local/lib/python3.6/dist-packages (from matplotlib->dowhy==0.2a1) (2.4.2)\n",
      "Requirement already satisfied: kiwisolver>=1.0.1 in /usr/local/lib/python3.6/dist-packages (from matplotlib->dowhy==0.2a1) (1.1.0)\n",
      "Requirement already satisfied: mpmath>=0.19 in /home/andrea/devel/rfx/rfx-hunch/build/conf/python/site-packages/lib/python3.6/site-packages (from sympy>=1.4->dowhy==0.2a1) (1.1.0)\n",
      "Requirement already satisfied: joblib>=0.11 in /home/andrea/devel/rfx/rfx-hunch/build/conf/python/site-packages/lib/python3.6/site-packages (from scikit-learn->dowhy==0.2a1) (0.13.2)\n",
      "Requirement already satisfied: six in /home/andrea/devel/rfx/rfx-hunch/build/conf/python/site-packages/lib/python3.6/site-packages (from patsy>=0.4.0->statsmodels->dowhy==0.2a1) (1.12.0)\n",
      "Requirement already satisfied: setuptools in /home/andrea/devel/rfx/rfx-hunch/build/conf/python/site-packages/lib/python3.6/site-packages (from kiwisolver>=1.0.1->matplotlib->dowhy==0.2a1) (41.6.0)\n",
      "Building wheels for collected packages: dowhy\n",
      "  Building wheel for dowhy (setup.py) ... \u001b[?25ldone\n",
      "\u001b[?25h  Created wheel for dowhy: filename=dowhy-0.2a1-cp36-none-any.whl size=52157 sha256=b3b44cb684d2edf3e3767fdbe09586e0aca250fa1853e713ae9b67fcb238bf7c\n",
      "  Stored in directory: /tmp/pip-ephem-wheel-cache-godt_snn/wheels/b4/e9/95/efdead3eda88313a0fc098eda30e19bb65c0afe4a240468f4d\n",
      "Successfully built dowhy\n",
      "\u001b[33mWARNING: You are using pip version 19.2.3, however version 19.3.1 is available.\n",
      "You should consider upgrading via the 'pip install --upgrade pip' command.\u001b[0m\n",
      "Requirement already satisfied: graphviz in /home/andrea/devel/rfx/rfx-hunch/build/conf/python/site-packages/lib/python3.6/site-packages (0.11.1)\n",
      "\u001b[33mWARNING: You are using pip version 19.2.3, however version 19.3.1 is available.\n",
      "You should consider upgrading via the 'pip install --upgrade pip' command.\u001b[0m\n"
     ]
    }
   ],
   "source": [
    "!pip install git+https://github.com/microsoft/dowhy.git --user\n",
    "!pip install graphviz --user\n",
    "from dowhy.do_why import CausalModel\n"
   ]
  },
  {
   "cell_type": "code",
   "execution_count": 16,
   "metadata": {},
   "outputs": [],
   "source": [
    "import dowhy.datasets\n",
    "\n",
    "# Load some sample data\n",
    "data = dowhy.datasets.linear_dataset(\n",
    "    beta=10,\n",
    "    num_common_causes=5,\n",
    "    num_instruments=2,\n",
    "    num_samples=10000,\n",
    "    treatment_is_binary=True)"
   ]
  },
  {
   "cell_type": "code",
   "execution_count": 22,
   "metadata": {},
   "outputs": [
    {
     "data": {
      "image/svg+xml": [
       "<?xml version=\"1.0\" encoding=\"UTF-8\" standalone=\"no\"?>\n",
       "<!DOCTYPE svg PUBLIC \"-//W3C//DTD SVG 1.1//EN\"\n",
       " \"http://www.w3.org/Graphics/SVG/1.1/DTD/svg11.dtd\">\n",
       "<!-- Generated by graphviz version 2.40.1 (20161225.0304)\n",
       " -->\n",
       "<!-- Title: digraph { v &#45;&gt;y; U[label=&quot;Unobserved Confounders&quot;]; U&#45;&gt;v; U&#45;&gt;y;X0&#45;&gt; v; X1&#45;&gt; v; X2&#45;&gt; v; X3&#45;&gt; v; X4&#45;&gt; v;X0&#45;&gt; y; X1&#45;&gt; y; X2&#45;&gt; y; X3&#45;&gt; y; X4&#45;&gt; y;Z0&#45;&gt; v; Z1&#45;&gt; v;} Pages: 1 -->\n",
       "<svg width=\"8pt\" height=\"8pt\"\n",
       " viewBox=\"0.00 0.00 8.00 8.00\" xmlns=\"http://www.w3.org/2000/svg\" xmlns:xlink=\"http://www.w3.org/1999/xlink\">\n",
       "<g id=\"graph0\" class=\"graph\" transform=\"scale(1 1) rotate(0) translate(4 4)\">\n",
       "<title>digraph { v &#45;&gt;y; U[label=&quot;Unobserved Confounders&quot;]; U&#45;&gt;v; U&#45;&gt;y;X0&#45;&gt; v; X1&#45;&gt; v; X2&#45;&gt; v; X3&#45;&gt; v; X4&#45;&gt; v;X0&#45;&gt; y; X1&#45;&gt; y; X2&#45;&gt; y; X3&#45;&gt; y; X4&#45;&gt; y;Z0&#45;&gt; v; Z1&#45;&gt; v;}</title>\n",
       "<polygon fill=\"#ffffff\" stroke=\"transparent\" points=\"-4,4 -4,-4 4,-4 4,4 -4,4\"/>\n",
       "</g>\n",
       "</svg>\n"
      ],
      "text/plain": [
       "<graphviz.dot.Digraph at 0x7f6b7d83c7b8>"
      ]
     },
     "execution_count": 22,
     "metadata": {},
     "output_type": "execute_result"
    }
   ],
   "source": [
    "from graphviz import Digraph\n",
    "dot = Digraph(data['dot_graph'])\n",
    "dot\n"
   ]
  },
  {
   "cell_type": "code",
   "execution_count": 12,
   "metadata": {},
   "outputs": [
    {
     "name": "stderr",
     "output_type": "stream",
     "text": [
      "INFO:dowhy.do_why:Model to find the causal effect of treatment ['v'] on outcome ['y']\n",
      "INFO:dowhy.causal_identifier:Common causes of treatment and outcome:['X2', 'X4', 'X3', 'Unobserved Confounders', 'X0', 'X1']\n",
      "WARNING:dowhy.causal_identifier:There are unobserved common causes. Causal effect cannot be identified.\n"
     ]
    },
    {
     "name": "stdout",
     "output_type": "stream",
     "text": [
      "WARN: Do you want to continue by ignoring these unobserved confounders? [y/n] y\n"
     ]
    },
    {
     "name": "stderr",
     "output_type": "stream",
     "text": [
      "INFO:dowhy.causal_identifier:Instrumental variables for treatment and outcome:['Z1', 'Z0']\n",
      "INFO:dowhy.causal_estimator:INFO: Using Propensity Score Matching Estimator\n",
      "INFO:dowhy.causal_estimator:b: y~v+X2+X4+X3+X0+X1\n",
      "/home/andrea/devel/rfx/rfx-hunch/build/conf/python/site-packages/lib/python3.6/site-packages/dowhy/causal_estimators/propensity_score_matching_estimator.py:51: FutureWarning: `item` has been deprecated and will be removed in a future version\n",
      "  control_outcome = control.iloc[indices[i]][self._outcome_name].item()\n",
      "INFO:dowhy.causal_estimator:INFO: Using Propensity Score Matching Estimator\n",
      "INFO:dowhy.causal_estimator:b: y~v+X2+X4+X3+X0+X1+w_random\n",
      "/home/andrea/devel/rfx/rfx-hunch/build/conf/python/site-packages/lib/python3.6/site-packages/dowhy/causal_estimators/propensity_score_matching_estimator.py:51: FutureWarning: `item` has been deprecated and will be removed in a future version\n",
      "  control_outcome = control.iloc[indices[i]][self._outcome_name].item()\n"
     ]
    }
   ],
   "source": [
    "# Create a causal model from the data and given graph.\n",
    "model = CausalModel(\n",
    "    data=data[\"df\"],\n",
    "    treatment=data[\"treatment_name\"],\n",
    "    outcome=data[\"outcome_name\"],\n",
    "    graph=data[\"gml_graph\"])\n",
    "\n",
    "# Identify causal effect and return target estimands\n",
    "identified_estimand = model.identify_effect()\n",
    "\n",
    "# Estimate the target estimand using a statistical method.\n",
    "estimate = model.estimate_effect(identified_estimand,\n",
    "                                 method_name=\"backdoor.propensity_score_matching\")\n",
    "\n",
    "# Refute the obtained estimate using multiple robustness checks.\n",
    "refute_results = model.refute_estimate(identified_estimand, estimate,\n",
    "                                       method_name=\"random_common_cause\")"
   ]
  }
 ],
 "metadata": {
  "kernelspec": {
   "display_name": "Python 3",
   "language": "python",
   "name": "python3"
  },
  "language_info": {
   "codemirror_mode": {
    "name": "ipython",
    "version": 3
   },
   "file_extension": ".py",
   "mimetype": "text/x-python",
   "name": "python",
   "nbconvert_exporter": "python",
   "pygments_lexer": "ipython3",
   "version": "3.6.8"
  }
 },
 "nbformat": 4,
 "nbformat_minor": 2
}
