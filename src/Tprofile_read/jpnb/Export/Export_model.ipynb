{
 "cells": [
  {
   "cell_type": "code",
   "execution_count": 1,
   "metadata": {},
   "outputs": [
    {
     "name": "stdout",
     "output_type": "stream",
     "text": [
      "Hunch models imported\n",
      "reload set for module  Hunch_utils\n",
      "reload set for module  Dummy_g1data\n",
      "reload set for module  Hunch_lsplot\n",
      "reload set for module  Hunch_tSNEplot\n"
     ]
    }
   ],
   "source": [
    "import numpy as np\n",
    "import tensorflow as tf\n",
    "\n",
    "import matplotlib.pyplot as plt\n",
    "import matplotlib.patches as patches\n",
    "import matplotlib.colors as colors \n",
    "# %matplotlib notebook\n",
    "\n",
    "import ipysh\n",
    "\n",
    "%aimport models.base\n",
    "\n",
    "import Hunch_utils  as Htls\n",
    "import Hunch_lsplot as Hplt\n",
    "import Hunch_tSNEplot as Hsne\n",
    "\n",
    "%aimport Dataset_QSH\n",
    "%aimport models.AEFIT5\n",
    "%aimport models.Compose\n",
    "%aimport models.GAN3\n"
   ]
  },
  {
   "cell_type": "markdown",
   "metadata": {},
   "source": [
    "# TEST QSH\n"
   ]
  },
  {
   "cell_type": "code",
   "execution_count": 2,
   "metadata": {},
   "outputs": [
    {
     "name": "stdout",
     "output_type": "stream",
     "text": [
      "QSH rebalanced 15 points size:  47567\n"
     ]
    }
   ],
   "source": [
    "qsh = Dataset_QSH.Dataset_QSH()\n",
    "import os\n",
    "#file = ipysh.abs_builddir+'/te_db_r15_clean_shuffle.npy'\n",
    "file = ipysh.abs_builddir+'/te_db_r15u_shuffle.npy'\n",
    "try: qsh.load(file)\n",
    "except: raise FileNotFoundError\n",
    "\n",
    "# qsh.shuffle()\n",
    "qsh.dim = None\n",
    "qsh.set_null(np.nan)\n",
    "qsh.set_normal_positive(['prel','te','tbordo','tcentro', 'Ip','NS','VT','F','absBr_rm','argBr_rm','absBt_rm','argBt_rm']) \n",
    "print(\"QSH rebalanced 15 points size: \", len(qsh))\n",
    "\n",
    "\n"
   ]
  },
  {
   "cell_type": "code",
   "execution_count": 3,
   "metadata": {},
   "outputs": [
    {
     "data": {
      "text/plain": [
       "(<tf.Tensor: id=57, shape=(1, 44), dtype=float32, numpy=\n",
       " array([[0.5913013 , 0.7473015 , 0.7180505 , 0.5724611 , 0.250743  ,\n",
       "         0.05380955, 0.02268622, 0.02692102, 0.01763678, 0.01286681,\n",
       "         0.02506381, 0.03940256, 0.04795665, 0.05806868, 0.52077395,\n",
       "         0.79967904, 0.39720488, 0.45643446, 0.41451785, 0.78297186,\n",
       "         0.52624124, 0.7746366 , 0.9453669 , 0.18642354, 0.57343084,\n",
       "         0.05692115, 0.04216208, 0.05203445, 0.02888104, 0.0421698 ,\n",
       "         0.03562685, 0.03385055, 0.03195138, 0.02654408, 0.75487256,\n",
       "         0.9368505 , 0.5767383 , 0.60964626, 0.65717685, 0.70399654,\n",
       "         0.75998366, 0.98576516, 0.28438514, 0.40795994]], dtype=float32)>,\n",
       " <tf.Tensor: id=58, shape=(1, 30), dtype=float32, numpy=\n",
       " array([[0.06214391, 0.10277789, 0.15121816, 0.20828514, 0.27427357,\n",
       "         0.3485927 , 0.42948723, 0.51404023, 0.59859335, 0.6794879 ,\n",
       "         0.75380695, 0.8197954 , 0.8768625 ,        nan,        nan,\n",
       "         0.37615946, 0.3215071 , 0.36501402, 0.3527739 , 0.3810509 ,\n",
       "         0.36691087, 0.3758745 , 0.41237405, 0.47919333, 0.48592854,\n",
       "         0.45741042, 0.41499507, 0.4124186 ,        nan,        nan]],\n",
       "       dtype=float32)>)"
      ]
     },
     "execution_count": 3,
     "metadata": {},
     "output_type": "execute_result"
    }
   ],
   "source": [
    "def _map(xy,p,Br):\n",
    "    pBr = tf.concat([p,Br], axis=0)\n",
    "    return pBr,xy\n",
    "\n",
    "ds = qsh.tf_tuple_compose(['prel~te:15','Ip~NS~VT~F','absBr_rm~argBr_rm~absBt_rm~argBt_rm']).map(lambda x,y,br: _map(x,y,br) )\n",
    "[x for x in ds.shuffle(100).batch(1).take(1)][0]"
   ]
  },
  {
   "cell_type": "code",
   "execution_count": 4,
   "metadata": {},
   "outputs": [
    {
     "name": "stdout",
     "output_type": "stream",
     "text": [
      "AEFIT5 ready:\n"
     ]
    }
   ],
   "source": [
    "vae = models.AEFIT5.AEFIT5(latent_dim=6, feature_dim=30, dprate=0.1, beta=0., scale=2, geometry=[20,20,10,10])\n",
    "vae.compile( vae.optimizer, tf.losses.mse )"
   ]
  },
  {
   "cell_type": "code",
   "execution_count": 5,
   "metadata": {},
   "outputs": [
    {
     "name": "stdout",
     "output_type": "stream",
     "text": [
      "Epoch 1/50\n",
      "     54/Unknown - 5s 101ms/step - loss: 0.0140"
     ]
    },
    {
     "ename": "KeyboardInterrupt",
     "evalue": "",
     "output_type": "error",
     "traceback": [
      "\u001b[0;31m---------------------------------------------------------------------------\u001b[0m",
      "\u001b[0;31mKeyboardInterrupt\u001b[0m                         Traceback (most recent call last)",
      "\u001b[0;32m<ipython-input-5-10b5d75a416e>\u001b[0m in \u001b[0;36m<module>\u001b[0;34m()\u001b[0m\n\u001b[1;32m      1\u001b[0m \u001b[0mdds\u001b[0m \u001b[0;34m=\u001b[0m \u001b[0mds\u001b[0m\u001b[0;34m.\u001b[0m\u001b[0mmap\u001b[0m\u001b[0;34m(\u001b[0m\u001b[0;32mlambda\u001b[0m \u001b[0mp\u001b[0m\u001b[0;34m,\u001b[0m\u001b[0mxy\u001b[0m\u001b[0;34m:\u001b[0m \u001b[0;34m(\u001b[0m\u001b[0mxy\u001b[0m\u001b[0;34m,\u001b[0m\u001b[0mxy\u001b[0m\u001b[0;34m)\u001b[0m\u001b[0;34m)\u001b[0m\u001b[0;34m\u001b[0m\u001b[0;34m\u001b[0m\u001b[0m\n\u001b[0;32m----> 2\u001b[0;31m \u001b[0mvae_history\u001b[0m \u001b[0;34m=\u001b[0m \u001b[0mvae\u001b[0m\u001b[0;34m.\u001b[0m\u001b[0mfit\u001b[0m\u001b[0;34m(\u001b[0m \u001b[0mdds\u001b[0m\u001b[0;34m.\u001b[0m\u001b[0mskip\u001b[0m\u001b[0;34m(\u001b[0m\u001b[0;36m5000\u001b[0m\u001b[0;34m)\u001b[0m\u001b[0;34m.\u001b[0m\u001b[0mbatch\u001b[0m\u001b[0;34m(\u001b[0m\u001b[0;36m100\u001b[0m\u001b[0;34m,\u001b[0m \u001b[0mdrop_remainder\u001b[0m\u001b[0;34m=\u001b[0m\u001b[0;32mTrue\u001b[0m\u001b[0;34m)\u001b[0m\u001b[0;34m,\u001b[0m \u001b[0mvalidation_data\u001b[0m\u001b[0;34m=\u001b[0m\u001b[0mdds\u001b[0m\u001b[0;34m.\u001b[0m\u001b[0mtake\u001b[0m\u001b[0;34m(\u001b[0m\u001b[0;36m5000\u001b[0m\u001b[0;34m)\u001b[0m\u001b[0;34m.\u001b[0m\u001b[0mbatch\u001b[0m\u001b[0;34m(\u001b[0m\u001b[0;36m100\u001b[0m\u001b[0;34m)\u001b[0m\u001b[0;34m,\u001b[0m \u001b[0mepochs\u001b[0m\u001b[0;34m=\u001b[0m\u001b[0;36m50\u001b[0m\u001b[0;34m,\u001b[0m \u001b[0mshuffle\u001b[0m\u001b[0;34m=\u001b[0m\u001b[0;32mFalse\u001b[0m\u001b[0;34m)\u001b[0m\u001b[0;34m\u001b[0m\u001b[0;34m\u001b[0m\u001b[0m\n\u001b[0m",
      "\u001b[0;32m/usr/local/lib/python3.6/dist-packages/tensorflow/python/keras/engine/training.py\u001b[0m in \u001b[0;36mfit\u001b[0;34m(self, x, y, batch_size, epochs, verbose, callbacks, validation_split, validation_data, shuffle, class_weight, sample_weight, initial_epoch, steps_per_epoch, validation_steps, validation_freq, max_queue_size, workers, use_multiprocessing, **kwargs)\u001b[0m\n\u001b[1;32m    726\u001b[0m         \u001b[0mmax_queue_size\u001b[0m\u001b[0;34m=\u001b[0m\u001b[0mmax_queue_size\u001b[0m\u001b[0;34m,\u001b[0m\u001b[0;34m\u001b[0m\u001b[0;34m\u001b[0m\u001b[0m\n\u001b[1;32m    727\u001b[0m         \u001b[0mworkers\u001b[0m\u001b[0;34m=\u001b[0m\u001b[0mworkers\u001b[0m\u001b[0;34m,\u001b[0m\u001b[0;34m\u001b[0m\u001b[0;34m\u001b[0m\u001b[0m\n\u001b[0;32m--> 728\u001b[0;31m         use_multiprocessing=use_multiprocessing)\n\u001b[0m\u001b[1;32m    729\u001b[0m \u001b[0;34m\u001b[0m\u001b[0m\n\u001b[1;32m    730\u001b[0m   def evaluate(self,\n",
      "\u001b[0;32m/usr/local/lib/python3.6/dist-packages/tensorflow/python/keras/engine/training_v2.py\u001b[0m in \u001b[0;36mfit\u001b[0;34m(self, model, x, y, batch_size, epochs, verbose, callbacks, validation_split, validation_data, shuffle, class_weight, sample_weight, initial_epoch, steps_per_epoch, validation_steps, validation_freq, **kwargs)\u001b[0m\n\u001b[1;32m    322\u001b[0m                 \u001b[0mmode\u001b[0m\u001b[0;34m=\u001b[0m\u001b[0mModeKeys\u001b[0m\u001b[0;34m.\u001b[0m\u001b[0mTRAIN\u001b[0m\u001b[0;34m,\u001b[0m\u001b[0;34m\u001b[0m\u001b[0;34m\u001b[0m\u001b[0m\n\u001b[1;32m    323\u001b[0m                 \u001b[0mtraining_context\u001b[0m\u001b[0;34m=\u001b[0m\u001b[0mtraining_context\u001b[0m\u001b[0;34m,\u001b[0m\u001b[0;34m\u001b[0m\u001b[0;34m\u001b[0m\u001b[0m\n\u001b[0;32m--> 324\u001b[0;31m                 total_epochs=epochs)\n\u001b[0m\u001b[1;32m    325\u001b[0m             \u001b[0mcbks\u001b[0m\u001b[0;34m.\u001b[0m\u001b[0mmake_logs\u001b[0m\u001b[0;34m(\u001b[0m\u001b[0mmodel\u001b[0m\u001b[0;34m,\u001b[0m \u001b[0mepoch_logs\u001b[0m\u001b[0;34m,\u001b[0m \u001b[0mtraining_result\u001b[0m\u001b[0;34m,\u001b[0m \u001b[0mModeKeys\u001b[0m\u001b[0;34m.\u001b[0m\u001b[0mTRAIN\u001b[0m\u001b[0;34m)\u001b[0m\u001b[0;34m\u001b[0m\u001b[0;34m\u001b[0m\u001b[0m\n\u001b[1;32m    326\u001b[0m \u001b[0;34m\u001b[0m\u001b[0m\n",
      "\u001b[0;32m/usr/local/lib/python3.6/dist-packages/tensorflow/python/keras/engine/training_v2.py\u001b[0m in \u001b[0;36mrun_one_epoch\u001b[0;34m(model, iterator, execution_function, dataset_size, batch_size, strategy, steps_per_epoch, num_samples, mode, training_context, total_epochs)\u001b[0m\n\u001b[1;32m    172\u001b[0m             batch_end=step * batch_size + current_batch_size)\n\u001b[1;32m    173\u001b[0m       \u001b[0mcbks\u001b[0m\u001b[0;34m.\u001b[0m\u001b[0mmake_logs\u001b[0m\u001b[0;34m(\u001b[0m\u001b[0mmodel\u001b[0m\u001b[0;34m,\u001b[0m \u001b[0mbatch_logs\u001b[0m\u001b[0;34m,\u001b[0m \u001b[0mbatch_outs\u001b[0m\u001b[0;34m,\u001b[0m \u001b[0mmode\u001b[0m\u001b[0;34m)\u001b[0m\u001b[0;34m\u001b[0m\u001b[0;34m\u001b[0m\u001b[0m\n\u001b[0;32m--> 174\u001b[0;31m       \u001b[0mstep\u001b[0m \u001b[0;34m+=\u001b[0m \u001b[0;36m1\u001b[0m\u001b[0;34m\u001b[0m\u001b[0;34m\u001b[0m\u001b[0m\n\u001b[0m\u001b[1;32m    175\u001b[0m \u001b[0;34m\u001b[0m\u001b[0m\n\u001b[1;32m    176\u001b[0m     \u001b[0;32mif\u001b[0m \u001b[0mcallbacks\u001b[0m\u001b[0;34m.\u001b[0m\u001b[0mmodel\u001b[0m\u001b[0;34m.\u001b[0m\u001b[0mstop_training\u001b[0m\u001b[0;34m:\u001b[0m\u001b[0;34m\u001b[0m\u001b[0;34m\u001b[0m\u001b[0m\n",
      "\u001b[0;32m/usr/lib/python3.6/contextlib.py\u001b[0m in \u001b[0;36m__exit__\u001b[0;34m(self, type, value, traceback)\u001b[0m\n\u001b[1;32m     86\u001b[0m         \u001b[0;32mif\u001b[0m \u001b[0mtype\u001b[0m \u001b[0;32mis\u001b[0m \u001b[0;32mNone\u001b[0m\u001b[0;34m:\u001b[0m\u001b[0;34m\u001b[0m\u001b[0;34m\u001b[0m\u001b[0m\n\u001b[1;32m     87\u001b[0m             \u001b[0;32mtry\u001b[0m\u001b[0;34m:\u001b[0m\u001b[0;34m\u001b[0m\u001b[0;34m\u001b[0m\u001b[0m\n\u001b[0;32m---> 88\u001b[0;31m                 \u001b[0mnext\u001b[0m\u001b[0;34m(\u001b[0m\u001b[0mself\u001b[0m\u001b[0;34m.\u001b[0m\u001b[0mgen\u001b[0m\u001b[0;34m)\u001b[0m\u001b[0;34m\u001b[0m\u001b[0;34m\u001b[0m\u001b[0m\n\u001b[0m\u001b[1;32m     89\u001b[0m             \u001b[0;32mexcept\u001b[0m \u001b[0mStopIteration\u001b[0m\u001b[0;34m:\u001b[0m\u001b[0;34m\u001b[0m\u001b[0;34m\u001b[0m\u001b[0m\n\u001b[1;32m     90\u001b[0m                 \u001b[0;32mreturn\u001b[0m \u001b[0;32mFalse\u001b[0m\u001b[0;34m\u001b[0m\u001b[0;34m\u001b[0m\u001b[0m\n",
      "\u001b[0;32m/usr/local/lib/python3.6/dist-packages/tensorflow/python/keras/engine/training_v2.py\u001b[0m in \u001b[0;36mon_batch\u001b[0;34m(self, step, mode, size)\u001b[0m\n\u001b[1;32m    698\u001b[0m       \u001b[0;32mif\u001b[0m \u001b[0;32mnot\u001b[0m \u001b[0mbatch_logs\u001b[0m\u001b[0;34m.\u001b[0m\u001b[0mpop\u001b[0m\u001b[0;34m(\u001b[0m\u001b[0;34m'data_exhausted'\u001b[0m\u001b[0;34m,\u001b[0m \u001b[0;32mFalse\u001b[0m\u001b[0;34m)\u001b[0m\u001b[0;34m:\u001b[0m\u001b[0;34m\u001b[0m\u001b[0;34m\u001b[0m\u001b[0m\n\u001b[1;32m    699\u001b[0m         self.callbacks._call_batch_hook(\n\u001b[0;32m--> 700\u001b[0;31m             mode, 'end', step, batch_logs)\n\u001b[0m\u001b[1;32m    701\u001b[0m         \u001b[0mself\u001b[0m\u001b[0;34m.\u001b[0m\u001b[0mprogbar\u001b[0m\u001b[0;34m.\u001b[0m\u001b[0mon_batch_end\u001b[0m\u001b[0;34m(\u001b[0m\u001b[0mstep\u001b[0m\u001b[0;34m,\u001b[0m \u001b[0mbatch_logs\u001b[0m\u001b[0;34m)\u001b[0m\u001b[0;34m\u001b[0m\u001b[0;34m\u001b[0m\u001b[0m\n",
      "\u001b[0;32m/usr/local/lib/python3.6/dist-packages/tensorflow/python/keras/callbacks.py\u001b[0m in \u001b[0;36m_call_batch_hook\u001b[0;34m(self, mode, hook, batch, logs)\u001b[0m\n\u001b[1;32m    236\u001b[0m     \u001b[0mself\u001b[0m\u001b[0;34m.\u001b[0m\u001b[0m_delta_ts\u001b[0m\u001b[0;34m[\u001b[0m\u001b[0mhook_name\u001b[0m\u001b[0;34m]\u001b[0m\u001b[0;34m.\u001b[0m\u001b[0mappend\u001b[0m\u001b[0;34m(\u001b[0m\u001b[0mtime\u001b[0m\u001b[0;34m.\u001b[0m\u001b[0mtime\u001b[0m\u001b[0;34m(\u001b[0m\u001b[0;34m)\u001b[0m \u001b[0;34m-\u001b[0m \u001b[0mt_before_callbacks\u001b[0m\u001b[0;34m)\u001b[0m\u001b[0;34m\u001b[0m\u001b[0;34m\u001b[0m\u001b[0m\n\u001b[1;32m    237\u001b[0m \u001b[0;34m\u001b[0m\u001b[0m\n\u001b[0;32m--> 238\u001b[0;31m     \u001b[0mdelta_t_median\u001b[0m \u001b[0;34m=\u001b[0m \u001b[0mnp\u001b[0m\u001b[0;34m.\u001b[0m\u001b[0mmedian\u001b[0m\u001b[0;34m(\u001b[0m\u001b[0mself\u001b[0m\u001b[0;34m.\u001b[0m\u001b[0m_delta_ts\u001b[0m\u001b[0;34m[\u001b[0m\u001b[0mhook_name\u001b[0m\u001b[0;34m]\u001b[0m\u001b[0;34m)\u001b[0m\u001b[0;34m\u001b[0m\u001b[0;34m\u001b[0m\u001b[0m\n\u001b[0m\u001b[1;32m    239\u001b[0m     if (self._delta_t_batch > 0. and\n\u001b[1;32m    240\u001b[0m         delta_t_median > 0.95 * self._delta_t_batch and delta_t_median > 0.1):\n",
      "\u001b[0;32m<__array_function__ internals>\u001b[0m in \u001b[0;36mmedian\u001b[0;34m(*args, **kwargs)\u001b[0m\n",
      "\u001b[0;32m/home/andrea/devel/rfx/rfx-hunch/build/conf/python/site-packages/lib/python3.6/site-packages/numpy/lib/function_base.py\u001b[0m in \u001b[0;36mmedian\u001b[0;34m(a, axis, out, overwrite_input, keepdims)\u001b[0m\n\u001b[1;32m   3493\u001b[0m     \"\"\"\n\u001b[1;32m   3494\u001b[0m     r, k = _ureduce(a, func=_median, axis=axis, out=out,\n\u001b[0;32m-> 3495\u001b[0;31m                     overwrite_input=overwrite_input)\n\u001b[0m\u001b[1;32m   3496\u001b[0m     \u001b[0;32mif\u001b[0m \u001b[0mkeepdims\u001b[0m\u001b[0;34m:\u001b[0m\u001b[0;34m\u001b[0m\u001b[0;34m\u001b[0m\u001b[0m\n\u001b[1;32m   3497\u001b[0m         \u001b[0;32mreturn\u001b[0m \u001b[0mr\u001b[0m\u001b[0;34m.\u001b[0m\u001b[0mreshape\u001b[0m\u001b[0;34m(\u001b[0m\u001b[0mk\u001b[0m\u001b[0;34m)\u001b[0m\u001b[0;34m\u001b[0m\u001b[0;34m\u001b[0m\u001b[0m\n",
      "\u001b[0;32m/home/andrea/devel/rfx/rfx-hunch/build/conf/python/site-packages/lib/python3.6/site-packages/numpy/lib/function_base.py\u001b[0m in \u001b[0;36m_ureduce\u001b[0;34m(a, func, **kwargs)\u001b[0m\n\u001b[1;32m   3401\u001b[0m         \u001b[0mkeepdim\u001b[0m \u001b[0;34m=\u001b[0m \u001b[0;34m(\u001b[0m\u001b[0;36m1\u001b[0m\u001b[0;34m,\u001b[0m\u001b[0;34m)\u001b[0m \u001b[0;34m*\u001b[0m \u001b[0ma\u001b[0m\u001b[0;34m.\u001b[0m\u001b[0mndim\u001b[0m\u001b[0;34m\u001b[0m\u001b[0;34m\u001b[0m\u001b[0m\n\u001b[1;32m   3402\u001b[0m \u001b[0;34m\u001b[0m\u001b[0m\n\u001b[0;32m-> 3403\u001b[0;31m     \u001b[0mr\u001b[0m \u001b[0;34m=\u001b[0m \u001b[0mfunc\u001b[0m\u001b[0;34m(\u001b[0m\u001b[0ma\u001b[0m\u001b[0;34m,\u001b[0m \u001b[0;34m**\u001b[0m\u001b[0mkwargs\u001b[0m\u001b[0;34m)\u001b[0m\u001b[0;34m\u001b[0m\u001b[0;34m\u001b[0m\u001b[0m\n\u001b[0m\u001b[1;32m   3404\u001b[0m     \u001b[0;32mreturn\u001b[0m \u001b[0mr\u001b[0m\u001b[0;34m,\u001b[0m \u001b[0mkeepdim\u001b[0m\u001b[0;34m\u001b[0m\u001b[0;34m\u001b[0m\u001b[0m\n\u001b[1;32m   3405\u001b[0m \u001b[0;34m\u001b[0m\u001b[0m\n",
      "\u001b[0;32m/home/andrea/devel/rfx/rfx-hunch/build/conf/python/site-packages/lib/python3.6/site-packages/numpy/lib/function_base.py\u001b[0m in \u001b[0;36m_median\u001b[0;34m(a, axis, out, overwrite_input)\u001b[0m\n\u001b[1;32m   3526\u001b[0m             \u001b[0mpart\u001b[0m \u001b[0;34m=\u001b[0m \u001b[0ma\u001b[0m\u001b[0;34m\u001b[0m\u001b[0;34m\u001b[0m\u001b[0m\n\u001b[1;32m   3527\u001b[0m     \u001b[0;32melse\u001b[0m\u001b[0;34m:\u001b[0m\u001b[0;34m\u001b[0m\u001b[0;34m\u001b[0m\u001b[0m\n\u001b[0;32m-> 3528\u001b[0;31m         \u001b[0mpart\u001b[0m \u001b[0;34m=\u001b[0m \u001b[0mpartition\u001b[0m\u001b[0;34m(\u001b[0m\u001b[0ma\u001b[0m\u001b[0;34m,\u001b[0m \u001b[0mkth\u001b[0m\u001b[0;34m,\u001b[0m \u001b[0maxis\u001b[0m\u001b[0;34m=\u001b[0m\u001b[0maxis\u001b[0m\u001b[0;34m)\u001b[0m\u001b[0;34m\u001b[0m\u001b[0;34m\u001b[0m\u001b[0m\n\u001b[0m\u001b[1;32m   3529\u001b[0m \u001b[0;34m\u001b[0m\u001b[0m\n\u001b[1;32m   3530\u001b[0m     \u001b[0;32mif\u001b[0m \u001b[0mpart\u001b[0m\u001b[0;34m.\u001b[0m\u001b[0mshape\u001b[0m \u001b[0;34m==\u001b[0m \u001b[0;34m(\u001b[0m\u001b[0;34m)\u001b[0m\u001b[0;34m:\u001b[0m\u001b[0;34m\u001b[0m\u001b[0;34m\u001b[0m\u001b[0m\n",
      "\u001b[0;32m<__array_function__ internals>\u001b[0m in \u001b[0;36mpartition\u001b[0;34m(*args, **kwargs)\u001b[0m\n",
      "\u001b[0;32m/home/andrea/devel/rfx/rfx-hunch/build/conf/python/site-packages/lib/python3.6/site-packages/numpy/core/fromnumeric.py\u001b[0m in \u001b[0;36mpartition\u001b[0;34m(a, kth, axis, kind, order)\u001b[0m\n\u001b[1;32m    744\u001b[0m     \u001b[0;32melse\u001b[0m\u001b[0;34m:\u001b[0m\u001b[0;34m\u001b[0m\u001b[0;34m\u001b[0m\u001b[0m\n\u001b[1;32m    745\u001b[0m         \u001b[0ma\u001b[0m \u001b[0;34m=\u001b[0m \u001b[0masanyarray\u001b[0m\u001b[0;34m(\u001b[0m\u001b[0ma\u001b[0m\u001b[0;34m)\u001b[0m\u001b[0;34m.\u001b[0m\u001b[0mcopy\u001b[0m\u001b[0;34m(\u001b[0m\u001b[0morder\u001b[0m\u001b[0;34m=\u001b[0m\u001b[0;34m\"K\"\u001b[0m\u001b[0;34m)\u001b[0m\u001b[0;34m\u001b[0m\u001b[0;34m\u001b[0m\u001b[0m\n\u001b[0;32m--> 746\u001b[0;31m     \u001b[0ma\u001b[0m\u001b[0;34m.\u001b[0m\u001b[0mpartition\u001b[0m\u001b[0;34m(\u001b[0m\u001b[0mkth\u001b[0m\u001b[0;34m,\u001b[0m \u001b[0maxis\u001b[0m\u001b[0;34m=\u001b[0m\u001b[0maxis\u001b[0m\u001b[0;34m,\u001b[0m \u001b[0mkind\u001b[0m\u001b[0;34m=\u001b[0m\u001b[0mkind\u001b[0m\u001b[0;34m,\u001b[0m \u001b[0morder\u001b[0m\u001b[0;34m=\u001b[0m\u001b[0morder\u001b[0m\u001b[0;34m)\u001b[0m\u001b[0;34m\u001b[0m\u001b[0;34m\u001b[0m\u001b[0m\n\u001b[0m\u001b[1;32m    747\u001b[0m     \u001b[0;32mreturn\u001b[0m \u001b[0ma\u001b[0m\u001b[0;34m\u001b[0m\u001b[0;34m\u001b[0m\u001b[0m\n\u001b[1;32m    748\u001b[0m \u001b[0;34m\u001b[0m\u001b[0m\n",
      "\u001b[0;31mKeyboardInterrupt\u001b[0m: "
     ]
    }
   ],
   "source": [
    "dds = ds.map(lambda p,xy: (xy,xy))\n",
    "vae_history = vae.fit( dds.skip(5000).batch(100, drop_remainder=True), validation_data=dds.take(5000).batch(100), epochs=50, shuffle=False)"
   ]
  },
  {
   "cell_type": "code",
   "execution_count": 7,
   "metadata": {},
   "outputs": [],
   "source": [
    "##### vae.save('step12_vae_ls_tesi') \n",
    "vae.load('../step12_vae_ls_tesi')\n",
    "\n",
    "# vae.inference_net.get_config()\n",
    "# tf.saved_model.save(vae.inference_net, '/tmp/thesis/vae/12_7/inference_net')\n",
    "# cacca = tf.saved_model.load('/tmp/thesis/vae/12_7/inference_net')\n"
   ]
  },
  {
   "cell_type": "code",
   "execution_count": 9,
   "metadata": {},
   "outputs": [],
   "source": [
    "pos = 0"
   ]
  },
  {
   "cell_type": "code",
   "execution_count": 17,
   "metadata": {},
   "outputs": [
    {
     "name": "stdout",
     "output_type": "stream",
     "text": [
      "6\n"
     ]
    },
    {
     "data": {
      "image/png": "[encoded data removed]",
      "text/plain": [
       "<Figure size 900x600 with 1 Axes>"
      ]
     },
     "metadata": {},
     "output_type": "display_data"
    }
   ],
   "source": [
    "print(pos)\n",
    "\n",
    "def un(x, min=0., max=2242.511):\n",
    "    return min + x*(max-min)\n",
    "\n",
    "def unx(x, min=-0.373, max=0.353):\n",
    "    return min + x*(max-min)\n",
    "\n",
    "def plot_tf(xy, name=None, h='.'):\n",
    "    fig = plt.figure('plot')    \n",
    "    fig.set_dpi(150)\n",
    "    ax = plt.gca()    \n",
    "    ax.set_ylim(0.,un(0.8))\n",
    "    xy = tf.reshape(xy, [-1])\n",
    "    x,y = tf.split(xy, num_or_size_splits=2, axis=0)\n",
    "    plt.plot(unx(x),un(y),h, label=name)\n",
    "    ax.legend()\n",
    "\n",
    "def plot(x,y, name=None, h='.'):  \n",
    "    fig = plt.figure('plot')    \n",
    "    fig.set_dpi(150)\n",
    "    ax = plt.gca()    \n",
    "    ax.set_ylim(0.,un(0.8))\n",
    "    plt.plot(unx(x),un(y), h, label=name)\n",
    "    #ax.legend()\n",
    "    \n",
    "def plot_bar_x(index, w, title, w2=None):\n",
    "    # this is for plotting purpose\n",
    "    fig = plt.figure(title)\n",
    "    plt.clf()\n",
    "    fig.set_dpi(150)\n",
    "    plt.bar(index, w, color='lightgrey', edgecolor='black')    \n",
    "    # plt.ylabel('plasma parameters', fontsize=10)\n",
    "    plt.xticks(index, fontsize=10)\n",
    "    plt.title(title)\n",
    "    return fig\n",
    "    \n",
    "\n",
    "def plot_te(pos):    \n",
    "    d_pos = [x for x in ds.skip(pos).batch(1).take(1)][0]\n",
    "    # path = '/home/andrea/Documents/phd/Thesis/img/STEP12/STEP12_7'\n",
    "    p  = d_pos[0]\n",
    "    xy = d_pos[1]\n",
    "\n",
    "    fig = plt.figure('plot')\n",
    "    plt.clf()\n",
    "    # plt.text(0.05,0.7, '$I_p = %.2f$'%qsh[pos]['Ip'] )\n",
    "    ax = plt.gca()\n",
    "    ax.set_title( 'Te reconstruction [eV]   '+qsh[pos].label.decode(\"utf-8\") )\n",
    "\n",
    "    XY_vae = vae(xy, training=False)\n",
    "#     ls = gen(d_pos[0], training=False)\n",
    "#     XY = vae.decode(ls, training=False)\n",
    "    # XY = tf.sigmoid(XY)\n",
    "    plot_tf(xy, '$T_e$','-.')\n",
    "    plot_tf(XY_vae, 'ls6','+')\n",
    "#     plot_tf(XY, 'guess','x')\n",
    "    plot(qsh[pos]['prel'],qsh[pos]['te'], '$T_c$')\n",
    "\n",
    "    fig = plt.figure('plot')\n",
    "    # fig.savefig( path+'/Te_rec_'+str(pos)+'.png')\n",
    "\n",
    "# for pos in range(250):\n",
    "#     plot_te(pos)\n",
    "plot_te(pos)\n",
    "pos = pos+1"
   ]
  },
  {
   "cell_type": "code",
   "execution_count": null,
   "metadata": {},
   "outputs": [],
   "source": [
    "q = [q for q in ds.batch(2).take(1)][0]\n",
    "q"
   ]
  },
  {
   "cell_type": "code",
   "execution_count": null,
   "metadata": {},
   "outputs": [],
   "source": [
    "loss = {\n",
    "    'mse' : [],\n",
    "    'sum_e' : [],\n",
    "#    'sum_ve': [],\n",
    "    'max' : [],\n",
    "    'min' : [],\n",
    "    'Ip' : [],\n",
    "    'NS' : [],\n",
    "    'Vt' : [],\n",
    "    'F'  : [],\n",
    "}\n",
    "fig = plt.figure()\n",
    "\n",
    "def un(x, min, max):\n",
    "    return min + x*(max-min)\n",
    "\n",
    "for i,d_pos in enumerate(ds.batch(300).take(10)):\n",
    "    p  = d_pos[0]\n",
    "    xy = d_pos[1]\n",
    "    XY_vae = vae(xy, training=False)\n",
    "    ls = gen(d_pos[0], training=False)\n",
    "    XY = vae.decode(ls, training=False)\n",
    "    \n",
    "    prel = tf.split(p, split_)\n",
    "    \n",
    "    mse = tf.losses.mse(XY_vae,XY)\n",
    "    sum_e = tf.reduce_sum( (XY_vae-XY), axis=1) / 15\n",
    "    max_e = tf.reduce_max( XY_vae-XY, axis=1) \n",
    "    min_e = tf.reduce_min( XY_vae-XY, axis=1) \n",
    "    # plot_tf(XY_vae, 'ls6','+')\n",
    "    # plot_tf(XY, 'guess','x')\n",
    "    for i in range(300):\n",
    "        loss['mse'].append( un(mse[i].numpy(),0.,2242.511) )\n",
    "        loss['sum_e'].append( un(sum_e[i].numpy(),0.,2242.511)  )\n",
    "        loss['max'].append( un(max_e[i].numpy()-min_e[i].numpy(),0.,2242.511)  )\n",
    "        loss['min'].append( un(min_e[i].numpy()-max_e[i].numpy(),0.,2242.511)  )\n",
    "        loss['Ip'].append( un(p[i][0].numpy(),0.41,0.79) )\n",
    "        loss['NS'].append( un(p[i][1].numpy(),2.55,7.69) )\n",
    "        loss['Vt'].append( un(p[i][2].numpy(),161.15, 272.39) ) \n",
    "        loss['F'].append(p[i][3].numpy())\n",
    "    "
   ]
  },
  {
   "cell_type": "code",
   "execution_count": null,
   "metadata": {},
   "outputs": [],
   "source": [
    "import seaborn as sns\n",
    "from scipy import stats\n",
    "\n",
    "#x = np.clip( np.array(loss['sum_e']), a_min=-200., a_max=200. )\n",
    "lim = 200.\n",
    "lim_f = 200.\n",
    "x = np.array(loss['sum_e'])\n",
    "X_in  = x[ (x > -lim_f) & (x < lim_f) ]\n",
    "X_out = x[ (x < -lim_f) | (x > lim_f) ]\n",
    "\n",
    "ax = sns.distplot( x, kde=False ,norm_hist=True, hist_kws={\"range\": [-lim,lim], \"histtype\": \"step\", \"linewidth\": 2, \"color\": \"k\"} );\n",
    "\n",
    "xx = np.arange(-lim,lim, 0.1)\n",
    "mu,std = stats.norm.fit(X_in)\n",
    "yy = stats.norm.pdf(xx,mu,std)\n",
    "ax.plot(xx,yy,'--k', label='norm')\n",
    "\n",
    "# mu,std = stats.logistic.fit(x)\n",
    "# yy = stats.logistic.pdf(xx,mu,std)\n",
    "# ax.plot(xx,yy,'-.r', label='N_2')\n",
    "\n",
    "\n",
    "fig = plt.gcf()\n",
    "fig.set_dpi(150)\n",
    "plt.xlim(-190,190)\n",
    "#plt.legend()\n",
    "\n",
    "ax.set_title('mean SRX reconstruction error')\n",
    "\n",
    "plt.text(100,0.006,'$\\sigma = %.2f$\\nKurt $= %.2f$'%(x.std(),stats.kurtosis(x)))\n",
    "\n",
    "print('norm',stats.norm.fit(x))\n",
    "print('kurt',stats.kurtosis(x))\n",
    "print('logistic',stats.logistic.fit(x))"
   ]
  },
  {
   "cell_type": "code",
   "execution_count": null,
   "metadata": {},
   "outputs": [],
   "source": [
    "import seaborn as sns\n",
    "from scipy import stats\n",
    "\n",
    "#x = np.clip( np.array(loss['sum_e']), a_min=-200., a_max=200. )\n",
    "lim = 200.\n",
    "x = loss['max']\n",
    "# x = x[ x < lim ]\n",
    "# x = x[ x > -lim ]\n",
    "\n",
    "ax = sns.distplot( x, kde=False, norm_hist=True, hist_kws={\"range\": [-lim,lim]} );\n",
    "\n",
    "xx = np.arange(-lim,lim, 0.1)\n",
    "mu,std = stats.norm.fit(x)\n",
    "yy = stats.norm.pdf(xx,mu,std)\n",
    "ax.plot(xx,yy,'--k', label='norm')\n",
    "\n",
    "mu,std = stats.logistic.fit(x)\n",
    "yy = stats.logistic.pdf(xx,mu,std)\n",
    "ax.plot(xx,yy,'-.r', label='logisitc')\n",
    "\n",
    "\n",
    "fig = plt.gcf()\n",
    "fig.set_dpi(150)\n",
    "# plt.xlim(-190,190)\n",
    "plt.legend()\n",
    "\n",
    "ax.set_title('max SRX error distribution')\n",
    "print('norm',stats.norm.fit(x))\n",
    "print('logistic',stats.logistic.fit(x))"
   ]
  },
  {
   "cell_type": "code",
   "execution_count": null,
   "metadata": {},
   "outputs": [],
   "source": [
    "print(len(loss['mse']))\n",
    "fig = plt.figure('params vs mse')\n",
    "fig.set_dpi(150)\n",
    "ax = plt.gca()\n",
    "ax.set_title('Ip [MA] vs mse on reconstructed SXR')\n",
    "# plt.yscale('log')\n",
    "# plt.plot(loss['Ip'],loss['mse'],'+')\n",
    "plt.plot(loss['Ip'],np.log(loss['max']),'x')\n",
    "# plt.plot(loss['NS'],loss['mse'],'x')\n",
    "# plt.plot(loss['Vt'],loss['mse'],'.')\n",
    "# plt.plot(loss['F'],loss['mse'],'.')\n",
    "\n",
    "fig = plt.figure('Ip hist')\n",
    "fig.set_dpi(150)\n",
    "ax = plt.gca()\n",
    "ax.set_title('Ip [MA] vs mse on reconstructed SXR')\n",
    "plt.hist2d(loss['Ip'], np.log(loss['max']), (50, 50), cmap=plt.cm.jet)\n",
    "# plt.hist2d(loss['Ip'], loss['sum_e'], (50, 50), cmap=plt.cm.jet)\n",
    "# plt.colorbar()"
   ]
  },
  {
   "cell_type": "code",
   "execution_count": null,
   "metadata": {},
   "outputs": [],
   "source": [
    "print(len(loss['mse']))\n",
    "fig = plt.figure('params vs mse')\n",
    "fig.set_dpi(150)\n",
    "ax = plt.gca()\n",
    "ax.set_title('NS vs mse on reconstructed SXR')\n",
    "plt.yscale('log')\n",
    "plt.plot(loss['NS'],loss['mse'],'+')\n",
    "\n",
    "\n",
    "fig = plt.figure('NS hist')\n",
    "ax = plt.gca()\n",
    "ax.set_title('NS vs log(mse) on reconstructed SXR')\n",
    "fig.set_dpi(150)\n",
    "plt.hist2d(loss['NS'], np.log(loss['mse']), (50, 50), cmap=plt.cm.jet)\n",
    "# plt.colorbar()\n"
   ]
  }
 ],
 "metadata": {
  "kernelspec": {
   "display_name": "Python 3",
   "language": "python",
   "name": "python3"
  },
  "language_info": {
   "codemirror_mode": {
    "name": "ipython",
    "version": 3
   },
   "file_extension": ".py",
   "mimetype": "text/x-python",
   "name": "python",
   "nbconvert_exporter": "python",
   "pygments_lexer": "ipython3",
   "version": "3.6.8"
  }
 },
 "nbformat": 4,
 "nbformat_minor": 2
}
