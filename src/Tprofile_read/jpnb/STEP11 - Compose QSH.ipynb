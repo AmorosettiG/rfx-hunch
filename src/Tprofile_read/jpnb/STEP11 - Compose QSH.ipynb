{
 "cells": [
  {
   "cell_type": "code",
   "execution_count": null,
   "metadata": {},
   "outputs": [],
   "source": [
    "import numpy as np\n",
    "import tensorflow as tf\n",
    "\n",
    "# %matplotlib inline\n",
    "import matplotlib.pyplot as plt\n",
    "import matplotlib.patches as patches\n",
    "import matplotlib.colors as colors \n",
    "\n",
    "import ipysh\n",
    "\n",
    "%aimport models.base\n",
    "\n",
    "import Hunch_utils  as Htls\n",
    "import Hunch_lsplot as Hplt\n",
    "import Hunch_tSNEplot as Hsne\n",
    "\n",
    "%aimport Dataset_QSH\n",
    "\n",
    "%aimport models.AEFIT4\n",
    "%aimport models.AEFIT5\n",
    "%aimport models.Compose\n",
    "\n",
    "# ipysh.Bootstrap_support.debug()"
   ]
  },
  {
   "cell_type": "markdown",
   "metadata": {},
   "source": [
    "# TEST QSH\n"
   ]
  },
  {
   "cell_type": "code",
   "execution_count": 58,
   "metadata": {},
   "outputs": [
    {
     "name": "stdout",
     "output_type": "stream",
     "text": [
      "QSH rebalanced 15 points size:  47567\n"
     ]
    }
   ],
   "source": [
    "qsh = Dataset_QSH.Dataset_QSH()\n",
    "import os\n",
    "file = ipysh.abs_builddir+'/te_db_r15.npy'\n",
    "if os.path.isfile(file):\n",
    "    qsh.load(file)\n",
    "else:\n",
    "    qsh.load(ipysh.abs_builddir+'/te_db_2.npy')\n",
    "    qsh.rebalance_prel(15)\n",
    "    qsh.save(ipysh.abs_builddir+'/te_db_r15.npy')\n",
    "    \n",
    "qsh.shuffle()\n",
    "qsh.clean_up_poorcurves(5)\n",
    "qsh.dim = None\n",
    "qsh.set_null(np.nan)\n",
    "qsh.set_normal_positive(['prel','te','tbordo','tcentro', 'Ip','NS','VT','F','absBt_rm'])\n",
    "# qsh.unbias_mean(0.5, 'te')\n",
    "# qsh.set_normal_positive()\n",
    "# qsh.clip_values(0.1,0.6)\n",
    "\n",
    "print(\"QSH rebalanced 15 points size: \", len(qsh))"
   ]
  },
  {
   "cell_type": "code",
   "execution_count": 60,
   "metadata": {},
   "outputs": [
    {
     "data": {
      "text/plain": [
       "((<tf.Tensor: id=122644, shape=(2, 30), dtype=float32, numpy=\n",
       "  array([[0.02923839, 0.10359484, 0.15193889, 0.2088925 , 0.27474985,\n",
       "          0.34892136, 0.42965516, 0.51404023, 0.59842545, 0.6791592 ,\n",
       "          0.7533307 , 0.81918806, 0.8761417 , 0.92448574, 0.96503896,\n",
       "          0.15385143, 0.18000965, 0.20395252, 0.21761149, 0.25009662,\n",
       "          0.25743434, 0.26593593, 0.27215624, 0.27120385, 0.2614982 ,\n",
       "          0.2541982 , 0.2371419 , 0.23440257, 0.22467522, 0.20339555],\n",
       "         [0.02827343, 0.10277789, 0.15121816, 0.20828514, 0.27427357,\n",
       "          0.3485927 , 0.42948723, 0.51404023, 0.59859335, 0.6794879 ,\n",
       "          0.75380695, 0.8197954 ,        nan,        nan, 0.96593666,\n",
       "          0.16688667, 0.20140605, 0.22696789, 0.2199681 , 0.24461699,\n",
       "          0.2526117 , 0.26061994, 0.2697237 , 0.27613774, 0.2787423 ,\n",
       "          0.25442   , 0.24112628,        nan,        nan, 0.21159257]],\n",
       "        dtype=float32)>,\n",
       "  <tf.Tensor: id=122645, shape=(2, 6), dtype=float32, numpy=\n",
       "  array([[0.40474495, 0.33440393, 0.49897262, 0.7559619 , 0.7193762 ,\n",
       "          0.4932349 ],\n",
       "         [0.4284527 , 0.33900887, 0.7744686 , 0.50707406, 0.74024326,\n",
       "          0.6955627 ]], dtype=float32)>,\n",
       "  <tf.Tensor: id=122646, shape=(2, 20), dtype=float32, numpy=\n",
       "  array([[ 0.15353833,  0.06594517,  0.01516277,  0.00129822,  0.03949418,\n",
       "           0.01912815, -0.01113385,  0.01566863,  0.00884578, -0.00829605,\n",
       "           0.00029149,  0.00839151,  0.03273795,  0.04993465,  0.02278575,\n",
       "           0.04674238,  0.03040402,  0.01622069,  0.02767679,  0.02564155],\n",
       "         [ 0.1430506 ,  0.07711301, -0.00525919,  0.03871553,  0.04253994,\n",
       "          -0.01118739,  0.00757707,  0.03275089,  0.03156021, -0.00329334,\n",
       "           0.18717064,  0.03973844,  0.06101761,  0.05505801,  0.02273682,\n",
       "           0.05196905,  0.03795584,  0.03554866,  0.00160052,  0.03690933]],\n",
       "        dtype=float32)>),\n",
       " (<tf.Tensor: id=122647, shape=(2, 30), dtype=float32, numpy=\n",
       "  array([[0.02923839, 0.10359484, 0.15193889, 0.2088925 , 0.27474985,\n",
       "          0.34892136, 0.42965516, 0.51404023, 0.59842545, 0.6791592 ,\n",
       "          0.7533307 , 0.81918806, 0.8761417 , 0.92448574, 0.96503896,\n",
       "          0.15385143, 0.18000965, 0.20395252, 0.21761149, 0.25009662,\n",
       "          0.25743434, 0.26593593, 0.27215624, 0.27120385, 0.2614982 ,\n",
       "          0.2541982 , 0.2371419 , 0.23440257, 0.22467522, 0.20339555],\n",
       "         [0.02827343, 0.10277789, 0.15121816, 0.20828514, 0.27427357,\n",
       "          0.3485927 , 0.42948723, 0.51404023, 0.59859335, 0.6794879 ,\n",
       "          0.75380695, 0.8197954 ,        nan,        nan, 0.96593666,\n",
       "          0.16688667, 0.20140605, 0.22696789, 0.2199681 , 0.24461699,\n",
       "          0.2526117 , 0.26061994, 0.2697237 , 0.27613774, 0.2787423 ,\n",
       "          0.25442   , 0.24112628,        nan,        nan, 0.21159257]],\n",
       "        dtype=float32)>,\n",
       "  <tf.Tensor: id=122648, shape=(2, 6), dtype=float32, numpy=\n",
       "  array([[0.40474495, 0.33440393, 0.49897262, 0.7559619 , 0.7193762 ,\n",
       "          0.4932349 ],\n",
       "         [0.4284527 , 0.33900887, 0.7744686 , 0.50707406, 0.74024326,\n",
       "          0.6955627 ]], dtype=float32)>,\n",
       "  <tf.Tensor: id=122649, shape=(2, 20), dtype=float32, numpy=\n",
       "  array([[ 0.15353833,  0.06594517,  0.01516277,  0.00129822,  0.03949418,\n",
       "           0.01912815, -0.01113385,  0.01566863,  0.00884578, -0.00829605,\n",
       "           0.00029149,  0.00839151,  0.03273795,  0.04993465,  0.02278575,\n",
       "           0.04674238,  0.03040402,  0.01622069,  0.02767679,  0.02564155],\n",
       "         [ 0.1430506 ,  0.07711301, -0.00525919,  0.03871553,  0.04253994,\n",
       "          -0.01118739,  0.00757707,  0.03275089,  0.03156021, -0.00329334,\n",
       "           0.18717064,  0.03973844,  0.06101761,  0.05505801,  0.02273682,\n",
       "           0.05196905,  0.03795584,  0.03554866,  0.00160052,  0.03690933]],\n",
       "        dtype=float32)>))"
      ]
     },
     "execution_count": 60,
     "metadata": {},
     "output_type": "execute_result"
    }
   ],
   "source": [
    "def _map(xy,t,s):\n",
    "    # xy = tf.concat([x,y], axis=0)\n",
    "    # t = tf.random.normal([2],mean=0.5, stddev=0.2)\n",
    "    # t = tf.clip_by_value(t, clip_value_min=0., clip_value_max=1.)\n",
    "    #     smod,sarg = tf.split(s, num_or_size_splits=2, axis=0)\n",
    "    #     re, im    = smod * (tf.cos(sarg), tf.sin(sarg))\n",
    "    #     s = tf.concat([re,im], axis=0)\n",
    "    return (xy,t,s),(xy,t,s)\n",
    "# ds = qsh.tf_tuple_compose(['prel','te','tbordo~tcentro~Ip~NS~VT~F','absBt_rm~argBt_rm']).map(lambda x,y,t,s: (_map(x,y,t,s)) )\n",
    "# ds = qsh.tf_tuple_compose(['prel~te:15','tbordo~tcentro~Ip~NS~VT~F','absBt_rm~argBt_rm']).map(lambda x,y,z: ((x,y,z),(x,y,z)))\n",
    "ds = qsh.tf_tuple_compose(['prel~te:15','tbordo~tcentro~Ip~NS~VT~F','Bt']).map(lambda x,y,z: ((x,y,z),(x,y,z)))\n",
    "[x for x in ds.batch(2).take(1)][0]"
   ]
  },
  {
   "cell_type": "code",
   "execution_count": 69,
   "metadata": {},
   "outputs": [
    {
     "name": "stdout",
     "output_type": "stream",
     "text": [
      "AEFIT5 ready:\n",
      "AEFIT5 ready:\n",
      "AEFIT5 ready:\n",
      "AEFIT5 ready:\n"
     ]
    }
   ],
   "source": [
    "m1 = models.AEFIT5.AEFIT5(latent_dim=10, feature_dim=30,  dprate=0., scale=2, geometry=[20,20,10,10], beta=0.) #beta=0.001)\n",
    "m1.load('step10_qsh_fit5_l10')\n",
    "m2 = models.AEFIT5.AEFIT5(latent_dim=6, feature_dim=6,  dprate=0., scale=1, beta=0., name='temp', geometry=[]) # parameters\n",
    "m3 = models.AEFIT5.AEFIT5(latent_dim=20, feature_dim=20,  dprate=0., scale=1, beta=0., name='temp', geometry=[]) # spectrum\n",
    "m3.compile( loss=tf.keras.losses.mean_squared_error )\n",
    "# m2i = tf.keras.Sequential([ tf.keras.layers.InputLayer(input_shape=(6,)) ])\n",
    "# m2i.compile( optimizer=tf.keras.optimizers.Adam(1e-3), loss=tf.keras.losses.mean_absolute_error )\n",
    "hm_feature_dim = m1.latent_dim + m2.latent_dim + m3.latent_dim\n",
    "hm = models.AEFIT5.AEFIT5(latent_dim=20, feature_dim=hm_feature_dim, beta=0., scale=1, name='hidden', geometry=[20,20,10])"
   ]
  },
  {
   "cell_type": "code",
   "execution_count": 70,
   "metadata": {},
   "outputs": [
    {
     "name": "stdout",
     "output_type": "stream",
     "text": [
      "[(None, 30), (None, 6), (None, 20)]\n",
      "WARNING: you are tryig to set a loss where losses should come directly from compose models\n"
     ]
    }
   ],
   "source": [
    "h = models.Compose.Compose().set_model(hm).compose([m1,m2,m3])\n",
    "m1.trainable = False\n",
    "m2.trainable = False\n",
    "m3.trainable = False\n",
    "hm.trainable = True\n",
    "h.compile()"
   ]
  },
  {
   "cell_type": "code",
   "execution_count": 71,
   "metadata": {},
   "outputs": [
    {
     "data": {
      "application/vnd.jupyter.widget-view+json": {
       "model_id": "6a305265426a4a1ab3bad4fea41f6174"
      }
     },
     "metadata": {},
     "output_type": "display_data"
    },
    {
     "data": {
      "application/vnd.jupyter.widget-view+json": {
       "model_id": "d1330441f9894015a9507352ca388492"
      }
     },
     "metadata": {},
     "output_type": "display_data"
    },
    {
     "data": {
      "application/vnd.jupyter.widget-view+json": {
       "model_id": "54cb9973213e462baf9c8277703ba54f"
      }
     },
     "metadata": {},
     "output_type": "display_data"
    },
    {
     "data": {
      "application/vnd.jupyter.widget-view+json": {
       "model_id": "cef58132a5bc4f499bca0a42ba70c689"
      }
     },
     "metadata": {},
     "output_type": "display_data"
    },
    {
     "name": "stdout",
     "output_type": "stream",
     "text": [
      "Epoch 1/12\n",
      "WARNING: you are tryig to set a loss where losses should come directly from compose models\n",
      "     48/Unknown - 5s 112ms/step - loss: nan - output_1_loss: nan - output_2_loss: nan - output_3_loss: nan"
     ]
    },
    {
     "name": "stderr",
     "output_type": "stream",
     "text": [
      "Exception in thread async train:\n",
      "Traceback (most recent call last):\n",
      "  File \"/usr/lib/python3.6/threading.py\", line 916, in _bootstrap_inner\n",
      "    self.run()\n",
      "  File \"/home/andrea/devel/rfx/rfx-hunch/build/conf/python/site-packages/lib/python3.6/site-packages/nbmultitask.py\", line 148, in run\n",
      "    fn(*self._args,**self._kwargs)\n",
      "  File \"/home/andrea/devel/rfx/rfx-hunch/src/Tprofile_read/models/base.py\", line 203, in <lambda>\n",
      "    fn = lambda thread_print: train(model, data, **kwargs)\n",
      "  File \"/home/andrea/devel/rfx/rfx-hunch/src/Tprofile_read/models/base.py\", line 193, in train\n",
      "    history = model.fit(data, epochs=epoch, callbacks=callbacks + tensorboard_log(log_name), verbose=1)\n",
      "  File \"/usr/local/lib/python3.6/dist-packages/tensorflow/python/keras/engine/training.py\", line 643, in fit\n",
      "    use_multiprocessing=use_multiprocessing)\n",
      "  File \"/usr/local/lib/python3.6/dist-packages/tensorflow/python/keras/engine/training_generator.py\", line 694, in fit\n",
      "    steps_name='steps_per_epoch')\n",
      "  File \"/usr/local/lib/python3.6/dist-packages/tensorflow/python/keras/engine/training_generator.py\", line 300, in model_iteration\n",
      "    aggregator.finalize()\n",
      "  File \"/usr/local/lib/python3.6/dist-packages/tensorflow/python/keras/engine/training_utils.py\", line 118, in finalize\n",
      "    self.results[0] /= self.num_samples_or_steps\n",
      "TypeError: unsupported operand type(s) for /: 'float' and 'NoneType'\n",
      "\n"
     ]
    }
   ],
   "source": [
    "models.base.train_thread(h, ds, epoch=12, batch=100, learning_rate=1e-3, callbacks=[]).control_panel()\n",
    "# h.fit(ds.batch(100), epochs=6)"
   ]
  },
  {
   "cell_type": "code",
   "execution_count": null,
   "metadata": {},
   "outputs": [],
   "source": [
    "p = Hplt.LSPlotBokeh()\n",
    "p.set_model(h)\n",
    "p.set_data(qsh, feed_data=ds, counts=1000)\n",
    "p.plot(notebook_url='http://172.17.0.2:8888')"
   ]
  },
  {
   "cell_type": "code",
   "execution_count": 56,
   "metadata": {},
   "outputs": [
    {
     "data": {
      "image/png": "[encoded data removed]",
      "text/plain": [
       "<Figure size 432x288 with 1 Axes>"
      ]
     },
     "metadata": {},
     "output_type": "display_data"
    }
   ],
   "source": [
    "# [ v.name for v in h2.trainable_variables ]\n",
    "def plot(xy):\n",
    "    plt.figure('data')\n",
    "    ax = plt.gca()\n",
    "    ax.set_ylim(0.,1.)\n",
    "    x,y = tf.split(xy[0], num_or_size_splits=2)\n",
    "    plt.plot(x,y,'.')\n",
    "d = [x for x in ds.shuffle(1000).batch(1).take(100)][0]\n",
    "d0 = d[0][0]\n",
    "y0 = h(d[0], training=False)\n",
    "y0 = tf.sigmoid(y0[0])\n",
    "plot(d0)\n",
    "plot(y0)\n",
    "\n"
   ]
  },
  {
   "cell_type": "code",
   "execution_count": null,
   "metadata": {},
   "outputs": [],
   "source": [
    "fig = plt.figure('test_curve',figsize=(18, 6))\n",
    "plt.clf()\n",
    "ax1 = fig.add_subplot(121)\n",
    "ax2 = fig.add_subplot(122)    \n",
    "# ax1.set_xlim(-2.,2.)\n",
    "ax2.set_ylim(0.,1.)\n",
    "\n",
    "sx = []\n",
    "sy = []\n",
    "for xy in ds.batch(1).take(1000):\n",
    "    xy,_ = xy\n",
    "    x,y = tf.split(xy[0],2, axis=1)\n",
    "    me,_  = h.encode(xy, training=False)\n",
    "    gpt = me[0].numpy()\n",
    "    #ax1.scatter(gpt[0],gpt[1])\n",
    "    sx.append(gpt[0])\n",
    "    sy.append(gpt[1])\n",
    "\n",
    "ax1.scatter(sx,sy)\n",
    "    \n",
    "for xy in ds.shuffle(100).batch(1).take(1):    \n",
    "    xy,_ = xy\n",
    "    x,y = tf.split(xy[0],2, axis=1)\n",
    "    ax2.scatter(x,y,s=80)\n",
    "    me,_  = h.encode(xy, training=False)\n",
    "    gpt = me[0].numpy()\n",
    "    ax1.scatter(gpt[0],gpt[1])\n",
    "    \n",
    "    XY = h.decode(me, training=False)[0]\n",
    "    XY = tf.sigmoid(XY)\n",
    "    X,Y = tf.split(XY[0], num_or_size_splits=2)\n",
    "    X,Y = (X.numpy(), Y.numpy())\n",
    "    ax2.scatter(X,Y,s=40)\n",
    "\n",
    "print(qsh_pos)    \n",
    "qsh_pos += 1"
   ]
  },
  {
   "cell_type": "code",
   "execution_count": null,
   "metadata": {},
   "outputs": [],
   "source": [
    "xy,_ = [x for x in ds.batch(2).take(1)][0]\n",
    "me,va = h.encode(xy)\n",
    "XY = h.decode(me, apply_sigmoid=True)\n",
    "XY[0][0]"
   ]
  }
 ],
 "metadata": {
  "kernelspec": {
   "display_name": "Python 3",
   "language": "python",
   "name": "python3"
  },
  "language_info": {
   "codemirror_mode": {
    "name": "ipython",
    "version": 3
   },
   "file_extension": ".py",
   "mimetype": "text/x-python",
   "name": "python",
   "nbconvert_exporter": "python",
   "pygments_lexer": "ipython3",
   "version": "3.6.8"
  }
 },
 "nbformat": 4,
 "nbformat_minor": 2
}
