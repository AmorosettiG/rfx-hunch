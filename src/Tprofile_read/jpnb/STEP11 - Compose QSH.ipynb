{
 "cells": [
  {
   "cell_type": "code",
   "execution_count": 1,
   "metadata": {},
   "outputs": [
    {
     "name": "stdout",
     "output_type": "stream",
     "text": [
      "Hunch models imported\n",
      "reload set for module  Hunch_utils\n",
      "reload set for module  Dummy_g1data\n",
      "reload set for module  Hunch_lsplot\n",
      "reload set for module  Hunch_tSNEplot\n"
     ]
    }
   ],
   "source": [
    "import numpy as np\n",
    "import tensorflow as tf\n",
    "\n",
    "# %matplotlib inline\n",
    "import matplotlib.pyplot as plt\n",
    "import matplotlib.patches as patches\n",
    "import matplotlib.colors as colors \n",
    "\n",
    "import ipysh\n",
    "\n",
    "%aimport models.base\n",
    "\n",
    "import Hunch_utils  as Htls\n",
    "import Hunch_lsplot as Hplt\n",
    "import Hunch_tSNEplot as Hsne\n",
    "\n",
    "%aimport Dataset_QSH\n",
    "%aimport models.AEFIT5\n",
    "%aimport models.Compose\n",
    "\n",
    "# ipysh.Bootstrap_support.debug()"
   ]
  },
  {
   "cell_type": "code",
   "execution_count": 2,
   "metadata": {},
   "outputs": [
    {
     "name": "stderr",
     "output_type": "stream",
     "text": [
      "Using TensorFlow backend.\n"
     ]
    }
   ],
   "source": [
    "\n",
    "import livelossplot.keras\n",
    "class PlotLossesCallback(livelossplot.keras.PlotLossesCallback):\n",
    "    def on_train_batch_begin(self, a, b): pass\n",
    "    def on_train_batch_end(self, a, b): pass\n",
    "    def on_test_begin(self, a): pass\n",
    "    def on_test_end(self, a): pass\n",
    "    def on_test_batch_begin(self, a, b): pass\n",
    "    def on_test_batch_end(self, a, b): pass\n",
    "\n",
    "    \n",
    "class PlotRelevanceCallback(tf.keras.callbacks.Callback):\n",
    "    def on_epoch_end(self, epoch, logs=None):\n",
    "        fig, (ax1, ax2, ax3) = plt.subplots(1, 3)\n",
    "        fig.set_size_inches(13, 3)\n",
    "        w = self.model.layers[0].weights\n",
    "        ax1.bar(range(0,4), w[0][0:4])\n",
    "        labels = ['Ip','NS','Vt','F']\n",
    "        plt.sca(ax1)\n",
    "        plt.xticks(range(0,4), labels, fontsize=10)\n",
    "        ax2.bar(range(7,17), w[0][4:14])\n",
    "        plt.sca(ax2)\n",
    "        plt.xticks(range(7,17), fontsize=10)        \n",
    "        ax3.bar(range(7,17), w[0][14:24])\n",
    "        plt.sca(ax3)\n",
    "        plt.xticks(range(7,17), fontsize=10)       \n"
   ]
  },
  {
   "cell_type": "markdown",
   "metadata": {},
   "source": [
    "# TEST QSH\n"
   ]
  },
  {
   "cell_type": "code",
   "execution_count": 3,
   "metadata": {},
   "outputs": [
    {
     "name": "stdout",
     "output_type": "stream",
     "text": [
      "QSH rebalanced 15 points size:  47567\n"
     ]
    }
   ],
   "source": [
    "qsh = Dataset_QSH.Dataset_QSH()\n",
    "import os\n",
    "file = ipysh.abs_builddir+'/te_db_r15u_shuffle.npy'\n",
    "qsh.load(file)\n",
    "\n",
    "qsh.clean_up_poorcurves(5)\n",
    "qsh.dim = None\n",
    "qsh.set_null(np.nan)\n",
    "qsh.set_normal_positive(['prel','te','tbordo','tcentro', 'Ip','NS','VT','F'])\n",
    "\n",
    "print(\"QSH rebalanced 15 points size: \", len(qsh))"
   ]
  },
  {
   "cell_type": "code",
   "execution_count": 3,
   "metadata": {},
   "outputs": [
    {
     "name": "stderr",
     "output_type": "stream",
     "text": [
      "WARNING: Logging before flag parsing goes to stderr.\n",
      "W0827 15:38:33.070436 140038506567488 deprecation.py:323] From /usr/local/lib/python3.6/dist-packages/tensorflow/python/data/ops/dataset_ops.py:504: py_func (from tensorflow.python.ops.script_ops) is deprecated and will be removed in a future version.\n",
      "Instructions for updating:\n",
      "tf.py_func is deprecated in TF V2. Instead, there are two\n",
      "    options available in V2.\n",
      "    - tf.py_function takes a python function which manipulates tf eager\n",
      "    tensors instead of numpy arrays. It's easy to convert a tf eager tensor to\n",
      "    an ndarray (just call tensor.numpy()) but having access to eager tensors\n",
      "    means `tf.py_function`s can use accelerators such as GPUs as well as\n",
      "    being differentiable using a gradient tape.\n",
      "    - tf.numpy_function maintains the semantics of the deprecated tf.py_func\n",
      "    (it is not differentiable, and manipulates numpy arrays). It drops the\n",
      "    stateful argument making all functions stateful.\n",
      "    \n"
     ]
    },
    {
     "data": {
      "text/plain": [
       "((<tf.Tensor: id=58, shape=(2, 30), dtype=float32, numpy=\n",
       "  array([[0.02827343, 0.10277789, 0.15121816, 0.20828514, 0.27427357,\n",
       "          0.3485927 , 0.42948723, 0.51404023, 0.59859335, 0.6794879 ,\n",
       "          0.75380695, 0.8197954 , 0.8768625 , 0.9253027 , 0.96593666,\n",
       "          0.4479652 , 0.44344586, 0.45555127, 0.4537953 , 0.5063059 ,\n",
       "          0.5167111 , 0.5173698 , 0.5186978 , 0.52560556, 0.51645434,\n",
       "          0.506659  , 0.46800196, 0.49627608, 0.46119475, 0.40441918],\n",
       "         [0.02827343, 0.10277789, 0.15121816, 0.20828514, 0.27427357,\n",
       "          0.3485927 , 0.42948723, 0.51404023, 0.59859335, 0.6794879 ,\n",
       "          0.75380695, 0.8197954 , 0.8768625 ,        nan, 0.96593666,\n",
       "          0.43686265, 0.44403887, 0.50573033, 0.49210274, 0.5513555 ,\n",
       "          0.5651434 , 0.527565  , 0.5273857 , 0.5077054 , 0.5078784 ,\n",
       "          0.4662639 , 0.4378279 , 0.46724635,        nan, 0.31878376]],\n",
       "        dtype=float32)>, <tf.Tensor: id=59, shape=(2, 6), dtype=float32, numpy=\n",
       "  array([[0.3852216 , 0.2779437 , 0.41836616, 0.6796525 , 0.7426944 ,\n",
       "          0.47269478],\n",
       "         [0.34701556, 0.40717682, 0.9569977 , 0.65200037, 0.8873066 ,\n",
       "          0.59071094]], dtype=float32)>, <tf.Tensor: id=60, shape=(2, 20), dtype=float32, numpy=\n",
       "  array([[ 5.18068206e-03, -2.10580794e-04, -2.90322845e-04,\n",
       "           2.41465145e-03,  2.35645821e-05,  2.05843500e-03,\n",
       "           1.62014924e-03,  4.11712390e-04,  1.65466184e-03,\n",
       "           1.15612173e-03,  8.90054798e-04,  3.30348685e-03,\n",
       "           2.99657229e-03,  1.36369525e-03,  2.42600823e-03,\n",
       "           4.00569465e-04,  1.68996095e-03,  2.44082720e-03,\n",
       "           2.26462915e-04,  1.24659482e-03],\n",
       "         [ 2.70144008e-02, -1.18561089e-03,  2.69618561e-03,\n",
       "           1.72982365e-03, -8.45648290e-04,  1.00630312e-03,\n",
       "           1.73802185e-03,  9.52775590e-04, -1.77119407e-04,\n",
       "           7.18096679e-04,  7.98064470e-03,  2.67556170e-03,\n",
       "           8.46121751e-04,  2.16019130e-03,  2.97028944e-03,\n",
       "           1.84581138e-03,  1.12351554e-04,  1.62017019e-03,\n",
       "           1.10644370e-03,  7.06885476e-04]], dtype=float32)>),\n",
       " (<tf.Tensor: id=61, shape=(2, 30), dtype=float32, numpy=\n",
       "  array([[0.02827343, 0.10277789, 0.15121816, 0.20828514, 0.27427357,\n",
       "          0.3485927 , 0.42948723, 0.51404023, 0.59859335, 0.6794879 ,\n",
       "          0.75380695, 0.8197954 , 0.8768625 , 0.9253027 , 0.96593666,\n",
       "          0.4479652 , 0.44344586, 0.45555127, 0.4537953 , 0.5063059 ,\n",
       "          0.5167111 , 0.5173698 , 0.5186978 , 0.52560556, 0.51645434,\n",
       "          0.506659  , 0.46800196, 0.49627608, 0.46119475, 0.40441918],\n",
       "         [0.02827343, 0.10277789, 0.15121816, 0.20828514, 0.27427357,\n",
       "          0.3485927 , 0.42948723, 0.51404023, 0.59859335, 0.6794879 ,\n",
       "          0.75380695, 0.8197954 , 0.8768625 ,        nan, 0.96593666,\n",
       "          0.43686265, 0.44403887, 0.50573033, 0.49210274, 0.5513555 ,\n",
       "          0.5651434 , 0.527565  , 0.5273857 , 0.5077054 , 0.5078784 ,\n",
       "          0.4662639 , 0.4378279 , 0.46724635,        nan, 0.31878376]],\n",
       "        dtype=float32)>, <tf.Tensor: id=62, shape=(2, 6), dtype=float32, numpy=\n",
       "  array([[0.3852216 , 0.2779437 , 0.41836616, 0.6796525 , 0.7426944 ,\n",
       "          0.47269478],\n",
       "         [0.34701556, 0.40717682, 0.9569977 , 0.65200037, 0.8873066 ,\n",
       "          0.59071094]], dtype=float32)>, <tf.Tensor: id=63, shape=(2, 20), dtype=float32, numpy=\n",
       "  array([[ 5.18068206e-03, -2.10580794e-04, -2.90322845e-04,\n",
       "           2.41465145e-03,  2.35645821e-05,  2.05843500e-03,\n",
       "           1.62014924e-03,  4.11712390e-04,  1.65466184e-03,\n",
       "           1.15612173e-03,  8.90054798e-04,  3.30348685e-03,\n",
       "           2.99657229e-03,  1.36369525e-03,  2.42600823e-03,\n",
       "           4.00569465e-04,  1.68996095e-03,  2.44082720e-03,\n",
       "           2.26462915e-04,  1.24659482e-03],\n",
       "         [ 2.70144008e-02, -1.18561089e-03,  2.69618561e-03,\n",
       "           1.72982365e-03, -8.45648290e-04,  1.00630312e-03,\n",
       "           1.73802185e-03,  9.52775590e-04, -1.77119407e-04,\n",
       "           7.18096679e-04,  7.98064470e-03,  2.67556170e-03,\n",
       "           8.46121751e-04,  2.16019130e-03,  2.97028944e-03,\n",
       "           1.84581138e-03,  1.12351554e-04,  1.62017019e-03,\n",
       "           1.10644370e-03,  7.06885476e-04]], dtype=float32)>))"
      ]
     },
     "execution_count": 3,
     "metadata": {},
     "output_type": "execute_result"
    }
   ],
   "source": [
    "Bt_min, Bt_max = np.nanmin(qsh['Bt']), np.nanmax(qsh['Bt'])\n",
    "def _map(xy,p,Bt):\n",
    "    # Bt = (Bt-Bt_min)/(Bt_max-Bt_min)\n",
    "    return (xy,p,Bt),(xy,p,Bt)\n",
    "# ds = qsh.tf_tuple_compose(['prel','te','tbordo~tcentro~Ip~NS~VT~F','absBt_rm~argBt_rm']).map(lambda x,y,t,s: (_map(x,y,t,s)) )\n",
    "# ds = qsh.tf_tuple_compose(['prel~te:15','tbordo~tcentro~Ip~NS~VT~F','absBt_rm~argBt_rm']).map(lambda x,y,z: ((x,y,z),(x,y,z)))\n",
    "ds = qsh.tf_tuple_compose(['prel~te:15','tbordo~tcentro~Ip~NS~VT~F','Bt']).map(lambda x,y,z: _map(x,y,z) )\n",
    "[x for x in ds.shuffle(100).batch(2).take(1)][0]"
   ]
  },
  {
   "cell_type": "code",
   "execution_count": 7,
   "metadata": {},
   "outputs": [
    {
     "name": "stdout",
     "output_type": "stream",
     "text": [
      "AEFIT5 ready:\n",
      "AEFIT5 ready:\n",
      "AEFIT5 ready:\n",
      "AEFIT5 ready:\n",
      "[(None, 30), (None, 6), (None, 20)]\n"
     ]
    }
   ],
   "source": [
    "m1 = models.AEFIT5.AEFIT5(latent_dim=10, feature_dim=30,  dprate=0., scale=2, geometry=[20,20,10,10], beta=0.) #beta=0.001)\n",
    "m1.load('step10_qsh_fit5_l10')\n",
    "m2 = models.AEFIT5.AEFIT5(latent_dim=6, feature_dim=6,  dprate=0., scale=1, beta=0., name='temp', geometry=[]) # parameters\n",
    "m3 = models.AEFIT5.AEFIT5(latent_dim=20, feature_dim=20,  dprate=0., scale=1, beta=0., name='spectrum', geometry=[]) # spectrum\n",
    "# m3.compile( loss=tf.keras.losses.mean_squared_error )\n",
    "# m2i = tf.keras.Sequential([ tf.keras.layers.InputLayer(input_shape=(6,)) ])\n",
    "# m2i.compile( optimizer=tf.keras.optimizers.Adam(1e-3), loss=tf.keras.losses.mean_absolute_error )\n",
    "hm_feature_dim = m1.latent_dim + m2.latent_dim + m3.latent_dim\n",
    "hm = models.AEFIT5.AEFIT5(latent_dim=2, feature_dim=hm_feature_dim, beta=0., scale=1, name='hidden', geometry=[20,20,20])\n",
    "h = models.Compose.Compose().set_model(hm).compose([m1,m2,m3])"
   ]
  },
  {
   "cell_type": "code",
   "execution_count": 8,
   "metadata": {},
   "outputs": [],
   "source": [
    "m1.trainable = False\n",
    "m2.trainable = False\n",
    "m3.trainable = False\n",
    "hm.trainable = True\n",
    "h.loss_weights = [0.6,0.2,0.2]\n",
    "h.compile( )"
   ]
  },
  {
   "cell_type": "code",
   "execution_count": 9,
   "metadata": {},
   "outputs": [
    {
     "data": {
      "application/vnd.jupyter.widget-view+json": {
       "model_id": "d000adbf08ab410993f4c2ea477865eb"
      }
     },
     "metadata": {},
     "output_type": "display_data"
    },
    {
     "data": {
      "application/vnd.jupyter.widget-view+json": {
       "model_id": "8a0bae0be7474c7f80af986ae79a58bd"
      }
     },
     "metadata": {},
     "output_type": "display_data"
    },
    {
     "data": {
      "application/vnd.jupyter.widget-view+json": {
       "model_id": "3604639578664f76b9ffae450b78773d"
      }
     },
     "metadata": {},
     "output_type": "display_data"
    },
    {
     "data": {
      "application/vnd.jupyter.widget-view+json": {
       "model_id": "96c3442785ab435f9ae8dab544d588c7"
      }
     },
     "metadata": {},
     "output_type": "display_data"
    },
    {
     "name": "stdout",
     "output_type": "stream",
     "text": [
      "Epoch 1/30\n",
      "WARNING: you are tryig to set a loss where losses should come directly from compose models\n",
      "475/475 [==============================] - 22s 47ms/step - loss: 22.5625 - output_1_loss: 18.6595 - output_2_loss: 3.8308 - output_3_loss: 0.6638\n",
      "Epoch 2/30\n",
      "415/475 [=========================>....] - ETA: 2s - loss: 22.3456 - output_1_loss: 18.5670 - output_2_loss: 3.5462 - output_3_loss: 0.2530"
     ]
    }
   ],
   "source": [
    "# hm.beta = 1.\n",
    "# h.compile()\n",
    "models.base.train_thread(h, ds, epoch=30, batch=100, learning_rate=1e-3, callbacks=[]).control_panel()\n",
    "# h.fit(ds.batch(100), epochs=6)"
   ]
  },
  {
   "cell_type": "code",
   "execution_count": null,
   "metadata": {},
   "outputs": [],
   "source": [
    "hm2 = models.AEFIT5.AEFIT5(latent_dim=2, feature_dim=h.latent_dim, beta=0., scale=1, name='hm2', geometry=[10])\n",
    "h2  = models.Compose.Compose().set_model(hm2).compose([h])\n",
    "hm2.trainable = True\n",
    "h.trainable = False\n",
    "h2.compile( loss=hm2.loss )\n",
    "\n",
    "models.base.train_thread(h2, ds, epoch=3, batch=100, learning_rate=1e-3, callbacks=[]).control_panel()"
   ]
  },
  {
   "cell_type": "code",
   "execution_count": null,
   "metadata": {},
   "outputs": [],
   "source": [
    "p = Hplt.LSPlotBokeh()\n",
    "p.set_model(h)\n",
    "p.set_data(qsh, feed_data=ds, counts=1000)\n",
    "p.plot(notebook_url='http://172.17.0.2:8888')"
   ]
  },
  {
   "cell_type": "code",
   "execution_count": 10,
   "metadata": {},
   "outputs": [
    {
     "data": {
      "image/png": "[encoded data removed]",
      "text/plain": [
       "<Figure size 432x288 with 1 Axes>"
      ]
     },
     "metadata": {},
     "output_type": "display_data"
    }
   ],
   "source": [
    "# [ v.name for v in h2.trainable_variables ]\n",
    "def plot(xy):\n",
    "    plt.figure('data')\n",
    "    ax = plt.gca()\n",
    "    ax.set_ylim(0.,1.)\n",
    "    x,y = tf.split(xy[0], num_or_size_splits=2)\n",
    "    plt.plot(x,y,'.')\n",
    "d = [x for x in ds.shuffle(1000).batch(1).take(100)][0]\n",
    "d0 = d[0][0]\n",
    "y0 = h(d[0], training=False)\n",
    "y0 = tf.sigmoid(y0[0])\n",
    "plot(d0)\n",
    "plot(y0)\n",
    "\n"
   ]
  },
  {
   "cell_type": "code",
   "execution_count": null,
   "metadata": {},
   "outputs": [],
   "source": [
    "# tbordo tcentro Ip NS VT F\n",
    "xy,_ =  [x for x in ds.batch(1).take(1)][0]\n",
    "par = xy[2]\n",
    "\n",
    "l,_ = h.encode(xy, training=False)\n",
    "XY  = h.decode(l, training=False, apply_sigmoid=True) \n",
    "PAR = XY[2]\n",
    "\n",
    "print( list(zip(par, PAR)) )\n"
   ]
  },
  {
   "cell_type": "code",
   "execution_count": null,
   "metadata": {},
   "outputs": [],
   "source": [
    "fig = plt.figure('test_curve',figsize=(18, 6))\n",
    "plt.clf()\n",
    "ax1 = fig.add_subplot(121)\n",
    "ax2 = fig.add_subplot(122)    \n",
    "# ax1.set_xlim(-2.,2.)\n",
    "ax2.set_ylim(0.,1.)\n",
    "\n",
    "# sx = []\n",
    "# sy = []\n",
    "# for xy in ds.batch(1).take(1000):\n",
    "#     xy,_ = xy\n",
    "#     x,y = tf.split(xy[0],2, axis=1)\n",
    "#     me,_  = h.encode(xy, training=False)\n",
    "#     gpt = me[0].numpy()\n",
    "#     #ax1.scatter(gpt[0],gpt[1])\n",
    "#     sx.append(gpt[0])\n",
    "#     sy.append(gpt[1])\n",
    "\n",
    "# ax1.scatter(sx,sy)\n",
    "    \n",
    "for xy in ds.shuffle(100).batch(1).take(1):    \n",
    "    xy,_ = xy\n",
    "    x,y = tf.split(xy[0],2, axis=1)\n",
    "    ax2.scatter(x,y,s=80)\n",
    "    me,_  = h.encode(xy, training=False)\n",
    "    gpt = me[0].numpy()\n",
    "    ax1.scatter(gpt[0],gpt[1])\n",
    "    \n",
    "    XY = h.decode(me, training=False)[0]\n",
    "    XY = tf.sigmoid(XY)\n",
    "    X,Y = tf.split(XY[0], num_or_size_splits=2)\n",
    "    X,Y = (X.numpy(), Y.numpy())\n",
    "    ax2.scatter(X,Y,s=40)\n",
    "\n",
    "print(qsh_pos)    \n",
    "qsh_pos += 1"
   ]
  },
  {
   "cell_type": "code",
   "execution_count": null,
   "metadata": {},
   "outputs": [],
   "source": [
    "xy,_ = [x for x in ds.batch(2).take(1)][0]\n",
    "me,va = h.encode(xy)\n",
    "XY = h.decode(me, apply_sigmoid=True)\n",
    "XY[0][0]"
   ]
  }
 ],
 "metadata": {
  "kernelspec": {
   "display_name": "Python 3",
   "language": "python",
   "name": "python3"
  },
  "language_info": {
   "codemirror_mode": {
    "name": "ipython",
    "version": 3
   },
   "file_extension": ".py",
   "mimetype": "text/x-python",
   "name": "python",
   "nbconvert_exporter": "python",
   "pygments_lexer": "ipython3",
   "version": "3.6.8"
  }
 },
 "nbformat": 4,
 "nbformat_minor": 2
}
