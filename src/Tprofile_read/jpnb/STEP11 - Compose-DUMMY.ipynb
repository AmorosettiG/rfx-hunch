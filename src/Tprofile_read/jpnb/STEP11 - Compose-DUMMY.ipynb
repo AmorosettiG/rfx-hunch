{
 "cells": [
  {
   "cell_type": "code",
   "execution_count": 2,
   "metadata": {},
   "outputs": [],
   "source": [
    "import numpy as np\n",
    "import tensorflow as tf\n",
    "\n",
    "# %matplotlib inline\n",
    "import matplotlib.pyplot as plt\n",
    "import matplotlib.patches as patches\n",
    "import matplotlib.colors as colors \n",
    "\n",
    "import ipysh\n",
    "\n",
    "%aimport models.base\n",
    "\n",
    "import Hunch_utils  as Htls\n",
    "import Hunch_lsplot as Hplt\n",
    "import Hunch_tSNEplot as Hsne\n",
    "\n",
    "%aimport Dataset_QSH\n",
    "\n",
    "%aimport models.AEFIT4\n",
    "%aimport models.AEFIT5\n",
    "%aimport models.Compose\n",
    "\n",
    "# ipysh.Bootstrap_support.debug()"
   ]
  },
  {
   "cell_type": "code",
   "execution_count": null,
   "metadata": {},
   "outputs": [],
   "source": [
    "#\n",
    "# TEST DUMMY\n",
    "#"
   ]
  },
  {
   "cell_type": "code",
   "execution_count": 3,
   "metadata": {},
   "outputs": [
    {
     "data": {
      "text/plain": [
       "[{'gain': [1, 1], 'mean': [0.2, 0.8], 'sigma': [0.1, 0.1]},\n",
       " {'gain': [0.5], 'mean': [0.8], 'sigma': [0.1]},\n",
       " {'gain': [0.5], 'mean': [0.2], 'sigma': [0.1]},\n",
       " {'gain': [1], 'mean': [0.5], 'sigma': [0.2]},\n",
       " {'gain': [0.5], 'mean': [0.5], 'sigma': [0.2]}]"
      ]
     },
     "execution_count": 3,
     "metadata": {},
     "output_type": "execute_result"
    }
   ],
   "source": [
    "import Dummy_g1data as dummy\n",
    "du = dummy.Dummy_g1data(counts=40000, size=15).buffer()\n",
    "du.kinds"
   ]
  },
  {
   "cell_type": "code",
   "execution_count": null,
   "metadata": {},
   "outputs": [],
   "source": []
  },
  {
   "cell_type": "code",
   "execution_count": 40,
   "metadata": {},
   "outputs": [
    {
     "data": {
      "text/plain": [
       "((<tf.Tensor: id=82755, shape=(2, 30), dtype=float32, numpy=\n",
       "  array([[2.37567797e-02, 3.11355162e-02, 1.24474995e-01, 1.83595479e-01,\n",
       "          2.24507436e-01, 3.39551449e-01, 4.39334869e-01, 4.47981566e-01,\n",
       "          6.46757841e-01, 7.30183899e-01, 7.37802565e-01, 8.02170396e-01,\n",
       "          8.49713862e-01, 8.62091780e-01, 9.77449238e-01, 2.93564722e-02,\n",
       "          3.20303626e-02, 8.57872367e-02, 1.43052295e-01, 1.93621695e-01,\n",
       "          3.62422764e-01, 4.77519453e-01, 4.83370811e-01, 3.81986290e-01,\n",
       "          2.57829934e-01, 2.46591270e-01, 1.59695849e-01, 1.08403534e-01,\n",
       "          9.70986262e-02, 2.89374255e-02],\n",
       "         [7.49629810e-02, 1.67475507e-01, 3.01845700e-01, 4.05557394e-01,\n",
       "          4.69648421e-01, 5.70598483e-01, 7.33125448e-01, 8.50086868e-01,\n",
       "          8.61611724e-01, 9.14452553e-01, 9.22549248e-01, 9.37079966e-01,\n",
       "          9.38336074e-01, 9.39869463e-01, 9.78026211e-01, 2.28810757e-01,\n",
       "          4.74241167e-01, 2.97668576e-01, 6.04559965e-02, 1.31851947e-02,\n",
       "          5.20714908e-04, 3.36629512e-07, 3.32695954e-10, 1.56236593e-10,\n",
       "          4.11957838e-12, 2.30251582e-12, 7.97344233e-13, 7.26778446e-13,\n",
       "          6.48905734e-13, 3.58516724e-14]], dtype=float32)>,\n",
       "  <tf.Tensor: id=82756, shape=(2, 2), dtype=float32, numpy=\n",
       "  array([[0.2, 0.5],\n",
       "         [0.1, 0.5]], dtype=float32)>),\n",
       " (<tf.Tensor: id=82757, shape=(2, 30), dtype=float32, numpy=\n",
       "  array([[2.37567797e-02, 3.11355162e-02, 1.24474995e-01, 1.83595479e-01,\n",
       "          2.24507436e-01, 3.39551449e-01, 4.39334869e-01, 4.47981566e-01,\n",
       "          6.46757841e-01, 7.30183899e-01, 7.37802565e-01, 8.02170396e-01,\n",
       "          8.49713862e-01, 8.62091780e-01, 9.77449238e-01, 2.93564722e-02,\n",
       "          3.20303626e-02, 8.57872367e-02, 1.43052295e-01, 1.93621695e-01,\n",
       "          3.62422764e-01, 4.77519453e-01, 4.83370811e-01, 3.81986290e-01,\n",
       "          2.57829934e-01, 2.46591270e-01, 1.59695849e-01, 1.08403534e-01,\n",
       "          9.70986262e-02, 2.89374255e-02],\n",
       "         [7.49629810e-02, 1.67475507e-01, 3.01845700e-01, 4.05557394e-01,\n",
       "          4.69648421e-01, 5.70598483e-01, 7.33125448e-01, 8.50086868e-01,\n",
       "          8.61611724e-01, 9.14452553e-01, 9.22549248e-01, 9.37079966e-01,\n",
       "          9.38336074e-01, 9.39869463e-01, 9.78026211e-01, 2.28810757e-01,\n",
       "          4.74241167e-01, 2.97668576e-01, 6.04559965e-02, 1.31851947e-02,\n",
       "          5.20714908e-04, 3.36629512e-07, 3.32695954e-10, 1.56236593e-10,\n",
       "          4.11957838e-12, 2.30251582e-12, 7.97344233e-13, 7.26778446e-13,\n",
       "          6.48905734e-13, 3.58516724e-14]], dtype=float32)>,\n",
       "  <tf.Tensor: id=82758, shape=(2, 2), dtype=float32, numpy=\n",
       "  array([[0.2, 0.5],\n",
       "         [0.1, 0.5]], dtype=float32)>))"
      ]
     },
     "execution_count": 40,
     "metadata": {},
     "output_type": "execute_result"
    }
   ],
   "source": [
    "def fit_input(x,y,t):\n",
    "    xy = tf.concat([x,y], axis=0)\n",
    "    return (xy,t),(xy,t)\n",
    "    \n",
    "ds = du.tf_tuple_compose(['x','y','l_mean_sigma~l_mean_gain']).map(lambda x,y,t: fit_input(x,y,t) )\n",
    "[x for x in ds.batch(2).take(1)][0]\n"
   ]
  },
  {
   "cell_type": "code",
   "execution_count": 50,
   "metadata": {},
   "outputs": [
    {
     "name": "stdout",
     "output_type": "stream",
     "text": [
      "AEFIT5 ready:\n",
      "AEFIT5 ready:\n",
      "AEFIT5 ready:\n",
      "Model: \"sequential_70\"\n",
      "_________________________________________________________________\n",
      "Layer (type)                 Output Shape              Param #   \n",
      "=================================================================\n",
      "lambda_38 (Lambda)           (None, 2)                 0         \n",
      "_________________________________________________________________\n",
      "dense_263 (Dense)            (None, 4)                 12        \n",
      "=================================================================\n",
      "Total params: 12\n",
      "Trainable params: 12\n",
      "Non-trainable params: 0\n",
      "_________________________________________________________________\n",
      "Model: \"sequential_71\"\n",
      "_________________________________________________________________\n",
      "Layer (type)                 Output Shape              Param #   \n",
      "=================================================================\n",
      "dense_264 (Dense)            (None, 2)                 6         \n",
      "=================================================================\n",
      "Total params: 6\n",
      "Trainable params: 6\n",
      "Non-trainable params: 0\n",
      "_________________________________________________________________\n"
     ]
    }
   ],
   "source": [
    "m1 = models.AEFIT5.AEFIT5(latent_dim=30, feature_dim=30,  dprate=0., scale=1, beta=0., name='sxr', geometry=[])\n",
    "m2 = models.AEFIT5.AEFIT5(latent_dim=2, feature_dim=2,  dprate=0., scale=1, beta=0., name='temp', geometry=[])\n",
    "m2.compile( loss=tf.keras.losses.mean_absolute_error )\n",
    "hm_feature_dim = m1.latent_dim + m2.latent_dim\n",
    "hm = models.AEFIT5.AEFIT5(latent_dim=6, feature_dim=hm_feature_dim, beta=0., name='hidden', scale=2, geometry=[20,20,10])\n",
    "\n",
    "m2.inference_net.summary()\n",
    "m2.generative_net.summary()\n"
   ]
  },
  {
   "cell_type": "code",
   "execution_count": 51,
   "metadata": {},
   "outputs": [
    {
     "name": "stdout",
     "output_type": "stream",
     "text": [
      "[(None, 30), (None, 2)]\n"
     ]
    }
   ],
   "source": [
    "h = models.Compose.Compose().set_model(hm).compose([m1,m2])\n",
    "h._model.bypass = False\n",
    "m1.trainable = True\n",
    "m2.trainable = True\n",
    "hm.trainable = True\n",
    "h.compile( )"
   ]
  },
  {
   "cell_type": "code",
   "execution_count": 88,
   "metadata": {},
   "outputs": [
    {
     "name": "stdout",
     "output_type": "stream",
     "text": [
      "Epoch 1/5\n",
      "400/400 [==============================] - 21s 51ms/step - loss: 13.2695 - output_1_loss: 13.2557 - output_2_loss: 0.0138\n",
      "Epoch 2/5\n",
      "400/400 [==============================] - 20s 51ms/step - loss: 13.2426 - output_1_loss: 13.2303 - output_2_loss: 0.0123\n",
      "Epoch 3/5\n",
      "400/400 [==============================] - 20s 51ms/step - loss: 13.2306 - output_1_loss: 13.2200 - output_2_loss: 0.0106\n",
      "Epoch 4/5\n",
      "400/400 [==============================] - 20s 51ms/step - loss: 13.2043 - output_1_loss: 13.1953 - output_2_loss: 0.0090\n",
      "Epoch 5/5\n",
      "400/400 [==============================] - 20s 51ms/step - loss: 13.1966 - output_1_loss: 13.1882 - output_2_loss: 0.0084\n"
     ]
    },
    {
     "data": {
      "text/plain": [
       "<tensorflow.python.keras.callbacks.History at 0x7f7407dcae80>"
      ]
     },
     "execution_count": 88,
     "metadata": {},
     "output_type": "execute_result"
    }
   ],
   "source": [
    "h.fit(ds.batch(100), epochs=5)"
   ]
  },
  {
   "cell_type": "code",
   "execution_count": 134,
   "metadata": {},
   "outputs": [
    {
     "data": {
      "image/png": "[encoded data removed]",
      "text/plain": [
       "<Figure size 432x288 with 1 Axes>"
      ]
     },
     "metadata": {},
     "output_type": "display_data"
    }
   ],
   "source": [
    "# [ v.name for v in h2.trainable_variables ]\n",
    "def plot(xy):\n",
    "    plt.figure('data')\n",
    "    axes = plt.gca()\n",
    "    axes.set_ylim([0,1.2])\n",
    "    ax = plt.get\n",
    "    x,y = tf.split(xy[0], num_or_size_splits=2)\n",
    "    plt.plot(x,y,'.')\n",
    "d = [x for x in ds.shuffle(100).batch(1).take(100)][0]\n",
    "d0 = d[0][0]\n",
    "y0 = h(d[0], training=False)\n",
    "y0 = tf.sigmoid(y0[0][0])\n",
    "# y0 = y0[0][0]\n",
    "plot(d0)\n",
    "plot(y0)"
   ]
  },
  {
   "cell_type": "code",
   "execution_count": null,
   "metadata": {},
   "outputs": [],
   "source": [
    "# p = Hplt.LSPlotBokeh()\n",
    "# p.set_model(h)\n",
    "# p.set_data(, counts=1000)\n",
    "# p.plot(notebook_url='http://172.17.0.2:8888')"
   ]
  }
 ],
 "metadata": {
  "kernelspec": {
   "display_name": "Python 3",
   "language": "python",
   "name": "python3"
  },
  "language_info": {
   "codemirror_mode": {
    "name": "ipython",
    "version": 3
   },
   "file_extension": ".py",
   "mimetype": "text/x-python",
   "name": "python",
   "nbconvert_exporter": "python",
   "pygments_lexer": "ipython3",
   "version": "3.6.8"
  }
 },
 "nbformat": 4,
 "nbformat_minor": 2
}
