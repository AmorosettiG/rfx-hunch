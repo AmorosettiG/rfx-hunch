{
 "cells": [
  {
   "cell_type": "code",
   "execution_count": 1,
   "metadata": {},
   "outputs": [
    {
     "name": "stderr",
     "output_type": "stream",
     "text": [
      "/usr/local/lib/python3.6/dist-packages/tensorflow/python/framework/dtypes.py:516: FutureWarning: Passing (type, 1) or '1type' as a synonym of type is deprecated; in a future version of numpy, it will be understood as (type, (1,)) / '(1,)type'.\n",
      "  _np_qint8 = np.dtype([(\"qint8\", np.int8, 1)])\n",
      "/usr/local/lib/python3.6/dist-packages/tensorflow/python/framework/dtypes.py:517: FutureWarning: Passing (type, 1) or '1type' as a synonym of type is deprecated; in a future version of numpy, it will be understood as (type, (1,)) / '(1,)type'.\n",
      "  _np_quint8 = np.dtype([(\"quint8\", np.uint8, 1)])\n",
      "/usr/local/lib/python3.6/dist-packages/tensorflow/python/framework/dtypes.py:518: FutureWarning: Passing (type, 1) or '1type' as a synonym of type is deprecated; in a future version of numpy, it will be understood as (type, (1,)) / '(1,)type'.\n",
      "  _np_qint16 = np.dtype([(\"qint16\", np.int16, 1)])\n",
      "/usr/local/lib/python3.6/dist-packages/tensorflow/python/framework/dtypes.py:519: FutureWarning: Passing (type, 1) or '1type' as a synonym of type is deprecated; in a future version of numpy, it will be understood as (type, (1,)) / '(1,)type'.\n",
      "  _np_quint16 = np.dtype([(\"quint16\", np.uint16, 1)])\n",
      "/usr/local/lib/python3.6/dist-packages/tensorflow/python/framework/dtypes.py:520: FutureWarning: Passing (type, 1) or '1type' as a synonym of type is deprecated; in a future version of numpy, it will be understood as (type, (1,)) / '(1,)type'.\n",
      "  _np_qint32 = np.dtype([(\"qint32\", np.int32, 1)])\n",
      "/usr/local/lib/python3.6/dist-packages/tensorflow/python/framework/dtypes.py:525: FutureWarning: Passing (type, 1) or '1type' as a synonym of type is deprecated; in a future version of numpy, it will be understood as (type, (1,)) / '(1,)type'.\n",
      "  np_resource = np.dtype([(\"resource\", np.ubyte, 1)])\n",
      "/usr/local/lib/python3.6/dist-packages/tensorboard/compat/tensorflow_stub/dtypes.py:541: FutureWarning: Passing (type, 1) or '1type' as a synonym of type is deprecated; in a future version of numpy, it will be understood as (type, (1,)) / '(1,)type'.\n",
      "  _np_qint8 = np.dtype([(\"qint8\", np.int8, 1)])\n",
      "/usr/local/lib/python3.6/dist-packages/tensorboard/compat/tensorflow_stub/dtypes.py:542: FutureWarning: Passing (type, 1) or '1type' as a synonym of type is deprecated; in a future version of numpy, it will be understood as (type, (1,)) / '(1,)type'.\n",
      "  _np_quint8 = np.dtype([(\"quint8\", np.uint8, 1)])\n",
      "/usr/local/lib/python3.6/dist-packages/tensorboard/compat/tensorflow_stub/dtypes.py:543: FutureWarning: Passing (type, 1) or '1type' as a synonym of type is deprecated; in a future version of numpy, it will be understood as (type, (1,)) / '(1,)type'.\n",
      "  _np_qint16 = np.dtype([(\"qint16\", np.int16, 1)])\n",
      "/usr/local/lib/python3.6/dist-packages/tensorboard/compat/tensorflow_stub/dtypes.py:544: FutureWarning: Passing (type, 1) or '1type' as a synonym of type is deprecated; in a future version of numpy, it will be understood as (type, (1,)) / '(1,)type'.\n",
      "  _np_quint16 = np.dtype([(\"quint16\", np.uint16, 1)])\n",
      "/usr/local/lib/python3.6/dist-packages/tensorboard/compat/tensorflow_stub/dtypes.py:545: FutureWarning: Passing (type, 1) or '1type' as a synonym of type is deprecated; in a future version of numpy, it will be understood as (type, (1,)) / '(1,)type'.\n",
      "  _np_qint32 = np.dtype([(\"qint32\", np.int32, 1)])\n",
      "/usr/local/lib/python3.6/dist-packages/tensorboard/compat/tensorflow_stub/dtypes.py:550: FutureWarning: Passing (type, 1) or '1type' as a synonym of type is deprecated; in a future version of numpy, it will be understood as (type, (1,)) / '(1,)type'.\n",
      "  np_resource = np.dtype([(\"resource\", np.ubyte, 1)])\n"
     ]
    },
    {
     "name": "stdout",
     "output_type": "stream",
     "text": [
      "Hunch models imported\n",
      "reload set for module  Hunch_utils\n",
      "reload set for module  Dummy_g1data\n",
      "reload set for module  Hunch_lsplot\n",
      "reload set for module  Hunch_tSNEplot\n"
     ]
    }
   ],
   "source": [
    "import numpy as np\n",
    "import tensorflow as tf\n",
    "\n",
    "# %matplotlib inline\n",
    "import matplotlib.pyplot as plt\n",
    "import matplotlib.patches as patches\n",
    "import matplotlib.colors as colors \n",
    "\n",
    "import ipysh\n",
    "\n",
    "%aimport models.base\n",
    "\n",
    "import Hunch_utils  as Htls\n",
    "import Hunch_lsplot as Hplt\n",
    "import Hunch_tSNEplot as Hsne\n",
    "\n",
    "%aimport Dataset_QSH\n",
    "\n",
    "%aimport models.AEFIT4\n",
    "%aimport models.AEFIT5\n",
    "%aimport models.Compose\n",
    "\n",
    "# ipysh.Bootstrap_support.debug()"
   ]
  },
  {
   "cell_type": "code",
   "execution_count": 2,
   "metadata": {},
   "outputs": [],
   "source": [
    "#\n",
    "# TEST DUMMY\n",
    "#"
   ]
  },
  {
   "cell_type": "code",
   "execution_count": 3,
   "metadata": {},
   "outputs": [
    {
     "data": {
      "text/plain": [
       "[{'gain': [1, 1], 'mean': [0.2, 0.8], 'sigma': [0.1, 0.1]},\n",
       " {'gain': [0.5], 'mean': [0.8], 'sigma': [0.1]},\n",
       " {'gain': [0.5], 'mean': [0.2], 'sigma': [0.1]},\n",
       " {'gain': [1], 'mean': [0.5], 'sigma': [0.2]},\n",
       " {'gain': [0.5], 'mean': [0.5], 'sigma': [0.2]}]"
      ]
     },
     "execution_count": 3,
     "metadata": {},
     "output_type": "execute_result"
    }
   ],
   "source": [
    "import Dummy_g1data as dummy\n",
    "du = dummy.Dummy_g1data(counts=40000, size=15).buffer()\n",
    "du.kinds\n"
   ]
  },
  {
   "cell_type": "code",
   "execution_count": null,
   "metadata": {},
   "outputs": [],
   "source": []
  },
  {
   "cell_type": "code",
   "execution_count": 4,
   "metadata": {},
   "outputs": [
    {
     "name": "stderr",
     "output_type": "stream",
     "text": [
      "WARNING: Logging before flag parsing goes to stderr.\n",
      "W0825 15:06:40.789375 139636988213056 deprecation.py:323] From /usr/local/lib/python3.6/dist-packages/tensorflow/python/data/ops/dataset_ops.py:504: py_func (from tensorflow.python.ops.script_ops) is deprecated and will be removed in a future version.\n",
      "Instructions for updating:\n",
      "tf.py_func is deprecated in TF V2. Instead, there are two\n",
      "    options available in V2.\n",
      "    - tf.py_function takes a python function which manipulates tf eager\n",
      "    tensors instead of numpy arrays. It's easy to convert a tf eager tensor to\n",
      "    an ndarray (just call tensor.numpy()) but having access to eager tensors\n",
      "    means `tf.py_function`s can use accelerators such as GPUs as well as\n",
      "    being differentiable using a gradient tape.\n",
      "    - tf.numpy_function maintains the semantics of the deprecated tf.py_func\n",
      "    (it is not differentiable, and manipulates numpy arrays). It drops the\n",
      "    stateful argument making all functions stateful.\n",
      "    \n"
     ]
    },
    {
     "data": {
      "text/plain": [
       "((<tf.Tensor: id=56, shape=(2, 30), dtype=float32, numpy=\n",
       "  array([[0.07558347, 0.20626032, 0.33751637, 0.3730902 , 0.48453468,\n",
       "          0.49878204, 0.5175363 , 0.5725821 , 0.5751529 , 0.60467464,\n",
       "          0.65615964, 0.7284977 , 0.75370455, 0.8846998 , 0.9259087 ,\n",
       "          0.4611768 , 0.99804235, 0.3884934 , 0.22368473, 0.02435944,\n",
       "          0.02223118, 0.02497717, 0.07629237, 0.08071234, 0.14871414,\n",
       "          0.35543346, 0.7744299 , 0.898379  , 0.69858193, 0.45264384],\n",
       "         [0.11635655, 0.14814048, 0.4185214 , 0.44793615, 0.45188752,\n",
       "          0.46437433, 0.4823113 , 0.53264415, 0.64313495, 0.653127  ,\n",
       "          0.7197749 , 0.7240315 , 0.7491017 , 0.7791314 , 0.81415564,\n",
       "          0.07942629, 0.10638282, 0.4601827 , 0.4833423 , 0.48573974,\n",
       "          0.49213016, 0.49804825, 0.4933839 , 0.38703415, 0.37297428,\n",
       "          0.2733753 , 0.26699543, 0.23020323, 0.1887982 , 0.14561065]],\n",
       "        dtype=float32)>, <tf.Tensor: id=57, shape=(2, 6), dtype=float32, numpy=\n",
       "  array([[0.1, 1. , 1. , 1. , 1. , 1. ],\n",
       "         [0.2, 0.5, 0.5, 0.5, 0.5, 0.5]], dtype=float32)>),\n",
       " (<tf.Tensor: id=58, shape=(2, 30), dtype=float32, numpy=\n",
       "  array([[0.07558347, 0.20626032, 0.33751637, 0.3730902 , 0.48453468,\n",
       "          0.49878204, 0.5175363 , 0.5725821 , 0.5751529 , 0.60467464,\n",
       "          0.65615964, 0.7284977 , 0.75370455, 0.8846998 , 0.9259087 ,\n",
       "          0.4611768 , 0.99804235, 0.3884934 , 0.22368473, 0.02435944,\n",
       "          0.02223118, 0.02497717, 0.07629237, 0.08071234, 0.14871414,\n",
       "          0.35543346, 0.7744299 , 0.898379  , 0.69858193, 0.45264384],\n",
       "         [0.11635655, 0.14814048, 0.4185214 , 0.44793615, 0.45188752,\n",
       "          0.46437433, 0.4823113 , 0.53264415, 0.64313495, 0.653127  ,\n",
       "          0.7197749 , 0.7240315 , 0.7491017 , 0.7791314 , 0.81415564,\n",
       "          0.07942629, 0.10638282, 0.4601827 , 0.4833423 , 0.48573974,\n",
       "          0.49213016, 0.49804825, 0.4933839 , 0.38703415, 0.37297428,\n",
       "          0.2733753 , 0.26699543, 0.23020323, 0.1887982 , 0.14561065]],\n",
       "        dtype=float32)>, <tf.Tensor: id=59, shape=(2, 6), dtype=float32, numpy=\n",
       "  array([[0.1, 1. , 1. , 1. , 1. , 1. ],\n",
       "         [0.2, 0.5, 0.5, 0.5, 0.5, 0.5]], dtype=float32)>))"
      ]
     },
     "execution_count": 4,
     "metadata": {},
     "output_type": "execute_result"
    }
   ],
   "source": [
    "ds = du.tf_tuple_compose(['x','y','l_mean_sigma~l_mean_gain~l_mean_gain~l_mean_gain~l_mean_gain~l_mean_gain']).map(lambda x,y,t: ((tf.concat([x,y], axis=0),t),(tf.concat([x,y], axis=0),t)) )\n",
    "[x for x in ds.batch(2).take(1)][0]\n",
    "# d"
   ]
  },
  {
   "cell_type": "code",
   "execution_count": 42,
   "metadata": {},
   "outputs": [
    {
     "name": "stdout",
     "output_type": "stream",
     "text": [
      "AEFIT5 ready:\n",
      "AEFIT5 ready:\n",
      "AEFIT5 ready:\n"
     ]
    }
   ],
   "source": [
    "m1 = models.AEFIT5.AEFIT5(latent_dim=6, feature_dim=30,  dprate=0., scale=1, beta=0., name='sxr', geometry=[20,20,10])\n",
    "m2 = models.AEFIT5.AEFIT5(latent_dim=6, feature_dim=6,  dprate=0., scale=1, beta=0., name='temp', geometry=[])\n",
    "m2.compile( loss=tf.keras.losses.mean_absolute_error )\n",
    "hm_feature_dim = m1.latent_dim + m2.latent_dim\n",
    "hm = models.AEFIT5.AEFIT5(latent_dim=6, feature_dim=hm_feature_dim, beta=0., name='hidden', scale=2, geometry=[20,20,10])\n"
   ]
  },
  {
   "cell_type": "code",
   "execution_count": 43,
   "metadata": {},
   "outputs": [
    {
     "name": "stdout",
     "output_type": "stream",
     "text": [
      "[(None, 30), (None, 6)]\n"
     ]
    }
   ],
   "source": [
    "h = models.Compose.Compose().set_model(hm).compose([m1,m2])\n",
    "h._model.bypass = False\n",
    "m1.trainable = True\n",
    "m2.trainable = True\n",
    "hm.trainable = True\n",
    "h.compile( )"
   ]
  },
  {
   "cell_type": "code",
   "execution_count": 44,
   "metadata": {},
   "outputs": [
    {
     "name": "stdout",
     "output_type": "stream",
     "text": [
      "Epoch 1/5\n",
      "WARNING: you are tryig to set a loss where losses should come directly from compose models\n",
      "400/400 [==============================] - 30s 76ms/step - loss: 0.6129 - output_1_loss: 0.5579 - output_2_loss: 0.1514\n",
      "Epoch 2/5\n",
      "400/400 [==============================] - 21s 53ms/step - loss: 0.5338 - output_1_loss: 0.5143 - output_2_loss: 0.0329\n",
      "Epoch 3/5\n",
      "400/400 [==============================] - 21s 54ms/step - loss: 0.5397 - output_1_loss: 0.4957 - output_2_loss: 0.0287\n",
      "Epoch 4/5\n",
      "400/400 [==============================] - 21s 53ms/step - loss: 0.5213 - output_1_loss: 0.5030 - output_2_loss: 0.0180\n",
      "Epoch 5/5\n",
      "400/400 [==============================] - 21s 53ms/step - loss: 0.5168 - output_1_loss: 0.5009 - output_2_loss: 0.0164\n"
     ]
    },
    {
     "data": {
      "text/plain": [
       "<tensorflow.python.keras.callbacks.History at 0x7efed3142710>"
      ]
     },
     "execution_count": 44,
     "metadata": {},
     "output_type": "execute_result"
    }
   ],
   "source": [
    "h.fit(ds.batch(100), epochs=5)"
   ]
  },
  {
   "cell_type": "code",
   "execution_count": 36,
   "metadata": {},
   "outputs": [
    {
     "data": {
      "image/png": "[encoded data removed]",
      "text/plain": [
       "<Figure size 432x288 with 1 Axes>"
      ]
     },
     "metadata": {},
     "output_type": "display_data"
    }
   ],
   "source": [
    "# [ v.name for v in h2.trainable_variables ]\n",
    "def plot(xy):\n",
    "    plt.figure('data')\n",
    "    axes = plt.gca()\n",
    "    axes.set_ylim([0,1.2])\n",
    "    ax = plt.get\n",
    "    x,y = tf.split(xy[0], num_or_size_splits=2)\n",
    "    plt.plot(x,y,'.')\n",
    "d = [x for x in ds.shuffle(100).batch(1).take(100)][0]\n",
    "d0 = d[0][0]\n",
    "y0 = h(d[0], training=False)\n",
    "y0 = tf.sigmoid(y0[0][0])\n",
    "# y0 = y0[0][0]\n",
    "plot(d0)\n",
    "plot(y0)"
   ]
  },
  {
   "cell_type": "code",
   "execution_count": 9,
   "metadata": {},
   "outputs": [],
   "source": [
    "# p = Hplt.LSPlotBokeh()\n",
    "# p.set_model(h)\n",
    "# p.set_data(, counts=1000)\n",
    "# p.plot(notebook_url='http://172.17.0.2:8888')"
   ]
  }
 ],
 "metadata": {
  "kernelspec": {
   "display_name": "Python 3",
   "language": "python",
   "name": "python3"
  },
  "language_info": {
   "codemirror_mode": {
    "name": "ipython",
    "version": 3
   },
   "file_extension": ".py",
   "mimetype": "text/x-python",
   "name": "python",
   "nbconvert_exporter": "python",
   "pygments_lexer": "ipython3",
   "version": "3.6.8"
  }
 },
 "nbformat": 4,
 "nbformat_minor": 2
}
