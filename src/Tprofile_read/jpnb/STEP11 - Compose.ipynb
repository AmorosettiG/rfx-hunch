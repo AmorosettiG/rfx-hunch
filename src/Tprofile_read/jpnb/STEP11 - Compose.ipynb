{
 "cells": [
  {
   "cell_type": "code",
   "execution_count": 2,
   "metadata": {},
   "outputs": [],
   "source": [
    "import numpy as np\n",
    "import tensorflow as tf\n",
    "\n",
    "# %matplotlib inline\n",
    "import matplotlib.pyplot as plt\n",
    "import matplotlib.patches as patches\n",
    "import matplotlib.colors as colors \n",
    "\n",
    "import ipysh\n",
    "\n",
    "%aimport models.base\n",
    "\n",
    "import Hunch_utils  as Htls\n",
    "import Hunch_lsplot as Hplt\n",
    "import Hunch_tSNEplot as Hsne\n",
    "\n",
    "%aimport models.AEFIT4\n",
    "%aimport models.AEFIT5\n",
    "%aimport models.Compose\n",
    "\n",
    "# ipysh.Bootstrap_support.debug()"
   ]
  },
  {
   "cell_type": "code",
   "execution_count": 3,
   "metadata": {},
   "outputs": [],
   "source": [
    "import Dummy_g1data as dummy\n",
    "du1 = dummy.Dummy_g1data(counts=40000, size=15).buffer()\n",
    "du2 = dummy.Dummy_g1data(counts=40000, size=20)"
   ]
  },
  {
   "cell_type": "code",
   "execution_count": 44,
   "metadata": {},
   "outputs": [
    {
     "name": "stdout",
     "output_type": "stream",
     "text": [
      "AEFIT5 ready:\n",
      "AEFIT5 ready:\n",
      "AEFIT5 ready:\n"
     ]
    }
   ],
   "source": [
    "m1 = models.AEFIT5.AEFIT5(latent_dim=30, feature_dim=30,  dprate=0., scale=1, beta=0., name='m1', geometry=[1])\n",
    "m2 = models.AEFIT5.AEFIT5(latent_dim=30, feature_dim=30,  dprate=0., scale=1, beta=0., name='m2', geometry=[1])\n",
    "hm = models.AEFIT5.AEFIT5(latent_dim=10, feature_dim=60, beta=0., name='hidden', scale=2) #, geometry=[20,20,10,10])"
   ]
  },
  {
   "cell_type": "code",
   "execution_count": null,
   "metadata": {},
   "outputs": [],
   "source": [
    "d = du1.ds_array.batch(100).map(lambda x,y: (x,x) )\n",
    "m1.fit(d, epochs=1)"
   ]
  },
  {
   "cell_type": "code",
   "execution_count": null,
   "metadata": {},
   "outputs": [],
   "source": [
    "d = du1.ds_array.batch(100).map(lambda x,y: (x,x) )\n",
    "m2.fit(d, epochs=1)"
   ]
  },
  {
   "cell_type": "code",
   "execution_count": 45,
   "metadata": {},
   "outputs": [
    {
     "name": "stdout",
     "output_type": "stream",
     "text": [
      "[(None, 30), (None, 30)]\n"
     ]
    }
   ],
   "source": [
    "h2 = models.Compose.Compose().set_model(hm).compose([m1,m2])\n",
    "h2._model.bypass = False\n",
    "m1.trainable = True\n",
    "m2.trainable = True\n",
    "hm.trainable = True\n",
    "h2.compile()"
   ]
  },
  {
   "cell_type": "code",
   "execution_count": 103,
   "metadata": {},
   "outputs": [
    {
     "data": {
      "image/png": "[encoded data removed]",
      "text/plain": [
       "<Figure size 432x288 with 1 Axes>"
      ]
     },
     "metadata": {},
     "output_type": "display_data"
    }
   ],
   "source": [
    "# [ v.name for v in h2.trainable_variables ]\n",
    "def plot(d):\n",
    "    plt.figure('data')\n",
    "    x,y = tf.split(d[0][0][0], num_or_size_splits=2)\n",
    "    plt.plot(x,y,'.')\n",
    "d = du1.ds_array.shuffle(100).batch(2).map( lambda x,y: ((x,x),(x,x)) )\n",
    "d0 = [x for x in d.take(1)][0]\n",
    "y0 = tf.sigmoid(h2(d0, training=False))\n",
    "plot(d0)\n",
    "plot(y0)\n",
    "# d0"
   ]
  },
  {
   "cell_type": "code",
   "execution_count": 47,
   "metadata": {},
   "outputs": [
    {
     "name": "stdout",
     "output_type": "stream",
     "text": [
      "Epoch 1/3\n",
      "WARNING: you are tryig to set a loss where losses comes directly from compose models\n",
      "400/400 [==============================] - 95s 238ms/step - loss: 32.5288 - output_1_loss: 19.2566 - output_2_loss: 18.8356\n",
      "Epoch 2/3\n",
      "400/400 [==============================] - 87s 217ms/step - loss: 29.4558 - output_1_loss: 14.8789 - output_2_loss: 14.8880\n",
      "Epoch 3/3\n",
      "400/400 [==============================] - 87s 217ms/step - loss: 28.4651 - output_1_loss: 14.4749 - output_2_loss: 14.4740\n"
     ]
    },
    {
     "data": {
      "text/plain": [
       "<tensorflow.python.keras.callbacks.History at 0x7f7d230308d0>"
      ]
     },
     "execution_count": 47,
     "metadata": {},
     "output_type": "execute_result"
    }
   ],
   "source": [
    "d = du1.ds_array.batch(100).map(lambda x,y: ((x,x),(x,x)) )\n",
    "h2.fit(d, epochs=3)"
   ]
  },
  {
   "cell_type": "code",
   "execution_count": null,
   "metadata": {},
   "outputs": [],
   "source": [
    "p = Hplt.LSPlotBokeh()\n",
    "p.set_model(m1)\n",
    "p.set_data(du1, counts=1000)\n",
    "p.plot(notebook_url='http://172.17.0.2:8888')"
   ]
  },
  {
   "cell_type": "code",
   "execution_count": null,
   "metadata": {},
   "outputs": [],
   "source": [
    "hm = models.AEFIT5.AEFIT5(latent_dim=2, feature_dim=20, beta=0.)\n",
    "m1 = models.AEFIT5.AEFIT5(latent_dim=10, feature_dim=30,  dprate=0., scale=1, beta=0.)\n",
    "m2 = models.AEFIT5.AEFIT5(latent_dim=10, feature_dim=40,  dprate=0., scale=1, beta=0.)"
   ]
  },
  {
   "cell_type": "code",
   "execution_count": null,
   "metadata": {},
   "outputs": [],
   "source": [
    "h = models.Compose.Compose().set_model(hm).compose([m1,m2])"
   ]
  },
  {
   "cell_type": "code",
   "execution_count": null,
   "metadata": {},
   "outputs": [],
   "source": [
    "def get_tf_dataset(ds1, ds2):\n",
    "    types = (tf.float32, tf.int32), (tf.float32, tf.int32)\n",
    "    shape = ((2*ds1.dim,),()),((2*ds2.dim,),())\n",
    "    def gen():\n",
    "        import itertools\n",
    "        for i in itertools.count(0):\n",
    "            if i < min(len(ds1),len(ds2)):\n",
    "                s1,l1 = ds1.gen_pt(i)\n",
    "                s2,l2 = ds2.gen_pt(i)\n",
    "                yield (np.concatenate([s1[:,0], s1[:,1]]), l1), (np.concatenate([s2[:,0], s2[:,1]]), l2)\n",
    "            else:\n",
    "                return\n",
    "    return tf.data.Dataset.from_generator(gen, types, shape)\n",
    "\n",
    "                       \n",
    "ds = get_tf_dataset(du1,du2)\n",
    "ds = ds.batch(100).map(lambda x,y: ((x[0],y[0]),(x[0],y[0])) )\n",
    "ds\n",
    "\n",
    "# h.fit(d, epochs=5)"
   ]
  },
  {
   "cell_type": "code",
   "execution_count": null,
   "metadata": {},
   "outputs": [],
   "source": [
    "h.fit(ds, epochs=5)"
   ]
  },
  {
   "cell_type": "code",
   "execution_count": null,
   "metadata": {},
   "outputs": [],
   "source": [
    "#\n"
   ]
  },
  {
   "cell_type": "code",
   "execution_count": null,
   "metadata": {},
   "outputs": [],
   "source": []
  }
 ],
 "metadata": {
  "kernelspec": {
   "display_name": "Python 3",
   "language": "python",
   "name": "python3"
  },
  "language_info": {
   "codemirror_mode": {
    "name": "ipython",
    "version": 3
   },
   "file_extension": ".py",
   "mimetype": "text/x-python",
   "name": "python",
   "nbconvert_exporter": "python",
   "pygments_lexer": "ipython3",
   "version": "3.6.8"
  }
 },
 "nbformat": 4,
 "nbformat_minor": 2
}
