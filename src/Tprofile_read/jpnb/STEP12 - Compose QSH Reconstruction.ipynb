{
 "cells": [
  {
   "cell_type": "code",
   "execution_count": 4,
   "metadata": {},
   "outputs": [],
   "source": [
    "import numpy as np\n",
    "import tensorflow as tf\n",
    "\n",
    "import matplotlib.pyplot as plt\n",
    "import matplotlib.patches as patches\n",
    "import matplotlib.colors as colors \n",
    "%matplotlib notebook\n",
    "%matplotlib inline\n",
    "\n",
    "import ipysh\n",
    "\n",
    "%aimport models.base\n",
    "\n",
    "import Hunch_utils  as Htls\n",
    "import Hunch_lsplot as Hplt\n",
    "import Hunch_tSNEplot as Hsne\n",
    "\n",
    "%aimport Dataset_QSH\n",
    "%aimport models.AEFIT5\n",
    "%aimport models.Compose\n",
    "\n",
    "# ipysh.Bootstrap_support.debug()"
   ]
  },
  {
   "cell_type": "code",
   "execution_count": 5,
   "metadata": {},
   "outputs": [],
   "source": [
    "\n",
    "import livelossplot.keras\n",
    "class PlotLossesCallback(livelossplot.keras.PlotLossesCallback):\n",
    "    def on_train_batch_begin(self, a, b): pass\n",
    "    def on_train_batch_end(self, a, b): pass\n",
    "    def on_test_begin(self, a): pass\n",
    "    def on_test_end(self, a): pass\n",
    "    def on_test_batch_begin(self, a, b): pass\n",
    "    def on_test_batch_end(self, a, b): pass\n",
    "\n",
    "    \n",
    "class PlotRelevanceCallback(tf.keras.callbacks.Callback):\n",
    "    def on_epoch_end(self, epoch, logs=None):\n",
    "        fig, (ax1, ax2, ax3) = plt.subplots(1, 3)\n",
    "        fig.set_size_inches(13, 3)\n",
    "        w = self.model.layers[0].weights\n",
    "        ax1.bar(range(0,4), w[0][0:4])\n",
    "        labels = ['Ip','NS','Vt','F']\n",
    "        plt.sca(ax1)\n",
    "        plt.xticks(range(0,4), labels, fontsize=10)\n",
    "        ax2.bar(range(7,17), w[0][4:14])\n",
    "        plt.sca(ax2)\n",
    "        plt.xticks(range(7,17), fontsize=10)        \n",
    "        ax3.bar(range(7,17), w[0][14:24])\n",
    "        plt.sca(ax3)\n",
    "        plt.xticks(range(7,17), fontsize=10)       "
   ]
  },
  {
   "cell_type": "markdown",
   "metadata": {},
   "source": [
    "# TEST QSH\n"
   ]
  },
  {
   "cell_type": "code",
   "execution_count": 6,
   "metadata": {},
   "outputs": [
    {
     "name": "stdout",
     "output_type": "stream",
     "text": [
      "QSH rebalanced 15 points size:  47567\n"
     ]
    }
   ],
   "source": [
    "qsh = Dataset_QSH.Dataset_QSH()\n",
    "import os\n",
    "file = ipysh.abs_builddir+'/te_db_r15u_shuffle.npy'\n",
    "try: qsh.load(file)\n",
    "except: raise FileNotFoundError\n",
    "\n",
    "# qsh.shuffle()\n",
    "qsh.dim = None\n",
    "qsh.set_null(np.nan)\n",
    "qsh.set_normal_positive(['prel','te','tbordo','tcentro', 'Ip','NS','VT','F','absBr_rm','argBr_rm','absBt_rm','argBt_rm']) \n",
    "\n",
    "print(\"QSH rebalanced 15 points size: \", len(qsh))"
   ]
  },
  {
   "cell_type": "code",
   "execution_count": 4,
   "metadata": {},
   "outputs": [],
   "source": [
    "def _map(xy,p,Br):\n",
    "    pBr = tf.concat([p,Br], axis=0)\n",
    "    return (xy,pBr),(xy,pBr)\n",
    "ds = qsh.tf_tuple_compose(['prel~te:15','Ip~NS~VT~F','absBr_rm~argBr_rm~absBt_rm~argBt_rm']).map(lambda x,y,br: _map(x,y,br) )\n",
    "# [x for x in ds.shuffle(100).batch(1).take(1)][0]"
   ]
  },
  {
   "cell_type": "code",
   "execution_count": 7,
   "metadata": {},
   "outputs": [
    {
     "name": "stdout",
     "output_type": "stream",
     "text": [
      "AEFIT5 ready m:\n",
      "AEFIT5 ready m:\n"
     ]
    }
   ],
   "source": [
    "m1 = models.AEFIT5.AEFIT5(latent_dim=6, feature_dim=30,  dprate=0., scale=1, geometry=[20,20,10,10], beta=1e-5, name='m1') #beta=0.001)\n",
    "m2 = models.AEFIT5.AEFIT5(latent_dim=10, feature_dim=44,  dprate=0., scale=1, geometry=[20,20,10,10], beta=1e-5,name='m2') # parameters"
   ]
  },
  {
   "cell_type": "code",
   "execution_count": 14,
   "metadata": {},
   "outputs": [
    {
     "name": "stdout",
     "output_type": "stream",
     "text": [
      "41/50 [=======================>......] - ETA: 2s - loss: 0.0304 - mse: 0.0265 - akl: 38.8476 - mkl: 39.7612 - b: 1.0000e-04"
     ]
    }
   ],
   "source": [
    "ds_m1 = qsh.tf_tuple_compose(['prel~te:15']).map(lambda x: (x,x) )\n",
    "\n",
    "def fit1():\n",
    "    global h1\n",
    "    h1 = m1.fit( ds_m1.skip(5000).batch(100), validation_data=ds_m1.take(5000).batch(100),\n",
    "                      callbacks=[PlotLossesCallback()], shuffle=False, epochs=200 )\n",
    "#models.base.fn_thread(m1, fit1).control_panel()\n",
    "#fit1()"
   ]
  },
  {
   "cell_type": "code",
   "execution_count": null,
   "metadata": {},
   "outputs": [],
   "source": [
    "# qsh.dim = None\n",
    "# p = Hplt.LSPlotBokeh()\n",
    "# p.set_model(m1)\n",
    "# p.set_data(qsh, counts=1000)\n",
    "# p.plot(notebook_url='http://172.17.0.2:8888')"
   ]
  },
  {
   "cell_type": "code",
   "execution_count": 15,
   "metadata": {},
   "outputs": [
    {
     "name": "stdout",
     "output_type": "stream",
     "text": [
      "47/50 [===========================>..] - ETA: 0s - loss: 0.0304 - mse: 0.0265 - akl: 38.6815 - mkl: 39.6221 - b: 1.0000e-04"
     ]
    }
   ],
   "source": [
    "def m2_map(p,Br):\n",
    "    pBr = tf.concat([p,Br], axis=0)\n",
    "    return pBr,pBr\n",
    "ds_m2 = qsh.tf_tuple_compose(['Ip~NS~VT~F','absBr_rm~argBr_rm~absBt_rm~argBt_rm']).map(lambda p,br: m2_map(p,br) )\n",
    "\n",
    "def fit2():\n",
    "    global h2\n",
    "    h2 = m2.fit( ds_m2.skip(5000).batch(100), validation_data=ds_m2.take(5000).batch(100),\n",
    "                      callbacks=[PlotLossesCallback()], shuffle=False, epochs=200 )\n",
    "# models.base.fn_thread(fit2, m2)\n",
    "#fit2()"
   ]
  },
  {
   "cell_type": "code",
   "execution_count": 8,
   "metadata": {},
   "outputs": [],
   "source": [
    "# m1.save('STEP12_compose_m1')\n",
    "# m2.save('STEP12_compose_m2')\n",
    "m1.load('STEP12_compose_m1')\n",
    "m2.load('STEP12_compose_m2')"
   ]
  },
  {
   "cell_type": "code",
   "execution_count": 43,
   "metadata": {},
   "outputs": [
    {
     "data": {
      "text/plain": [
       "[<matplotlib.lines.Line2D at 0x7f48a035b588>]"
      ]
     },
     "execution_count": 43,
     "metadata": {},
     "output_type": "execute_result"
    },
    {
     "data": {
      "image/png": "[encoded data removed]",
      "text/plain": [
       "<Figure size 600x400 with 1 Axes>"
      ]
     },
     "metadata": {},
     "output_type": "display_data"
    },
    {
     "data": {
      "image/png": "[encoded data removed]",
      "text/plain": [
       "<Figure size 600x400 with 1 Axes>"
      ]
     },
     "metadata": {},
     "output_type": "display_data"
    },
    {
     "data": {
      "image/png": "[encoded data removed]",
      "text/plain": [
       "<Figure size 600x400 with 1 Axes>"
      ]
     },
     "metadata": {},
     "output_type": "display_data"
    }
   ],
   "source": [
    "iR = m2.inference_net.get_layer(m2.name+'_iRlv')\n",
    "gR = m2.generative_net.get_layer(m2.name+'_gRlv')\n",
    "f = plt.figure()\n",
    "plt.ylim(0.,1.)\n",
    "f.set_dpi(100)\n",
    "plt.plot(range(7,17),iR.weights[0].numpy()[4:14],'+')\n",
    "plt.plot(range(7,17),iR.weights[0].numpy()[14:24],'x')\n",
    "\n",
    "f = plt.figure()\n",
    "plt.ylim(0.,1.)\n",
    "f.set_dpi(100)\n",
    "plt.plot(range(7,17),iR.weights[0].numpy()[24:34],'+')\n",
    "plt.plot(range(7,17),iR.weights[0].numpy()[34:44],'x')\n",
    "\n",
    "\n",
    "f = plt.figure()\n",
    "plt.ylim(0.,1.)\n",
    "f.set_dpi(100)\n",
    "plt.plot(range(10),gR.weights[0].numpy(),'.')\n"
   ]
  },
  {
   "cell_type": "code",
   "execution_count": 381,
   "metadata": {},
   "outputs": [
    {
     "data": {
      "text/plain": [
       "[<matplotlib.lines.Line2D at 0x7f7ca7761518>]"
      ]
     },
     "execution_count": 381,
     "metadata": {},
     "output_type": "execute_result"
    },
    {
     "data": {
      "image/png": "[encoded data removed]",
      "text/plain": [
       "<Figure size 480x320 with 1 Axes>"
      ]
     },
     "metadata": {},
     "output_type": "display_data"
    },
    {
     "data": {
      "image/png": "[encoded data removed]",
      "text/plain": [
       "<Figure size 480x320 with 1 Axes>"
      ]
     },
     "metadata": {},
     "output_type": "display_data"
    }
   ],
   "source": [
    "pos +=1\n",
    "fig = plt.figure('m1m2 test')\n",
    "fig.set_dpi(80)\n",
    "#ax1, ax2 = plt.subplots(1,2)\n",
    "\n",
    "plt.ylim(0.,1.)\n",
    "\n",
    "d1 = [x for x in ds_m1.skip(pos).batch(1).take(1)][0][0]\n",
    "d2 = [x for x in ds_m2.skip(pos).batch(1).take(1)][0][0]\n",
    "D1 = m1.call(d1, training=False)\n",
    "\n",
    "d1 = tf.reshape(d1,[-1])\n",
    "x,y = tf.split(d1, num_or_size_splits=2)\n",
    "plt.plot(x,y,'+')\n",
    "\n",
    "D1 = tf.reshape(D1,[-1])\n",
    "X,Y = tf.split(D1, num_or_size_splits=2)\n",
    "plt.plot(X,Y,'x')\n",
    "\n",
    "fig = plt.figure('m2 test')\n",
    "fig.set_dpi(80)\n",
    "plt.plot(range(44), d2[0], '+')\n",
    "D2 = m2.call(d2, training=False)\n",
    "plt.plot(range(44), D2[0], 'x')\n"
   ]
  },
  {
   "cell_type": "code",
   "execution_count": 82,
   "metadata": {},
   "outputs": [],
   "source": [
    "def   batch(x): return tf.reshape(x, [1,-1])\n",
    "def unbatch(x): return tf.reshape(x, [-1])\n",
    "def xym2_map(xy,pBr):\n",
    "    pBr = batch(pBr)\n",
    "    pBr,_ = m2.encode(pBr, training=False)\n",
    "    pBr = unbatch(pBr)\n",
    "    xypBr = tf.concat([xy,pBr], axis=0)\n",
    "    return xypBr,xypBr\n",
    "ds_xym2 = qsh.tf_tuple_compose(['prel~te:15','Ip~NS~VT~F~absBr_rm~argBr_rm~absBt_rm~argBt_rm']).map(lambda x,pbr: xym2_map(x,pbr) )\n",
    "# [x for x in ds_xym2.take(1)][0]"
   ]
  },
  {
   "cell_type": "code",
   "execution_count": 83,
   "metadata": {},
   "outputs": [
    {
     "name": "stdout",
     "output_type": "stream",
     "text": [
      "AEFIT5 ready m:\n"
     ]
    }
   ],
   "source": [
    "m_xym2 = models.AEFIT5.AEFIT5(latent_dim=10, feature_dim=30+m2.latent_dim, beta=1e-5, scale=1, name='m_xym2', geometry=[20,20,10,10])"
   ]
  },
  {
   "cell_type": "code",
   "execution_count": 85,
   "metadata": {},
   "outputs": [
    {
     "data": {
      "image/png": "[encoded data removed]",
      "text/plain": [
       "<Figure size 864x1152 with 5 Axes>"
      ]
     },
     "metadata": {},
     "output_type": "display_data"
    },
    {
     "data": {
      "image/png": "[encoded data removed]",
      "text/plain": [
       "<Figure size 864x1152 with 5 Axes>"
      ]
     },
     "metadata": {},
     "output_type": "display_data"
    },
    {
     "name": "stdout",
     "output_type": "stream",
     "text": [
      "<lambda> (cost function):\n",
      "training   (min:    0.001, max:    0.024, cur:    0.001)\n",
      "validation (min:    0.001, max:    0.003, cur:    0.001)\n",
      "\n",
      "mse:\n",
      "training   (min:    0.001, max:    0.023, cur:    0.001)\n",
      "validation (min:    0.001, max:    0.003, cur:    0.001)\n",
      "\n",
      "akl:\n",
      "training   (min:   40.285, max:   45.327, cur:   40.348)\n",
      "validation (min:   39.161, max:   45.931, cur:   40.653)\n",
      "\n",
      "mkl:\n",
      "training   (min:   39.596, max:   46.150, cur:   42.829)\n",
      "validation (min:   41.669, max:   46.237, cur:   43.164)\n",
      "\n",
      "b:\n",
      "training   (min:    0.000, max:    0.000, cur:    0.000)\n",
      "validation (min:    0.000, max:    0.000, cur:    0.000)\n",
      "\b\b\b\b\b\b\b\b\b\b\b\b\b\b\b\b\b\b\b\b\b\b\b\b\b\b\b\b\b\b\b\b\b\b\b\b\b\b\b\b\b\b\b\b\b\b\b\b\b\b\b\b\b\b\b\b\b\b\b\b\b\b\b\b\b\b\b\b\b\b\b\b\b\b\b\b\b\b\b\b\b\b\b\b\b\b\b\b\b\b\b\b\b\b\b\b\b\b\b\b\b\b\b\b\b\b\b\b\b\b\b\b\b\b\b\b\b\b\b\b\b\b\b\b\b\b\b\r",
      "406/50 [===================================================================================================================================================================================================================================================] - 46s 114ms/step - loss: 0.0012 - mse: 6.5764e-04 - akl: 40.3479 - mkl: 42.8290 - b: 1.0000e-05\n"
     ]
    },
    {
     "name": "stderr",
     "output_type": "stream",
     "text": [
      "Exception in thread async train:\n",
      "Traceback (most recent call last):\n",
      "  File \"/usr/lib/python3.6/threading.py\", line 916, in _bootstrap_inner\n",
      "    self.run()\n",
      "  File \"/home/andrea/devel/rfx/rfx-hunch/build/conf/python/site-packages/lib/python3.6/site-packages/nbmultitask.py\", line 148, in run\n",
      "    fn(*self._args,**self._kwargs)\n",
      "  File \"/home/andrea/devel/rfx/rfx-hunch/src/Tprofile_read/models/base.py\", line 351, in <lambda>\n",
      "    super(AsyncTrain, self).__init__(target=lambda thread_print: fn(), name='async train')\n",
      "  File \"<ipython-input-85-5f5b0c98abce>\", line 5, in fit_xym2\n",
      "    callbacks=[PlotLossesCallback()], shuffle=False, epochs=200)\n",
      "  File \"/usr/local/lib/python3.6/dist-packages/tensorflow/python/keras/engine/training.py\", line 728, in fit\n",
      "    use_multiprocessing=use_multiprocessing)\n",
      "  File \"/usr/local/lib/python3.6/dist-packages/tensorflow/python/keras/engine/training_v2.py\", line 324, in fit\n",
      "    total_epochs=epochs)\n",
      "  File \"/usr/local/lib/python3.6/dist-packages/tensorflow/python/keras/engine/training_v2.py\", line 180, in run_one_epoch\n",
      "    aggregator.finalize()\n",
      "  File \"/usr/local/lib/python3.6/dist-packages/tensorflow/python/keras/engine/training_utils.py\", line 141, in finalize\n",
      "    self.results[0] /= (self.num_samples or self.steps)\n",
      "TypeError: unsupported operand type(s) for /: 'float' and 'NoneType'\n",
      "\n"
     ]
    }
   ],
   "source": [
    "def fit_xym2():\n",
    "    global h_xym2\n",
    "    ds = ds_xym2\n",
    "    h_xym2 = m_xym2.fit( ds.skip(5000).batch(100), validation_data=ds.take(5000).batch(100), \n",
    "             callbacks=[PlotLossesCallback()], shuffle=False, epochs=200)\n",
    "models.base.fn_thread(m_xym2,fit_xym2).control_panel()"
   ]
  },
  {
   "cell_type": "code",
   "execution_count": 353,
   "metadata": {},
   "outputs": [],
   "source": [
    "# m_xym2.save('STEP12_xym2')\n",
    "m_xym2.load('STEP12_xym2')"
   ]
  },
  {
   "cell_type": "code",
   "execution_count": 358,
   "metadata": {},
   "outputs": [
    {
     "data": {
      "text/plain": [
       "[<matplotlib.lines.Line2D at 0x7f7ca57c4b70>]"
      ]
     },
     "execution_count": 358,
     "metadata": {},
     "output_type": "execute_result"
    },
    {
     "data": {
      "image/png": "[encoded data removed]",
      "text/plain": [
       "<Figure size 480x320 with 1 Axes>"
      ]
     },
     "metadata": {},
     "output_type": "display_data"
    }
   ],
   "source": [
    "pos += 1\n",
    "fig = plt.figure('xym2')\n",
    "fig.set_dpi(80)\n",
    "d = [q for q in ds_xym2.skip(pos).batch(1).take(1)][0][0]\n",
    "x,y = tf.split(tf.reshape(d,[-1])[0:30],2)\n",
    "plt.ylim(0.,1.)\n",
    "plt.plot(x,y,'+', label='DSX3')\n",
    "D = m_xym2.call(d, training=False)\n",
    "X,Y = tf.split(tf.reshape(D,[-1])[0:30],2)\n",
    "plt.plot(X,Y,'x', label='m_xym2')"
   ]
  },
  {
   "cell_type": "markdown",
   "metadata": {},
   "source": [
    "# Direct train a VAE withing latent space by dataset mapping\n",
    "This uses a map function to compose the latent space of both m1 and m2 into a new dataset suitable to be fed in a further VAE model\n",
    "in this way there is not the inputs separation, i.e. the dataset output is the direct concatenation of the two latent values.\n",
    "\n",
    "The loss function is one for both and no weighting is possible but the loss should be distributed accordingly to the error on measure."
   ]
  },
  {
   "cell_type": "code",
   "execution_count": 7,
   "metadata": {},
   "outputs": [
    {
     "data": {
      "text/plain": [
       "(<tf.Tensor: id=1107, shape=(16,), dtype=float32, numpy=\n",
       " array([-1.5540247 ,  0.00213373,  1.2013704 ,  0.00475165,  0.96793544,\n",
       "        -0.00752708, -0.13408281, -1.8331757 , -1.0122573 ,  1.1023388 ,\n",
       "         0.41006067,  0.17837657,  0.1385765 , -0.26530972, -0.37714368,\n",
       "        -0.132154  ], dtype=float32)>,\n",
       " <tf.Tensor: id=1108, shape=(16,), dtype=float32, numpy=\n",
       " array([-1.5540247 ,  0.00213373,  1.2013704 ,  0.00475165,  0.96793544,\n",
       "        -0.00752708, -0.13408281, -1.8331757 , -1.0122573 ,  1.1023388 ,\n",
       "         0.41006067,  0.17837657,  0.1385765 , -0.26530972, -0.37714368,\n",
       "        -0.132154  ], dtype=float32)>)"
      ]
     },
     "execution_count": 7,
     "metadata": {},
     "output_type": "execute_result"
    }
   ],
   "source": [
    "def   batch(x): return tf.reshape(x, [1,-1])\n",
    "def unbatch(x): return tf.reshape(x, [-1])\n",
    "def m1m2_map(xy,Br):\n",
    "    xy = batch(xy)\n",
    "    Br = batch(Br)\n",
    "    xy,_ = m1.encode(xy, training=False)\n",
    "    Br,_ = m2.encode(Br, training=False)\n",
    "    xy = unbatch(xy)\n",
    "    Br = unbatch(Br)\n",
    "    xyBr = tf.concat([xy,Br], axis=0)\n",
    "    return xyBr,xyBr\n",
    "DS = qsh.tf_tuple_compose(['prel~te:15','Ip~NS~VT~F~absBr_rm~argBr_rm~absBt_rm~argBt_rm']).map(lambda x,br: m1m2_map(x,br) )\n",
    "[x for x in DS.take(1)][0]"
   ]
  },
  {
   "cell_type": "code",
   "execution_count": 64,
   "metadata": {},
   "outputs": [
    {
     "name": "stdout",
     "output_type": "stream",
     "text": [
      "AEFIT5 ready m:\n"
     ]
    }
   ],
   "source": [
    "m1.trainable = False\n",
    "m2.trainable = False\n",
    "hm_feature_dim = m1.latent_dim + m2.latent_dim\n",
    "m3 = models.AEFIT5.AEFIT5(latent_dim=10, feature_dim=hm_feature_dim, beta=1e-5, scale=1, name='m3_hidden', geometry=[20,20,20,10,10])"
   ]
  },
  {
   "cell_type": "code",
   "execution_count": 65,
   "metadata": {},
   "outputs": [
    {
     "data": {
      "image/png": "[encoded data removed]",
      "text/plain": [
       "<Figure size 864x1152 with 5 Axes>"
      ]
     },
     "metadata": {},
     "output_type": "display_data"
    },
    {
     "name": "stdout",
     "output_type": "stream",
     "text": [
      "<lambda> (cost function):\n",
      "training   (min:    0.027, max:    0.233, cur:    0.028)\n",
      "validation (min:    0.047, max:    0.074, cur:    0.054)\n",
      "\n",
      "mse:\n",
      "training   (min:    0.026, max:    0.232, cur:    0.027)\n",
      "validation (min:    0.047, max:    0.074, cur:    0.054)\n",
      "\n",
      "akl:\n",
      "training   (min:   37.843, max:   57.174, cur:   57.174)\n",
      "validation (min:   53.847, max:   56.402, cur:   55.495)\n",
      "\n",
      "mkl:\n",
      "training   (min:   32.996, max:   55.646, cur:   55.646)\n",
      "validation (min:   47.253, max:   55.064, cur:   54.373)\n",
      "\n",
      "b:\n",
      "training   (min:    0.000, max:    0.000, cur:    0.000)\n",
      "validation (min:    0.000, max:    0.000, cur:    0.000)\n",
      "\b\b\b\b\b\b\b\b\b\b\b\b\b\b\b\b\b\b\b\b\b\b\b\b\b\b\b\b\b\b\b\b\b\b\b\b\b\b\b\b\b\b\b\b\b\b\b\b\b\b\b\b\b\b\b\b\b\b\b\b\b\b\b\b\b\b\b\b\b\b\b\b\b\b\b\b\b\b\b\b\b\b\b\b\b\b\b\b\b\b\b\b\b\b\b\b\b\b\b\b\b\b\b\b\b\b\b\b\b\b\b\b\b\b\b\b\b\b\b\b\b\b\b\b\b\r",
      " 1/50 [..............................] - ETA: 4:27 - loss: 0.0276 - mse: 0.0270 - akl: 57.1737 - mkl: 55.6457 - b: 1.0000e-05"
     ]
    },
    {
     "name": "stderr",
     "output_type": "stream",
     "text": [
      "Exception in thread async train:\n",
      "Traceback (most recent call last):\n",
      "  File \"/usr/lib/python3.6/threading.py\", line 916, in _bootstrap_inner\n",
      "    self.run()\n",
      "  File \"/home/andrea/devel/rfx/rfx-hunch/build/conf/python/site-packages/lib/python3.6/site-packages/nbmultitask.py\", line 148, in run\n",
      "    fn(*self._args,**self._kwargs)\n",
      "  File \"/home/andrea/devel/rfx/rfx-hunch/src/Tprofile_read/models/base.py\", line 351, in <lambda>\n",
      "    super(AsyncTrain, self).__init__(target=lambda thread_print: fn(), name='async train')\n",
      "  File \"<ipython-input-65-cc3bcfa31fd9>\", line 4, in fit3\n",
      "    callbacks=[PlotLossesCallback()], shuffle=False, epochs=200)\n",
      "  File \"/usr/local/lib/python3.6/dist-packages/tensorflow/python/keras/engine/training.py\", line 728, in fit\n",
      "    use_multiprocessing=use_multiprocessing)\n",
      "  File \"/usr/local/lib/python3.6/dist-packages/tensorflow/python/keras/engine/training_v2.py\", line 324, in fit\n",
      "    total_epochs=epochs)\n",
      "  File \"/usr/local/lib/python3.6/dist-packages/tensorflow/python/keras/engine/training_v2.py\", line 180, in run_one_epoch\n",
      "    aggregator.finalize()\n",
      "  File \"/usr/local/lib/python3.6/dist-packages/tensorflow/python/keras/engine/training_utils.py\", line 141, in finalize\n",
      "    self.results[0] /= (self.num_samples or self.steps)\n",
      "TypeError: unsupported operand type(s) for /: 'float' and 'NoneType'\n",
      "\n"
     ]
    }
   ],
   "source": [
    "def fit3():\n",
    "    global h3\n",
    "    h3 = m3.fit( DS.skip(5000).batch(100).take(100), validation_data=DS.take(5000).batch(100), \n",
    "             callbacks=[PlotLossesCallback()], shuffle=False, epochs=200)\n",
    "models.base.fn_thread(m3,fit3).control_panel()"
   ]
  },
  {
   "cell_type": "code",
   "execution_count": null,
   "metadata": {},
   "outputs": [],
   "source": [
    "# ## TEST on direct conversion\n",
    "# pos = 0\n",
    "# # [ v.name for v in h2.trainable_variables ]\n",
    "# fig = plt.figure('m3 test')\n",
    "# fig.set_dpi(150)\n",
    "\n",
    "# def plot(xy, tag='.', label=None):\n",
    "#     ax = plt.gca()\n",
    "#     ax.set_ylim(0.,.8)\n",
    "#     x,y = tf.split(xy[0], num_or_size_splits=2)\n",
    "#     plt.plot(x,y,tag, label=label)\n",
    "#     plt.legend()\n",
    "\n",
    "# d = [x for x in ds.shuffle(100).batch(1).take(100)][0]\n",
    "# xy = d[0][0]\n",
    "# XY = m1(xy, training=False)\n",
    "# plot(xy,'+','original')\n",
    "# plot(XY,'x','m1')\n",
    "\n",
    "# d_param = d[0]\n",
    "# d_param = ( tf.zeros_like(d[0][0]), d[0][1] ) # spengo SXR e tengo i parametri\n",
    "# # y0 = h(d[0], training=False)\n",
    "# y0 = h(d_param, training=False)[0]\n",
    "# # y0 = tf.sigmoid(y0)\n",
    "# # plot(d0)\n",
    "# plot(y0,'.','h')"
   ]
  },
  {
   "cell_type": "markdown",
   "metadata": {},
   "source": [
    "# COMPOSE MODEL\n",
    "This uses the models.Compose class that build a model for the separated inputs.\n",
    "\n",
    "The problem seems to be the difference on the two loss values that are several orders of magniture higher for parameters so the network does not train on the DSX3."
   ]
  },
  {
   "cell_type": "code",
   "execution_count": null,
   "metadata": {},
   "outputs": [],
   "source": [
    "hm_feature_dim = m1.latent_dim + m2.latent_dim\n",
    "hm = models.AEFIT5.AEFIT5(latent_dim=10, feature_dim=hm_feature_dim, beta=0., scale=1, name='hidden', geometry=[10,20,20,10])\n",
    "h = models.Compose.Compose().set_model(hm).compose([m1,m2])"
   ]
  },
  {
   "cell_type": "code",
   "execution_count": 8,
   "metadata": {},
   "outputs": [
    {
     "ename": "NameError",
     "evalue": "name 'hm' is not defined",
     "output_type": "error",
     "traceback": [
      "\u001b[0;31m---------------------------------------------------------------------------\u001b[0m",
      "\u001b[0;31mNameError\u001b[0m                                 Traceback (most recent call last)",
      "\u001b[0;32m<ipython-input-8-a0c7054f8e97>\u001b[0m in \u001b[0;36m<module>\u001b[0;34m()\u001b[0m\n\u001b[1;32m      1\u001b[0m \u001b[0mm1\u001b[0m\u001b[0;34m.\u001b[0m\u001b[0mtrainable\u001b[0m \u001b[0;34m=\u001b[0m \u001b[0;32mFalse\u001b[0m\u001b[0;34m\u001b[0m\u001b[0;34m\u001b[0m\u001b[0m\n\u001b[1;32m      2\u001b[0m \u001b[0mm2\u001b[0m\u001b[0;34m.\u001b[0m\u001b[0mtrainable\u001b[0m \u001b[0;34m=\u001b[0m \u001b[0;32mFalse\u001b[0m\u001b[0;34m\u001b[0m\u001b[0;34m\u001b[0m\u001b[0m\n\u001b[0;32m----> 3\u001b[0;31m \u001b[0mhm\u001b[0m\u001b[0;34m.\u001b[0m\u001b[0mtrainable\u001b[0m \u001b[0;34m=\u001b[0m \u001b[0;32mTrue\u001b[0m\u001b[0;34m\u001b[0m\u001b[0;34m\u001b[0m\u001b[0m\n\u001b[0m\u001b[1;32m      4\u001b[0m \u001b[0;34m\u001b[0m\u001b[0m\n\u001b[1;32m      5\u001b[0m \u001b[0mh\u001b[0m\u001b[0;34m.\u001b[0m\u001b[0mloss_scale\u001b[0m \u001b[0;34m=\u001b[0m \u001b[0;34m[\u001b[0m\u001b[0;36m0.\u001b[0m\u001b[0;34m,\u001b[0m\u001b[0;36m1.\u001b[0m\u001b[0;34m]\u001b[0m\u001b[0;34m\u001b[0m\u001b[0;34m\u001b[0m\u001b[0m\n",
      "\u001b[0;31mNameError\u001b[0m: name 'hm' is not defined"
     ]
    }
   ],
   "source": [
    "m1.trainable = False\n",
    "m2.trainable = False\n",
    "hm.trainable = True\n",
    "\n",
    "h.loss_scale = [0.,1.]\n",
    "h.compile( loss = tf.keras.losses.mse )"
   ]
  },
  {
   "cell_type": "code",
   "execution_count": null,
   "metadata": {},
   "outputs": [],
   "source": [
    "# callbacks=[PlotLossesCallback()]\n",
    "def fit():\n",
    "    global history\n",
    "    history = h.fit( ds.skip(5000).batch(100).take(100), validation_data=ds.take(5000).batch(100), shuffle=False, epochs=200)\n",
    "# models.base.fn_thread(h, fit).control_panel()\n",
    "fit()"
   ]
  },
  {
   "cell_type": "code",
   "execution_count": null,
   "metadata": {},
   "outputs": [],
   "source": [
    "# [ v.name for v in h2.trainable_variables ]\n",
    "fig = plt.figure('data')\n",
    "fig.set_dpi(150)\n",
    "\n",
    "def plot(xy, tag='.', label=None):\n",
    "    ax = plt.gca()\n",
    "    ax.set_ylim(0.,.8)\n",
    "    x,y = tf.split(xy[0], num_or_size_splits=2)\n",
    "    plt.plot(x,y,tag, label=label)\n",
    "    plt.legend()\n",
    "d = [x for x in ds.shuffle(100).batch(1).take(100)][0]\n",
    "xy = d[0][0]\n",
    "XY = m1(xy, training=False)\n",
    "plot(xy,'+','original')\n",
    "plot(XY,'x','m1')\n",
    "\n",
    "d_param = d[0]\n",
    "d_param = ( tf.zeros_like(d[0][0]), d[0][1] ) # spengo SXR e tengo i parametri\n",
    "# y0 = h(d[0], training=False)\n",
    "y0 = h(d_param, training=False)[0]\n",
    "# y0 = tf.sigmoid(y0)\n",
    "# plot(d0)\n",
    "plot(y0,'.','h')\n",
    "\n"
   ]
  },
  {
   "cell_type": "code",
   "execution_count": null,
   "metadata": {},
   "outputs": [],
   "source": [
    "# tbordo tcentro Ip NS VT F\n",
    "xy,_ =  [x for x in ds.batch(1).take(1)][0]\n",
    "par = xy[2]\n",
    "\n",
    "l,_ = h.encode(xy, training=False)\n",
    "XY  = h.decode(l, training=False, apply_sigmoid=True) \n",
    "PAR = XY[2]\n",
    "\n",
    "print( list(zip(par, PAR)) )\n"
   ]
  },
  {
   "cell_type": "code",
   "execution_count": null,
   "metadata": {},
   "outputs": [],
   "source": [
    "fig = plt.figure('test_curve',figsize=(18, 6))\n",
    "plt.clf()\n",
    "ax1 = fig.add_subplot(121)\n",
    "ax2 = fig.add_subplot(122)    \n",
    "# ax1.set_xlim(-2.,2.)\n",
    "ax2.set_ylim(0.,1.)\n",
    "\n",
    "# sx = []\n",
    "# sy = []\n",
    "# for xy in ds.batch(1).take(1000):\n",
    "#     xy,_ = xy\n",
    "#     x,y = tf.split(xy[0],2, axis=1)\n",
    "#     me,_  = h.encode(xy, training=False)\n",
    "#     gpt = me[0].numpy()\n",
    "#     #ax1.scatter(gpt[0],gpt[1])\n",
    "#     sx.append(gpt[0])\n",
    "#     sy.append(gpt[1])\n",
    "\n",
    "# ax1.scatter(sx,sy)\n",
    "    \n",
    "for xy in ds.shuffle(100).batch(1).take(1):    \n",
    "    xy,_ = xy\n",
    "    x,y = tf.split(xy[0],2, axis=1)\n",
    "    ax2.scatter(x,y,s=80)\n",
    "    me,_  = h.encode(xy, training=False)\n",
    "    gpt = me[0].numpy()\n",
    "    ax1.scatter(gpt[0],gpt[1])\n",
    "    \n",
    "    XY = h.decode(me, training=False)[0]\n",
    "    XY = tf.sigmoid(XY)\n",
    "    X,Y = tf.split(XY[0], num_or_size_splits=2)\n",
    "    X,Y = (X.numpy(), Y.numpy())\n",
    "    ax2.scatter(X,Y,s=40)\n",
    "\n",
    "print(qsh_pos)    \n",
    "qsh_pos += 1"
   ]
  },
  {
   "cell_type": "code",
   "execution_count": null,
   "metadata": {},
   "outputs": [],
   "source": [
    "xy,_ = [x for x in ds.batch(2).take(1)][0]\n",
    "me,va = h.encode(xy)\n",
    "XY = h.decode(me, apply_sigmoid=True)\n",
    "XY[0][0]"
   ]
  }
 ],
 "metadata": {
  "kernelspec": {
   "display_name": "Python 3",
   "language": "python",
   "name": "python3"
  },
  "language_info": {
   "codemirror_mode": {
    "name": "ipython",
    "version": 3
   },
   "file_extension": ".py",
   "mimetype": "text/x-python",
   "name": "python",
   "nbconvert_exporter": "python",
   "pygments_lexer": "ipython3",
   "version": "3.6.8"
  }
 },
 "nbformat": 4,
 "nbformat_minor": 2
}
