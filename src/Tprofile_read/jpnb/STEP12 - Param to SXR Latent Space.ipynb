{
 "cells": [
  {
   "cell_type": "code",
   "execution_count": 1,
   "metadata": {},
   "outputs": [
    {
     "name": "stderr",
     "output_type": "stream",
     "text": [
      "/usr/local/lib/python3.6/dist-packages/tensorflow/python/framework/dtypes.py:516: FutureWarning: Passing (type, 1) or '1type' as a synonym of type is deprecated; in a future version of numpy, it will be understood as (type, (1,)) / '(1,)type'.\n",
      "  _np_qint8 = np.dtype([(\"qint8\", np.int8, 1)])\n",
      "/usr/local/lib/python3.6/dist-packages/tensorflow/python/framework/dtypes.py:517: FutureWarning: Passing (type, 1) or '1type' as a synonym of type is deprecated; in a future version of numpy, it will be understood as (type, (1,)) / '(1,)type'.\n",
      "  _np_quint8 = np.dtype([(\"quint8\", np.uint8, 1)])\n",
      "/usr/local/lib/python3.6/dist-packages/tensorflow/python/framework/dtypes.py:518: FutureWarning: Passing (type, 1) or '1type' as a synonym of type is deprecated; in a future version of numpy, it will be understood as (type, (1,)) / '(1,)type'.\n",
      "  _np_qint16 = np.dtype([(\"qint16\", np.int16, 1)])\n",
      "/usr/local/lib/python3.6/dist-packages/tensorflow/python/framework/dtypes.py:519: FutureWarning: Passing (type, 1) or '1type' as a synonym of type is deprecated; in a future version of numpy, it will be understood as (type, (1,)) / '(1,)type'.\n",
      "  _np_quint16 = np.dtype([(\"quint16\", np.uint16, 1)])\n",
      "/usr/local/lib/python3.6/dist-packages/tensorflow/python/framework/dtypes.py:520: FutureWarning: Passing (type, 1) or '1type' as a synonym of type is deprecated; in a future version of numpy, it will be understood as (type, (1,)) / '(1,)type'.\n",
      "  _np_qint32 = np.dtype([(\"qint32\", np.int32, 1)])\n",
      "/usr/local/lib/python3.6/dist-packages/tensorflow/python/framework/dtypes.py:525: FutureWarning: Passing (type, 1) or '1type' as a synonym of type is deprecated; in a future version of numpy, it will be understood as (type, (1,)) / '(1,)type'.\n",
      "  np_resource = np.dtype([(\"resource\", np.ubyte, 1)])\n",
      "/usr/local/lib/python3.6/dist-packages/tensorboard/compat/tensorflow_stub/dtypes.py:541: FutureWarning: Passing (type, 1) or '1type' as a synonym of type is deprecated; in a future version of numpy, it will be understood as (type, (1,)) / '(1,)type'.\n",
      "  _np_qint8 = np.dtype([(\"qint8\", np.int8, 1)])\n",
      "/usr/local/lib/python3.6/dist-packages/tensorboard/compat/tensorflow_stub/dtypes.py:542: FutureWarning: Passing (type, 1) or '1type' as a synonym of type is deprecated; in a future version of numpy, it will be understood as (type, (1,)) / '(1,)type'.\n",
      "  _np_quint8 = np.dtype([(\"quint8\", np.uint8, 1)])\n",
      "/usr/local/lib/python3.6/dist-packages/tensorboard/compat/tensorflow_stub/dtypes.py:543: FutureWarning: Passing (type, 1) or '1type' as a synonym of type is deprecated; in a future version of numpy, it will be understood as (type, (1,)) / '(1,)type'.\n",
      "  _np_qint16 = np.dtype([(\"qint16\", np.int16, 1)])\n",
      "/usr/local/lib/python3.6/dist-packages/tensorboard/compat/tensorflow_stub/dtypes.py:544: FutureWarning: Passing (type, 1) or '1type' as a synonym of type is deprecated; in a future version of numpy, it will be understood as (type, (1,)) / '(1,)type'.\n",
      "  _np_quint16 = np.dtype([(\"quint16\", np.uint16, 1)])\n",
      "/usr/local/lib/python3.6/dist-packages/tensorboard/compat/tensorflow_stub/dtypes.py:545: FutureWarning: Passing (type, 1) or '1type' as a synonym of type is deprecated; in a future version of numpy, it will be understood as (type, (1,)) / '(1,)type'.\n",
      "  _np_qint32 = np.dtype([(\"qint32\", np.int32, 1)])\n",
      "/usr/local/lib/python3.6/dist-packages/tensorboard/compat/tensorflow_stub/dtypes.py:550: FutureWarning: Passing (type, 1) or '1type' as a synonym of type is deprecated; in a future version of numpy, it will be understood as (type, (1,)) / '(1,)type'.\n",
      "  np_resource = np.dtype([(\"resource\", np.ubyte, 1)])\n"
     ]
    },
    {
     "name": "stdout",
     "output_type": "stream",
     "text": [
      "Hunch models imported\n",
      "reload set for module  Hunch_utils\n",
      "reload set for module  Dummy_g1data\n",
      "reload set for module  Hunch_lsplot\n",
      "reload set for module  Hunch_tSNEplot\n"
     ]
    },
    {
     "name": "stderr",
     "output_type": "stream",
     "text": [
      "Using TensorFlow backend.\n"
     ]
    }
   ],
   "source": [
    "import numpy as np\n",
    "import tensorflow as tf\n",
    "\n",
    "import matplotlib.pyplot as plt\n",
    "import matplotlib.patches as patches\n",
    "import matplotlib.colors as colors \n",
    "# %matplotlib notebook\n",
    "\n",
    "import ipysh\n",
    "\n",
    "%aimport models.base\n",
    "\n",
    "import Hunch_utils  as Htls\n",
    "import Hunch_lsplot as Hplt\n",
    "import Hunch_tSNEplot as Hsne\n",
    "\n",
    "%aimport Dataset_QSH\n",
    "%aimport models.AEFIT5\n",
    "%aimport models.Compose\n",
    "%aimport models.GAN3\n",
    "\n",
    "import livelossplot.keras\n",
    "class PlotLossesCallback(livelossplot.keras.PlotLossesCallback):\n",
    "    def on_train_batch_begin(self, a, b): pass\n",
    "    def on_train_batch_end(self, a, b): pass\n",
    "    def on_test_begin(self, a): pass\n",
    "    def on_test_end(self, a): pass\n",
    "    def on_test_batch_begin(self, a, b): pass\n",
    "    def on_test_batch_end(self, a, b): pass\n",
    "\n",
    "    \n",
    "class PlotRelevanceCallback(tf.keras.callbacks.Callback):\n",
    "    def on_epoch_end(self, epoch, logs=None):\n",
    "        fig, (ax1, ax2, ax3) = plt.subplots(1, 3)\n",
    "        fig.set_size_inches(13, 3)\n",
    "        w = self.model.layers[0].weights\n",
    "        ax1.bar(range(0,4), w[0][0:4])\n",
    "        labels = ['Ip','NS','Vt','F']\n",
    "        plt.sca(ax1)\n",
    "        plt.xticks(range(0,4), labels, fontsize=10)\n",
    "        ax2.bar(range(7,17), w[0][4:14])\n",
    "        plt.sca(ax2)\n",
    "        plt.xticks(range(7,17), fontsize=10)        \n",
    "        ax3.bar(range(7,17), w[0][14:24])\n",
    "        plt.sca(ax3)\n",
    "        plt.xticks(range(7,17), fontsize=10)       \n",
    "\n",
    "\n",
    "# ipysh.Bootstrap_support.debug()"
   ]
  },
  {
   "cell_type": "markdown",
   "metadata": {},
   "source": [
    "# TEST QSH\n"
   ]
  },
  {
   "cell_type": "code",
   "execution_count": 2,
   "metadata": {},
   "outputs": [
    {
     "name": "stdout",
     "output_type": "stream",
     "text": [
      "QSH rebalanced 15 points size:  47567\n"
     ]
    }
   ],
   "source": [
    "qsh = Dataset_QSH.Dataset_QSH()\n",
    "import os\n",
    "file = ipysh.abs_builddir+'/te_db_r15_clean.npy'\n",
    "try: qsh.load(file)\n",
    "except: raise FileNotFoundError\n",
    "    \n",
    "qsh.shuffle()\n",
    "qsh.dim = None\n",
    "qsh.set_null(np.nan)\n",
    "qsh.set_normal_positive(['prel','te','tbordo','tcentro', 'Ip','NS','VT','F'])  ## use this for Br_rm\n",
    "# qsh.set_normal_positive(['prel','te','tbordo','tcentro', 'Ip','NS','VT','F','absBr_rm','argBr_rm']) \n",
    "\n",
    "# qsh.unbias_mean(0.5, 'te')\n",
    "# qsh.set_normal_positive(['te'])\n",
    "# qsh.clip_values(0.1,0.6)\n",
    "# qsh.set_normal_positive(['te'])\n",
    "\n",
    "print(\"QSH rebalanced 15 points size: \", len(qsh))"
   ]
  },
  {
   "cell_type": "code",
   "execution_count": 5,
   "metadata": {},
   "outputs": [
    {
     "data": {
      "text/plain": [
       "(<tf.Tensor: id=975, shape=(1, 24), dtype=float32, numpy=\n",
       " array([[0.410683  , 0.5045751 , 0.45263594, 0.7514136 , 0.27805552,\n",
       "         0.26313874, 0.3000163 , 0.27378327, 0.30726707, 0.25905722,\n",
       "         0.27302808, 0.2758088 , 0.28475055, 0.2818121 , 0.33656204,\n",
       "         0.2914981 , 0.30686322, 0.302852  , 0.27715594, 0.30848205,\n",
       "         0.2921897 , 0.28166628, 0.2747703 , 0.27956322]], dtype=float32)>,\n",
       " <tf.Tensor: id=976, shape=(1, 30), dtype=float32, numpy=\n",
       " array([[0.02686268, 0.09764964, 0.14367291, 0.19789246, 0.26058832,\n",
       "         0.33119917, 0.40805736, 0.48839146, 0.5687257 , 0.64558387,\n",
       "         0.7161947 , 0.77889055, 0.8315982 , 0.8760566 , 0.9499203 ,\n",
       "         0.12912974, 0.14341198, 0.17071898, 0.16522855, 0.18414998,\n",
       "         0.19116932, 0.19724475, 0.20174809, 0.19878519, 0.19320019,\n",
       "         0.18888897, 0.18633626, 0.18757343, 0.19186877, 0.16597912]],\n",
       "       dtype=float32)>)"
      ]
     },
     "execution_count": 5,
     "metadata": {},
     "output_type": "execute_result"
    }
   ],
   "source": [
    "# Bt_min, Bt_max = np.nanmin(qsh['Bt_rm']), np.nanmax(qsh['Bt_rm'])\n",
    "Br_min, Br_max = np.nanmin(qsh['Br_rm']), np.nanmax(qsh['Br_rm'])\n",
    "\n",
    "def _map(xy,p,Br):\n",
    "    # Bt = (Bt-Bt_min)/(Bt_max-Bt_min)\n",
    "    Br = (Br-Br_min)/(Br_max-Br_min)\n",
    "    pBr = tf.concat([p,Br], axis=0)\n",
    "    # return (xy,pBtBr),(xy,pBtBr)\n",
    "    return pBr,xy\n",
    "\n",
    "# ds = qsh.tf_tuple_compose(['prel~te:15','Ip~NS~VT~F','absBr_rm~argBr_rm']).map(lambda x,y,br: _map(x,y,br) )\n",
    "ds = qsh.tf_tuple_compose(['prel~te:15','Ip~NS~VT~F','Br_rm']).map(lambda x,y,br: _map(x,y,br) )\n",
    "[x for x in ds.shuffle(100).batch(1).take(1)][0]"
   ]
  },
  {
   "cell_type": "code",
   "execution_count": 8,
   "metadata": {},
   "outputs": [
    {
     "name": "stdout",
     "output_type": "stream",
     "text": [
      "AEFIT5 a ready:\n"
     ]
    }
   ],
   "source": [
    "vae = models.AEFIT5.AEFIT5(latent_dim=6, feature_dim=30, dprate=0.1, beta=0., scale=2, geometry=[20,20,10,10])\n",
    "#vae.build(input_shape=vae.inference_net.input_shape)\n",
    "vae.compile( vae.optimizer, tf.losses.mse )\n"
   ]
  },
  {
   "cell_type": "code",
   "execution_count": 11,
   "metadata": {},
   "outputs": [
    {
     "name": "stdout",
     "output_type": "stream",
     "text": [
      "Epoch 1/50\n",
      "425/425 [==============================] - 30s 70ms/step - loss: 7.3342e-04 - val_loss: 0.0000e+00\n",
      "Epoch 2/50\n",
      "425/425 [==============================] - 30s 71ms/step - loss: 5.7999e-04 - val_loss: 2.9664e-04\n",
      "Epoch 3/50\n",
      "425/425 [==============================] - 30s 70ms/step - loss: 5.0664e-04 - val_loss: 3.0667e-04\n",
      "Epoch 4/50\n",
      "425/425 [==============================] - 30s 70ms/step - loss: 4.6991e-04 - val_loss: 2.8269e-04\n",
      "Epoch 5/50\n",
      "425/425 [==============================] - 31s 72ms/step - loss: 4.3654e-04 - val_loss: 2.9916e-04\n",
      "Epoch 6/50\n",
      "425/425 [==============================] - 31s 73ms/step - loss: 4.1709e-04 - val_loss: 2.2100e-04\n",
      "Epoch 7/50\n",
      "425/425 [==============================] - 30s 71ms/step - loss: 3.2455e-04 - val_loss: 1.8540e-04\n",
      "Epoch 8/50\n",
      "425/425 [==============================] - 30s 70ms/step - loss: 3.0156e-04 - val_loss: 1.6635e-04\n",
      "Epoch 9/50\n",
      "425/425 [==============================] - 29s 69ms/step - loss: 2.9047e-04 - val_loss: 1.8029e-04\n",
      "Epoch 10/50\n",
      "425/425 [==============================] - 29s 69ms/step - loss: 2.8195e-04 - val_loss: 1.8784e-04\n",
      "Epoch 11/50\n",
      "425/425 [==============================] - 29s 69ms/step - loss: 2.7304e-04 - val_loss: 1.6817e-04\n",
      "Epoch 12/50\n",
      "425/425 [==============================] - 30s 72ms/step - loss: 2.6311e-04 - val_loss: 1.6535e-04\n",
      "Epoch 13/50\n",
      "425/425 [==============================] - 30s 69ms/step - loss: 2.4334e-04 - val_loss: 1.4392e-04\n",
      "Epoch 14/50\n",
      "425/425 [==============================] - 29s 69ms/step - loss: 2.3090e-04 - val_loss: 1.3751e-04\n",
      "Epoch 15/50\n",
      "425/425 [==============================] - 30s 71ms/step - loss: 2.2946e-04 - val_loss: 1.2778e-04\n",
      "Epoch 16/50\n",
      "425/425 [==============================] - 29s 69ms/step - loss: 2.2022e-04 - val_loss: 1.4710e-04\n",
      "Epoch 17/50\n",
      "425/425 [==============================] - 29s 69ms/step - loss: 2.2357e-04 - val_loss: 1.4538e-04\n",
      "Epoch 18/50\n",
      "425/425 [==============================] - 29s 68ms/step - loss: 2.1607e-04 - val_loss: 1.2942e-04\n",
      "Epoch 19/50\n",
      "425/425 [==============================] - 29s 68ms/step - loss: 2.1568e-04 - val_loss: 1.1137e-04\n",
      "Epoch 20/50\n",
      "425/425 [==============================] - 29s 68ms/step - loss: 2.0494e-04 - val_loss: 1.4914e-04\n",
      "Epoch 21/50\n",
      "425/425 [==============================] - 29s 68ms/step - loss: 1.9894e-04 - val_loss: 1.1182e-04\n",
      "Epoch 22/50\n",
      "425/425 [==============================] - 29s 68ms/step - loss: 1.9326e-04 - val_loss: 1.1597e-04\n",
      "Epoch 23/50\n",
      "425/425 [==============================] - 29s 68ms/step - loss: 1.9777e-04 - val_loss: 1.0485e-04\n",
      "Epoch 24/50\n",
      "425/425 [==============================] - 29s 68ms/step - loss: 1.9132e-04 - val_loss: 1.3890e-04\n",
      "Epoch 25/50\n",
      "425/425 [==============================] - 29s 68ms/step - loss: 1.9213e-04 - val_loss: 1.3736e-04\n",
      "Epoch 26/50\n",
      "425/425 [==============================] - 29s 68ms/step - loss: 1.8721e-04 - val_loss: 1.1018e-04\n",
      "Epoch 27/50\n",
      "425/425 [==============================] - 29s 67ms/step - loss: 1.9152e-04 - val_loss: 1.2863e-04\n",
      "Epoch 28/50\n",
      "425/425 [==============================] - 29s 69ms/step - loss: 1.8603e-04 - val_loss: 1.0469e-04\n",
      "Epoch 29/50\n",
      "425/425 [==============================] - 30s 69ms/step - loss: 1.9197e-04 - val_loss: 1.4315e-04\n",
      "Epoch 30/50\n",
      "425/425 [==============================] - 29s 69ms/step - loss: 1.8676e-04 - val_loss: 1.3072e-04\n",
      "Epoch 31/50\n",
      "425/425 [==============================] - 29s 69ms/step - loss: 1.8298e-04 - val_loss: 1.1579e-04\n",
      "Epoch 32/50\n",
      "425/425 [==============================] - 30s 70ms/step - loss: 1.8723e-04 - val_loss: 1.1185e-04\n",
      "Epoch 33/50\n",
      "425/425 [==============================] - 30s 70ms/step - loss: 1.8426e-04 - val_loss: 1.1574e-04\n",
      "Epoch 34/50\n",
      "425/425 [==============================] - 29s 69ms/step - loss: 1.8116e-04 - val_loss: 1.3681e-04\n",
      "Epoch 35/50\n",
      "425/425 [==============================] - 29s 69ms/step - loss: 1.8534e-04 - val_loss: 1.1994e-04\n",
      "Epoch 36/50\n",
      "425/425 [==============================] - 29s 69ms/step - loss: 1.8909e-04 - val_loss: 1.1923e-04\n",
      "Epoch 37/50\n",
      "425/425 [==============================] - 29s 69ms/step - loss: 1.8235e-04 - val_loss: 1.1488e-04\n",
      "Epoch 38/50\n",
      "425/425 [==============================] - 29s 69ms/step - loss: 1.8289e-04 - val_loss: 1.5723e-04\n",
      "Epoch 39/50\n",
      "425/425 [==============================] - 29s 69ms/step - loss: 1.8345e-04 - val_loss: 1.1462e-04\n",
      "Epoch 40/50\n",
      "425/425 [==============================] - 29s 69ms/step - loss: 1.8592e-04 - val_loss: 1.2609e-04\n",
      "Epoch 41/50\n",
      "425/425 [==============================] - 29s 69ms/step - loss: 1.8576e-04 - val_loss: 1.6872e-04\n",
      "Epoch 42/50\n",
      "425/425 [==============================] - 30s 69ms/step - loss: 1.8055e-04 - val_loss: 1.3087e-04\n",
      "Epoch 43/50\n",
      "425/425 [==============================] - 29s 68ms/step - loss: 1.8192e-04 - val_loss: 1.7383e-04\n",
      "Epoch 44/50\n",
      "425/425 [==============================] - 29s 69ms/step - loss: 1.7934e-04 - val_loss: 1.1756e-04\n",
      "Epoch 45/50\n",
      "425/425 [==============================] - 30s 70ms/step - loss: 1.8347e-04 - val_loss: 1.4296e-04\n",
      "Epoch 46/50\n",
      "425/425 [==============================] - 29s 69ms/step - loss: 1.7894e-04 - val_loss: 1.3238e-04\n",
      "Epoch 47/50\n",
      "425/425 [==============================] - 28s 67ms/step - loss: 1.7634e-04 - val_loss: 1.0480e-04\n",
      "Epoch 48/50\n",
      "425/425 [==============================] - 28s 67ms/step - loss: 1.7874e-04 - val_loss: 1.5492e-04\n",
      "Epoch 49/50\n",
      "425/425 [==============================] - 29s 68ms/step - loss: 1.7885e-04 - val_loss: 1.3071e-04\n",
      "Epoch 50/50\n",
      "425/425 [==============================] - 29s 68ms/step - loss: 1.8139e-04 - val_loss: 1.3673e-04\n"
     ]
    }
   ],
   "source": [
    "dds = ds.map(lambda p,xy: (xy,xy))\n",
    "vae_history = vae.fit( dds.skip(5000).batch(100, drop_remainder=True), validation_data=dds.take(5000).batch(100), epochs=50)"
   ]
  },
  {
   "cell_type": "code",
   "execution_count": 12,
   "metadata": {},
   "outputs": [
    {
     "data": {
      "text/plain": [
       "<tensorflow.python.keras.callbacks.History at 0x7efc3ae5c940>"
      ]
     },
     "execution_count": 12,
     "metadata": {},
     "output_type": "execute_result"
    }
   ],
   "source": [
    "vae_history"
   ]
  },
  {
   "cell_type": "code",
   "execution_count": 18,
   "metadata": {},
   "outputs": [
    {
     "name": "stdout",
     "output_type": "stream",
     "text": [
      "AEFIT5 a ready:\n"
     ]
    }
   ],
   "source": [
    "vae1 = models.AEFIT5.AEFIT5(latent_dim=3, feature_dim=24, dprate=0.01, scale=1, geometry=[40,40,20,20])\n",
    "vae1.generative_net.trainable = False\n",
    "gen = vae1.inference_net"
   ]
  },
  {
   "cell_type": "code",
   "execution_count": 19,
   "metadata": {},
   "outputs": [
    {
     "data": {
      "text/plain": [
       "(<tf.Tensor: id=129520, shape=(1, 24), dtype=float32, numpy=\n",
       " array([[0.410683  , 0.5045751 , 0.45263594, 0.7514136 , 0.27805552,\n",
       "         0.26313874, 0.3000163 , 0.27378327, 0.30726707, 0.25905722,\n",
       "         0.27302808, 0.2758088 , 0.28475055, 0.2818121 , 0.33656204,\n",
       "         0.2914981 , 0.30686322, 0.302852  , 0.27715594, 0.30848205,\n",
       "         0.2921897 , 0.28166628, 0.2747703 , 0.27956322]], dtype=float32)>,\n",
       " <tf.Tensor: id=129521, shape=(1, 6), dtype=float32, numpy=\n",
       " array([[ 0.03454644, -0.6971418 ,  0.8285051 ,  1.5213149 ,  0.16046114,\n",
       "          0.19789958]], dtype=float32)>)"
      ]
     },
     "execution_count": 19,
     "metadata": {},
     "output_type": "execute_result"
    }
   ],
   "source": [
    "Dds = ds.map(lambda p,xy: (p, tf.reshape(vae.encode(tf.reshape(xy,[1,-1]),training=False)[0],[-1])) )\n",
    "[x for x in Dds.batch(1).take(1)][0]"
   ]
  },
  {
   "cell_type": "code",
   "execution_count": 20,
   "metadata": {},
   "outputs": [
    {
     "data": {
      "image/png": "[encoded data removed]",
      "text/plain": [
       "<Figure size 864x576 with 1 Axes>"
      ]
     },
     "metadata": {},
     "output_type": "display_data"
    },
    {
     "name": "stdout",
     "output_type": "stream",
     "text": [
      "Mean squared error (cost function):\n",
      "training   (min:    0.189, max:    0.784, cur:    0.198)\n",
      "validation (min:    0.267, max:    0.668, cur:    0.307)\n",
      "100/100 [==============================] - 32s 324ms/step - loss: 0.1975 - val_loss: 0.3074\n",
      "Epoch 249/500\n",
      " 99/100 [============================>.] - ETA: 0s - loss: 0.1922"
     ]
    },
    {
     "ename": "KeyboardInterrupt",
     "evalue": "",
     "output_type": "error",
     "traceback": [
      "\u001b[0;31m---------------------------------------------------------------------------\u001b[0m",
      "\u001b[0;31mKeyboardInterrupt\u001b[0m                         Traceback (most recent call last)",
      "\u001b[0;32m<ipython-input-20-6002767db1b7>\u001b[0m in \u001b[0;36m<module>\u001b[0;34m()\u001b[0m\n\u001b[1;32m     14\u001b[0m \u001b[0;31m# qsh.shuffle()\u001b[0m\u001b[0;34m\u001b[0m\u001b[0;34m\u001b[0m\u001b[0;34m\u001b[0m\u001b[0m\n\u001b[1;32m     15\u001b[0m history = gen.fit( Dds.skip(3000).batch(100).take(100), validation_data=Dds.take(3000).batch(100).take(100), epochs=500,\n\u001b[0;32m---> 16\u001b[0;31m                   callbacks=[PlotLossesCallback()] )\n\u001b[0m",
      "\u001b[0;32m/usr/local/lib/python3.6/dist-packages/tensorflow/python/keras/engine/training.py\u001b[0m in \u001b[0;36mfit\u001b[0;34m(self, x, y, batch_size, epochs, verbose, callbacks, validation_split, validation_data, shuffle, class_weight, sample_weight, initial_epoch, steps_per_epoch, validation_steps, validation_freq, max_queue_size, workers, use_multiprocessing, **kwargs)\u001b[0m\n\u001b[1;32m    641\u001b[0m         \u001b[0mmax_queue_size\u001b[0m\u001b[0;34m=\u001b[0m\u001b[0mmax_queue_size\u001b[0m\u001b[0;34m,\u001b[0m\u001b[0;34m\u001b[0m\u001b[0;34m\u001b[0m\u001b[0m\n\u001b[1;32m    642\u001b[0m         \u001b[0mworkers\u001b[0m\u001b[0;34m=\u001b[0m\u001b[0mworkers\u001b[0m\u001b[0;34m,\u001b[0m\u001b[0;34m\u001b[0m\u001b[0;34m\u001b[0m\u001b[0m\n\u001b[0;32m--> 643\u001b[0;31m         use_multiprocessing=use_multiprocessing)\n\u001b[0m\u001b[1;32m    644\u001b[0m \u001b[0;34m\u001b[0m\u001b[0m\n\u001b[1;32m    645\u001b[0m   def evaluate(self,\n",
      "\u001b[0;32m/usr/local/lib/python3.6/dist-packages/tensorflow/python/keras/engine/training_generator.py\u001b[0m in \u001b[0;36mfit\u001b[0;34m(self, model, x, y, batch_size, epochs, verbose, callbacks, validation_split, validation_data, shuffle, class_weight, sample_weight, initial_epoch, steps_per_epoch, validation_steps, validation_freq, **kwargs)\u001b[0m\n\u001b[1;32m    692\u001b[0m         \u001b[0mshuffle\u001b[0m\u001b[0;34m=\u001b[0m\u001b[0mshuffle\u001b[0m\u001b[0;34m,\u001b[0m\u001b[0;34m\u001b[0m\u001b[0;34m\u001b[0m\u001b[0m\n\u001b[1;32m    693\u001b[0m         \u001b[0minitial_epoch\u001b[0m\u001b[0;34m=\u001b[0m\u001b[0minitial_epoch\u001b[0m\u001b[0;34m,\u001b[0m\u001b[0;34m\u001b[0m\u001b[0;34m\u001b[0m\u001b[0m\n\u001b[0;32m--> 694\u001b[0;31m         steps_name='steps_per_epoch')\n\u001b[0m\u001b[1;32m    695\u001b[0m \u001b[0;34m\u001b[0m\u001b[0m\n\u001b[1;32m    696\u001b[0m   def evaluate(self,\n",
      "\u001b[0;32m/usr/local/lib/python3.6/dist-packages/tensorflow/python/keras/engine/training_generator.py\u001b[0m in \u001b[0;36mmodel_iteration\u001b[0;34m(model, data, steps_per_epoch, epochs, verbose, callbacks, validation_data, validation_steps, validation_freq, class_weight, max_queue_size, workers, use_multiprocessing, shuffle, initial_epoch, mode, batch_size, steps_name, **kwargs)\u001b[0m\n\u001b[1;32m    320\u001b[0m           \u001b[0mverbose\u001b[0m\u001b[0;34m=\u001b[0m\u001b[0;36m0\u001b[0m\u001b[0;34m,\u001b[0m\u001b[0;34m\u001b[0m\u001b[0;34m\u001b[0m\u001b[0m\n\u001b[1;32m    321\u001b[0m           \u001b[0mmode\u001b[0m\u001b[0;34m=\u001b[0m\u001b[0mModeKeys\u001b[0m\u001b[0;34m.\u001b[0m\u001b[0mTEST\u001b[0m\u001b[0;34m,\u001b[0m\u001b[0;34m\u001b[0m\u001b[0;34m\u001b[0m\u001b[0m\n\u001b[0;32m--> 322\u001b[0;31m           steps_name='validation_steps')\n\u001b[0m\u001b[1;32m    323\u001b[0m \u001b[0;34m\u001b[0m\u001b[0m\n\u001b[1;32m    324\u001b[0m       \u001b[0;32mif\u001b[0m \u001b[0;32mnot\u001b[0m \u001b[0misinstance\u001b[0m\u001b[0;34m(\u001b[0m\u001b[0mval_results\u001b[0m\u001b[0;34m,\u001b[0m \u001b[0mlist\u001b[0m\u001b[0;34m)\u001b[0m\u001b[0;34m:\u001b[0m\u001b[0;34m\u001b[0m\u001b[0;34m\u001b[0m\u001b[0m\n",
      "\u001b[0;32m/usr/local/lib/python3.6/dist-packages/tensorflow/python/keras/engine/training_generator.py\u001b[0m in \u001b[0;36mmodel_iteration\u001b[0;34m(model, data, steps_per_epoch, epochs, verbose, callbacks, validation_data, validation_steps, validation_freq, class_weight, max_queue_size, workers, use_multiprocessing, shuffle, initial_epoch, mode, batch_size, steps_name, **kwargs)\u001b[0m\n\u001b[1;32m    218\u001b[0m     \u001b[0mstep\u001b[0m \u001b[0;34m=\u001b[0m \u001b[0;36m0\u001b[0m\u001b[0;34m\u001b[0m\u001b[0;34m\u001b[0m\u001b[0m\n\u001b[1;32m    219\u001b[0m     \u001b[0;32mwhile\u001b[0m \u001b[0mstep\u001b[0m \u001b[0;34m<\u001b[0m \u001b[0mtarget_steps\u001b[0m\u001b[0;34m:\u001b[0m\u001b[0;34m\u001b[0m\u001b[0;34m\u001b[0m\u001b[0m\n\u001b[0;32m--> 220\u001b[0;31m       \u001b[0mbatch_data\u001b[0m \u001b[0;34m=\u001b[0m \u001b[0m_get_next_batch\u001b[0m\u001b[0;34m(\u001b[0m\u001b[0mgenerator\u001b[0m\u001b[0;34m,\u001b[0m \u001b[0mmode\u001b[0m\u001b[0;34m)\u001b[0m\u001b[0;34m\u001b[0m\u001b[0;34m\u001b[0m\u001b[0m\n\u001b[0m\u001b[1;32m    221\u001b[0m       \u001b[0;32mif\u001b[0m \u001b[0mbatch_data\u001b[0m \u001b[0;32mis\u001b[0m \u001b[0;32mNone\u001b[0m\u001b[0;34m:\u001b[0m\u001b[0;34m\u001b[0m\u001b[0;34m\u001b[0m\u001b[0m\n\u001b[1;32m    222\u001b[0m         \u001b[0;32mif\u001b[0m \u001b[0mis_dataset\u001b[0m\u001b[0;34m:\u001b[0m\u001b[0;34m\u001b[0m\u001b[0;34m\u001b[0m\u001b[0m\n",
      "\u001b[0;32m/usr/local/lib/python3.6/dist-packages/tensorflow/python/keras/engine/training_generator.py\u001b[0m in \u001b[0;36m_get_next_batch\u001b[0;34m(generator, mode)\u001b[0m\n\u001b[1;32m    360\u001b[0m   \u001b[0;34m\"\"\"Retrieves the next batch of input data.\"\"\"\u001b[0m\u001b[0;34m\u001b[0m\u001b[0;34m\u001b[0m\u001b[0m\n\u001b[1;32m    361\u001b[0m   \u001b[0;32mtry\u001b[0m\u001b[0;34m:\u001b[0m\u001b[0;34m\u001b[0m\u001b[0;34m\u001b[0m\u001b[0m\n\u001b[0;32m--> 362\u001b[0;31m     \u001b[0mgenerator_output\u001b[0m \u001b[0;34m=\u001b[0m \u001b[0mnext\u001b[0m\u001b[0;34m(\u001b[0m\u001b[0mgenerator\u001b[0m\u001b[0;34m)\u001b[0m\u001b[0;34m\u001b[0m\u001b[0;34m\u001b[0m\u001b[0m\n\u001b[0m\u001b[1;32m    363\u001b[0m   \u001b[0;32mexcept\u001b[0m \u001b[0;34m(\u001b[0m\u001b[0mStopIteration\u001b[0m\u001b[0;34m,\u001b[0m \u001b[0merrors\u001b[0m\u001b[0;34m.\u001b[0m\u001b[0mOutOfRangeError\u001b[0m\u001b[0;34m)\u001b[0m\u001b[0;34m:\u001b[0m\u001b[0;34m\u001b[0m\u001b[0;34m\u001b[0m\u001b[0m\n\u001b[1;32m    364\u001b[0m     \u001b[0;32mreturn\u001b[0m \u001b[0;32mNone\u001b[0m\u001b[0;34m\u001b[0m\u001b[0;34m\u001b[0m\u001b[0m\n",
      "\u001b[0;32m/usr/local/lib/python3.6/dist-packages/tensorflow/python/data/ops/iterator_ops.py\u001b[0m in \u001b[0;36m__next__\u001b[0;34m(self)\u001b[0m\n\u001b[1;32m    584\u001b[0m \u001b[0;34m\u001b[0m\u001b[0m\n\u001b[1;32m    585\u001b[0m   \u001b[0;32mdef\u001b[0m \u001b[0m__next__\u001b[0m\u001b[0;34m(\u001b[0m\u001b[0mself\u001b[0m\u001b[0;34m)\u001b[0m\u001b[0;34m:\u001b[0m  \u001b[0;31m# For Python 3 compatibility\u001b[0m\u001b[0;34m\u001b[0m\u001b[0;34m\u001b[0m\u001b[0m\n\u001b[0;32m--> 586\u001b[0;31m     \u001b[0;32mreturn\u001b[0m \u001b[0mself\u001b[0m\u001b[0;34m.\u001b[0m\u001b[0mnext\u001b[0m\u001b[0;34m(\u001b[0m\u001b[0;34m)\u001b[0m\u001b[0;34m\u001b[0m\u001b[0;34m\u001b[0m\u001b[0m\n\u001b[0m\u001b[1;32m    587\u001b[0m \u001b[0;34m\u001b[0m\u001b[0m\n\u001b[1;32m    588\u001b[0m   \u001b[0;32mdef\u001b[0m \u001b[0m_next_internal\u001b[0m\u001b[0;34m(\u001b[0m\u001b[0mself\u001b[0m\u001b[0;34m)\u001b[0m\u001b[0;34m:\u001b[0m\u001b[0;34m\u001b[0m\u001b[0;34m\u001b[0m\u001b[0m\n",
      "\u001b[0;32m/usr/local/lib/python3.6/dist-packages/tensorflow/python/data/ops/iterator_ops.py\u001b[0m in \u001b[0;36mnext\u001b[0;34m(self)\u001b[0m\n\u001b[1;32m    621\u001b[0m     \"\"\"\n\u001b[1;32m    622\u001b[0m     \u001b[0;32mtry\u001b[0m\u001b[0;34m:\u001b[0m\u001b[0;34m\u001b[0m\u001b[0;34m\u001b[0m\u001b[0m\n\u001b[0;32m--> 623\u001b[0;31m       \u001b[0;32mreturn\u001b[0m \u001b[0mself\u001b[0m\u001b[0;34m.\u001b[0m\u001b[0m_next_internal\u001b[0m\u001b[0;34m(\u001b[0m\u001b[0;34m)\u001b[0m\u001b[0;34m\u001b[0m\u001b[0;34m\u001b[0m\u001b[0m\n\u001b[0m\u001b[1;32m    624\u001b[0m     \u001b[0;32mexcept\u001b[0m \u001b[0merrors\u001b[0m\u001b[0;34m.\u001b[0m\u001b[0mOutOfRangeError\u001b[0m\u001b[0;34m:\u001b[0m\u001b[0;34m\u001b[0m\u001b[0;34m\u001b[0m\u001b[0m\n\u001b[1;32m    625\u001b[0m       \u001b[0;32mraise\u001b[0m \u001b[0mStopIteration\u001b[0m\u001b[0;34m\u001b[0m\u001b[0;34m\u001b[0m\u001b[0m\n",
      "\u001b[0;32m/usr/local/lib/python3.6/dist-packages/tensorflow/python/data/ops/iterator_ops.py\u001b[0m in \u001b[0;36m_next_internal\u001b[0;34m(self)\u001b[0m\n\u001b[1;32m    613\u001b[0m             \u001b[0mself\u001b[0m\u001b[0;34m.\u001b[0m\u001b[0m_iterator_resource\u001b[0m\u001b[0;34m,\u001b[0m\u001b[0;34m\u001b[0m\u001b[0;34m\u001b[0m\u001b[0m\n\u001b[1;32m    614\u001b[0m             \u001b[0moutput_types\u001b[0m\u001b[0;34m=\u001b[0m\u001b[0mself\u001b[0m\u001b[0;34m.\u001b[0m\u001b[0m_flat_output_types\u001b[0m\u001b[0;34m,\u001b[0m\u001b[0;34m\u001b[0m\u001b[0;34m\u001b[0m\u001b[0m\n\u001b[0;32m--> 615\u001b[0;31m             output_shapes=self._flat_output_shapes)\n\u001b[0m\u001b[1;32m    616\u001b[0m \u001b[0;34m\u001b[0m\u001b[0m\n\u001b[1;32m    617\u001b[0m       \u001b[0;32mreturn\u001b[0m \u001b[0mself\u001b[0m\u001b[0;34m.\u001b[0m\u001b[0m_structure\u001b[0m\u001b[0;34m.\u001b[0m\u001b[0m_from_compatible_tensor_list\u001b[0m\u001b[0;34m(\u001b[0m\u001b[0mret\u001b[0m\u001b[0;34m)\u001b[0m  \u001b[0;31m# pylint: disable=protected-access\u001b[0m\u001b[0;34m\u001b[0m\u001b[0;34m\u001b[0m\u001b[0m\n",
      "\u001b[0;32m/usr/local/lib/python3.6/dist-packages/tensorflow/python/ops/gen_dataset_ops.py\u001b[0m in \u001b[0;36miterator_get_next_sync\u001b[0;34m(iterator, output_types, output_shapes, name)\u001b[0m\n\u001b[1;32m   2104\u001b[0m         \u001b[0m_ctx\u001b[0m\u001b[0;34m.\u001b[0m\u001b[0m_context_handle\u001b[0m\u001b[0;34m,\u001b[0m \u001b[0m_ctx\u001b[0m\u001b[0;34m.\u001b[0m\u001b[0m_thread_local_data\u001b[0m\u001b[0;34m.\u001b[0m\u001b[0mdevice_name\u001b[0m\u001b[0;34m,\u001b[0m\u001b[0;34m\u001b[0m\u001b[0;34m\u001b[0m\u001b[0m\n\u001b[1;32m   2105\u001b[0m         \u001b[0;34m\"IteratorGetNextSync\"\u001b[0m\u001b[0;34m,\u001b[0m \u001b[0mname\u001b[0m\u001b[0;34m,\u001b[0m \u001b[0m_ctx\u001b[0m\u001b[0;34m.\u001b[0m\u001b[0m_post_execution_callbacks\u001b[0m\u001b[0;34m,\u001b[0m \u001b[0miterator\u001b[0m\u001b[0;34m,\u001b[0m\u001b[0;34m\u001b[0m\u001b[0;34m\u001b[0m\u001b[0m\n\u001b[0;32m-> 2106\u001b[0;31m         \"output_types\", output_types, \"output_shapes\", output_shapes)\n\u001b[0m\u001b[1;32m   2107\u001b[0m       \u001b[0;32mreturn\u001b[0m \u001b[0m_result\u001b[0m\u001b[0;34m\u001b[0m\u001b[0;34m\u001b[0m\u001b[0m\n\u001b[1;32m   2108\u001b[0m     \u001b[0;32mexcept\u001b[0m \u001b[0m_core\u001b[0m\u001b[0;34m.\u001b[0m\u001b[0m_FallbackException\u001b[0m\u001b[0;34m:\u001b[0m\u001b[0;34m\u001b[0m\u001b[0;34m\u001b[0m\u001b[0m\n",
      "\u001b[0;31mKeyboardInterrupt\u001b[0m: "
     ]
    }
   ],
   "source": [
    "\n",
    "# TRAIN MODEL\n",
    "rel = gen.layers[0]\n",
    "rel.rate = 0.\n",
    "\n",
    "l1_l2 = tf.keras.regularizers.l1_l2\n",
    "for l in gen.layers:\n",
    "    if issubclass(type(l), tf.keras.layers.Dense):\n",
    "        l.activity_regularizer = l1_l2(0.1)\n",
    "\n",
    "gen.compile( tf.optimizers.Adam(1e-3), tf.losses.mse )\n",
    "print(rel.weights)        \n",
    "    \n",
    "# qsh.shuffle()\n",
    "history = gen.fit( Dds.skip(3000).batch(100).take(100), validation_data=Dds.take(3000).batch(100).take(100), epochs=500,\n",
    "                  callbacks=[PlotLossesCallback()] )"
   ]
  },
  {
   "cell_type": "code",
   "execution_count": 22,
   "metadata": {},
   "outputs": [
    {
     "data": {
      "text/plain": [
       "[<tf.Variable 'aefi_t5_8_iRlv/kernel:0' shape=(24,) dtype=float32, numpy=\n",
       " array([0.9252038 , 0.92643255, 0.88604283, 0.9142872 , 0.9999999 ,\n",
       "        0.5014349 , 0.48931277, 0.8115765 , 0.7963875 , 0.18436761,\n",
       "        0.38097686, 0.5466501 , 0.07242887, 0.37977585, 0.99045277,\n",
       "        0.41757637, 0.58297706, 0.8610566 , 0.6379011 , 0.404293  ,\n",
       "        0.77272046, 0.2186094 , 0.00276551, 0.6671001 ], dtype=float32)>]"
      ]
     },
     "execution_count": 22,
     "metadata": {},
     "output_type": "execute_result"
    }
   ],
   "source": [
    "gen.layers[1].weights"
   ]
  },
  {
   "cell_type": "code",
   "execution_count": 21,
   "metadata": {},
   "outputs": [
    {
     "data": {
      "image/png": "[encoded data removed]",
      "text/plain": [
       "<Figure size 432x288 with 1 Axes>"
      ]
     },
     "metadata": {},
     "output_type": "display_data"
    },
    {
     "data": {
      "image/png": "[encoded data removed]",
      "text/plain": [
       "<Figure size 432x288 with 1 Axes>"
      ]
     },
     "metadata": {},
     "output_type": "display_data"
    }
   ],
   "source": [
    "index = qsh[0].n\n",
    "w = gen.layers[1].weights\n",
    "%matplotlib inline\n",
    "\n",
    "def plot_bar_x(index, w, title):\n",
    "    # this is for plotting purpose\n",
    "    plt.figure(title)\n",
    "    plt.bar(index, w)\n",
    "    plt.xlabel('n', fontsize=5)\n",
    "    plt.ylabel('SXR relevance', fontsize=10)\n",
    "    plt.xticks(index, fontsize=10, rotation=30)\n",
    "    plt.title(title)\n",
    "    plt.show()\n",
    "\n",
    "re,im = w[0][4:14], w[0][14:24]\n",
    "plot_bar_x(index, re, 're(Br)')\n",
    "plot_bar_x(index, im, 'im(Br)')\n"
   ]
  },
  {
   "cell_type": "code",
   "execution_count": null,
   "metadata": {},
   "outputs": [],
   "source": [
    "# vae.save('step12_gan_PBr_reim')\n",
    "# vae.load('step12_gan_PBr_reim')"
   ]
  },
  {
   "cell_type": "code",
   "execution_count": 23,
   "metadata": {},
   "outputs": [],
   "source": [
    "pos = 0"
   ]
  },
  {
   "cell_type": "code",
   "execution_count": 73,
   "metadata": {},
   "outputs": [
    {
     "name": "stdout",
     "output_type": "stream",
     "text": [
      "49\n"
     ]
    },
    {
     "data": {
      "image/png": "[encoded data removed]",
      "text/plain": [
       "<Figure size 432x288 with 1 Axes>"
      ]
     },
     "metadata": {},
     "output_type": "display_data"
    }
   ],
   "source": [
    "print(pos)\n",
    "d_pos = [x for x in ds.skip(pos).batch(1).take(1)][0]\n",
    "\n",
    "def plot(xy):\n",
    "    fig = plt.figure('plot')\n",
    "    ax = plt.gca()\n",
    "    ax.set_ylim(0.,0.8)\n",
    "    xy = tf.reshape(xy, [-1])\n",
    "    x,y = tf.split(xy, num_or_size_splits=2, axis=0)\n",
    "    plt.plot(x,y,'.')\n",
    "    \n",
    "    \n",
    "\n",
    "xy = d_pos[1]\n",
    "XY_vae = vae(xy, training=False)\n",
    "ls = gen(d_pos[0], training=False)\n",
    "XY = vae.decode(ls, training=False)\n",
    "# XY = tf.sigmoid(XY)\n",
    "plot(xy)\n",
    "plot(XY)\n",
    "plot(XY_vae)\n",
    "pos += 1"
   ]
  }
 ],
 "metadata": {
  "kernelspec": {
   "display_name": "Python 3",
   "language": "python",
   "name": "python3"
  },
  "language_info": {
   "codemirror_mode": {
    "name": "ipython",
    "version": 3
   },
   "file_extension": ".py",
   "mimetype": "text/x-python",
   "name": "python",
   "nbconvert_exporter": "python",
   "pygments_lexer": "ipython3",
   "version": "3.6.8"
  }
 },
 "nbformat": 4,
 "nbformat_minor": 2
}
