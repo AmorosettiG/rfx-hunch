{
 "cells": [
  {
   "cell_type": "code",
   "execution_count": 1,
   "metadata": {},
   "outputs": [
    {
     "name": "stderr",
     "output_type": "stream",
     "text": [
      "/usr/local/lib/python3.6/dist-packages/tensorflow/python/framework/dtypes.py:516: FutureWarning: Passing (type, 1) or '1type' as a synonym of type is deprecated; in a future version of numpy, it will be understood as (type, (1,)) / '(1,)type'.\n",
      "  _np_qint8 = np.dtype([(\"qint8\", np.int8, 1)])\n",
      "/usr/local/lib/python3.6/dist-packages/tensorflow/python/framework/dtypes.py:517: FutureWarning: Passing (type, 1) or '1type' as a synonym of type is deprecated; in a future version of numpy, it will be understood as (type, (1,)) / '(1,)type'.\n",
      "  _np_quint8 = np.dtype([(\"quint8\", np.uint8, 1)])\n",
      "/usr/local/lib/python3.6/dist-packages/tensorflow/python/framework/dtypes.py:518: FutureWarning: Passing (type, 1) or '1type' as a synonym of type is deprecated; in a future version of numpy, it will be understood as (type, (1,)) / '(1,)type'.\n",
      "  _np_qint16 = np.dtype([(\"qint16\", np.int16, 1)])\n",
      "/usr/local/lib/python3.6/dist-packages/tensorflow/python/framework/dtypes.py:519: FutureWarning: Passing (type, 1) or '1type' as a synonym of type is deprecated; in a future version of numpy, it will be understood as (type, (1,)) / '(1,)type'.\n",
      "  _np_quint16 = np.dtype([(\"quint16\", np.uint16, 1)])\n",
      "/usr/local/lib/python3.6/dist-packages/tensorflow/python/framework/dtypes.py:520: FutureWarning: Passing (type, 1) or '1type' as a synonym of type is deprecated; in a future version of numpy, it will be understood as (type, (1,)) / '(1,)type'.\n",
      "  _np_qint32 = np.dtype([(\"qint32\", np.int32, 1)])\n",
      "/usr/local/lib/python3.6/dist-packages/tensorflow/python/framework/dtypes.py:525: FutureWarning: Passing (type, 1) or '1type' as a synonym of type is deprecated; in a future version of numpy, it will be understood as (type, (1,)) / '(1,)type'.\n",
      "  np_resource = np.dtype([(\"resource\", np.ubyte, 1)])\n",
      "/usr/local/lib/python3.6/dist-packages/tensorboard/compat/tensorflow_stub/dtypes.py:541: FutureWarning: Passing (type, 1) or '1type' as a synonym of type is deprecated; in a future version of numpy, it will be understood as (type, (1,)) / '(1,)type'.\n",
      "  _np_qint8 = np.dtype([(\"qint8\", np.int8, 1)])\n",
      "/usr/local/lib/python3.6/dist-packages/tensorboard/compat/tensorflow_stub/dtypes.py:542: FutureWarning: Passing (type, 1) or '1type' as a synonym of type is deprecated; in a future version of numpy, it will be understood as (type, (1,)) / '(1,)type'.\n",
      "  _np_quint8 = np.dtype([(\"quint8\", np.uint8, 1)])\n",
      "/usr/local/lib/python3.6/dist-packages/tensorboard/compat/tensorflow_stub/dtypes.py:543: FutureWarning: Passing (type, 1) or '1type' as a synonym of type is deprecated; in a future version of numpy, it will be understood as (type, (1,)) / '(1,)type'.\n",
      "  _np_qint16 = np.dtype([(\"qint16\", np.int16, 1)])\n",
      "/usr/local/lib/python3.6/dist-packages/tensorboard/compat/tensorflow_stub/dtypes.py:544: FutureWarning: Passing (type, 1) or '1type' as a synonym of type is deprecated; in a future version of numpy, it will be understood as (type, (1,)) / '(1,)type'.\n",
      "  _np_quint16 = np.dtype([(\"quint16\", np.uint16, 1)])\n",
      "/usr/local/lib/python3.6/dist-packages/tensorboard/compat/tensorflow_stub/dtypes.py:545: FutureWarning: Passing (type, 1) or '1type' as a synonym of type is deprecated; in a future version of numpy, it will be understood as (type, (1,)) / '(1,)type'.\n",
      "  _np_qint32 = np.dtype([(\"qint32\", np.int32, 1)])\n",
      "/usr/local/lib/python3.6/dist-packages/tensorboard/compat/tensorflow_stub/dtypes.py:550: FutureWarning: Passing (type, 1) or '1type' as a synonym of type is deprecated; in a future version of numpy, it will be understood as (type, (1,)) / '(1,)type'.\n",
      "  np_resource = np.dtype([(\"resource\", np.ubyte, 1)])\n"
     ]
    },
    {
     "name": "stdout",
     "output_type": "stream",
     "text": [
      "Hunch models imported\n",
      "reload set for module  Hunch_utils\n",
      "reload set for module  Dummy_g1data\n",
      "reload set for module  Hunch_lsplot\n",
      "reload set for module  Hunch_tSNEplot\n"
     ]
    },
    {
     "name": "stderr",
     "output_type": "stream",
     "text": [
      "Using TensorFlow backend.\n"
     ]
    }
   ],
   "source": [
    "import numpy as np\n",
    "import tensorflow as tf\n",
    "\n",
    "import matplotlib.pyplot as plt\n",
    "import matplotlib.patches as patches\n",
    "import matplotlib.colors as colors \n",
    "# %matplotlib notebook\n",
    "\n",
    "import ipysh\n",
    "\n",
    "%aimport models.base\n",
    "\n",
    "import Hunch_utils  as Htls\n",
    "import Hunch_lsplot as Hplt\n",
    "import Hunch_tSNEplot as Hsne\n",
    "\n",
    "%aimport Dataset_QSH\n",
    "%aimport models.AEFIT5\n",
    "%aimport models.Compose\n",
    "%aimport models.GAN3\n",
    "\n",
    "import livelossplot.keras\n",
    "class PlotLossesCallback(livelossplot.keras.PlotLossesCallback):\n",
    "    def on_train_batch_begin(self, a, b): pass\n",
    "    def on_train_batch_end(self, a, b): pass\n",
    "    def on_test_begin(self, a): pass\n",
    "    def on_test_end(self, a): pass\n",
    "    def on_test_batch_begin(self, a, b): pass\n",
    "    def on_test_batch_end(self, a, b): pass\n",
    "\n",
    "    \n",
    "class PlotRelevanceCallback(tf.keras.callbacks.Callback):\n",
    "    def on_epoch_end(self, epoch, logs=None):\n",
    "        fig, (ax1, ax2, ax3) = plt.subplots(1, 3)\n",
    "        fig.set_size_inches(13, 3)\n",
    "        w = self.model.layers[1].weights\n",
    "        ax1.bar(range(0,4), w[0][0:4])\n",
    "        labels = ['Ip','NS','Vt','F']\n",
    "        plt.sca(ax1)\n",
    "        plt.xticks(range(0,4), labels, fontsize=10)\n",
    "        ax2.bar(range(7,17), w[0][4:14])\n",
    "        plt.sca(ax2)\n",
    "        plt.xticks(range(7,17), fontsize=10)        \n",
    "        ax3.bar(range(7,17), w[0][14:24])\n",
    "        plt.sca(ax3)\n",
    "        plt.xticks(range(7,17), fontsize=10)       \n",
    "\n",
    "\n",
    "# ipysh.Bootstrap_support.debug()"
   ]
  },
  {
   "cell_type": "markdown",
   "metadata": {},
   "source": [
    "# TEST QSH\n"
   ]
  },
  {
   "cell_type": "code",
   "execution_count": 2,
   "metadata": {},
   "outputs": [
    {
     "name": "stdout",
     "output_type": "stream",
     "text": [
      "QSH rebalanced 15 points size:  47567\n"
     ]
    }
   ],
   "source": [
    "qsh = Dataset_QSH.Dataset_QSH()\n",
    "import os\n",
    "file = ipysh.abs_builddir+'/te_db_r15_clean.npy'\n",
    "try: qsh.load(file)\n",
    "except: raise FileNotFoundError\n",
    "\n",
    "qsh.shuffle()\n",
    "qsh.dim = None\n",
    "qsh.set_null(np.nan)\n",
    "# qsh.set_normal_positive(['prel','te','tbordo','tcentro', 'Ip','NS','VT','F'])  ## use this for Br_rm\n",
    "qsh.set_normal_positive(['prel','te','tbordo','tcentro', 'Ip','NS','VT','F','absBr_rs','argBr_rs']) \n",
    "\n",
    "# qsh.unbias_mean(0.5, 'te')\n",
    "# qsh.set_normal_positive(['te'])\n",
    "# qsh.clip_values(0.1,0.6)\n",
    "# qsh.set_normal_positive(['te'])\n",
    "\n",
    "print(\"QSH rebalanced 15 points size: \", len(qsh))"
   ]
  },
  {
   "cell_type": "code",
   "execution_count": 3,
   "metadata": {},
   "outputs": [
    {
     "name": "stderr",
     "output_type": "stream",
     "text": [
      "WARNING: Logging before flag parsing goes to stderr.\n",
      "W0905 14:55:55.119034 139775700584256 deprecation.py:323] From /usr/local/lib/python3.6/dist-packages/tensorflow/python/data/ops/dataset_ops.py:504: py_func (from tensorflow.python.ops.script_ops) is deprecated and will be removed in a future version.\n",
      "Instructions for updating:\n",
      "tf.py_func is deprecated in TF V2. Instead, there are two\n",
      "    options available in V2.\n",
      "    - tf.py_function takes a python function which manipulates tf eager\n",
      "    tensors instead of numpy arrays. It's easy to convert a tf eager tensor to\n",
      "    an ndarray (just call tensor.numpy()) but having access to eager tensors\n",
      "    means `tf.py_function`s can use accelerators such as GPUs as well as\n",
      "    being differentiable using a gradient tape.\n",
      "    - tf.numpy_function maintains the semantics of the deprecated tf.py_func\n",
      "    (it is not differentiable, and manipulates numpy arrays). It drops the\n",
      "    stateful argument making all functions stateful.\n",
      "    \n"
     ]
    },
    {
     "data": {
      "text/plain": [
       "(<tf.Tensor: id=56, shape=(1, 24), dtype=float32, numpy=\n",
       " array([[4.9897262e-01, 7.5596189e-01, 7.1937621e-01, 4.9323490e-01,\n",
       "         7.0746350e-03, 2.2704876e-03, 2.1586909e-03, 1.6653090e-03,\n",
       "         8.2749187e-04, 8.7945949e-04, 1.1387139e-03, 7.0663803e-04,\n",
       "         4.6690265e-04, 7.5454381e-04, 7.9998195e-01, 9.5553294e-02,\n",
       "         2.4483608e-02, 9.8391956e-01, 7.9789795e-02, 1.1949532e-01,\n",
       "         2.3727438e-01, 5.6068808e-01, 8.4954596e-01, 1.7244381e-01]],\n",
       "       dtype=float32)>, <tf.Tensor: id=57, shape=(1, 30), dtype=float32, numpy=\n",
       " array([[0.0277795 , 0.09842583, 0.14435768, 0.1984695 , 0.2610408 ,\n",
       "         0.33151144, 0.40821692, 0.48839146, 0.56856614, 0.6452716 ,\n",
       "         0.71574223, 0.7783135 , 0.8314602 , 0.8760873 , 0.916887  ,\n",
       "         0.10506301, 0.11561737, 0.12459844, 0.12308021, 0.13633473,\n",
       "         0.13804099, 0.13851047, 0.14654426, 0.14877598, 0.14295188,\n",
       "         0.140631  , 0.1387269 , 0.13777265, 0.13936354, 0.13113956]],\n",
       "       dtype=float32)>)"
      ]
     },
     "execution_count": 3,
     "metadata": {},
     "output_type": "execute_result"
    }
   ],
   "source": [
    "# Bt_min, Bt_max = np.nanmin(qsh['Bt_rm']), np.nanmax(qsh['Bt_rm'])\n",
    "Br_min, Br_max = np.nanmin(qsh['Br_rs']), np.nanmax(qsh['Br_rs'])\n",
    "\n",
    "def _map(xy,p,Br):\n",
    "    # Bt = (Bt-Bt_min)/(Bt_max-Bt_min)\n",
    "    # Br = (Br-Br_min)/(Br_max-Br_min)\n",
    "    pBr = tf.concat([p,Br], axis=0)\n",
    "    # return (xy,pBtBr),(xy,pBtBr)\n",
    "    return pBr,xy\n",
    "\n",
    "ds = qsh.tf_tuple_compose(['prel~te:15','Ip~NS~VT~F','absBr_rs~argBr_rs']).map(lambda x,y,br: _map(x,y,br) )\n",
    "# ds = qsh.tf_tuple_compose(['prel~te:15','Ip~NS~VT~F','Br_rs']).map(lambda x,y,br: _map(x,y,br) )\n",
    "[x for x in ds.shuffle(100).batch(1).take(1)][0]"
   ]
  },
  {
   "cell_type": "code",
   "execution_count": 7,
   "metadata": {},
   "outputs": [
    {
     "name": "stdout",
     "output_type": "stream",
     "text": [
      "AEFIT5 a ready:\n"
     ]
    }
   ],
   "source": [
    "vae = models.AEFIT5.AEFIT5(latent_dim=6, feature_dim=30, dprate=0.1, beta=0., scale=2, geometry=[20,20,10,10])\n",
    "vae.build(input_shape=vae.inference_net.input_shape)\n",
    "vae.compile( vae.optimizer, tf.losses.mse )"
   ]
  },
  {
   "cell_type": "code",
   "execution_count": null,
   "metadata": {},
   "outputs": [],
   "source": [
    "dds = ds.map(lambda p,xy: (xy,xy))\n",
    "vae_history = vae.fit( dds.skip(5000).batch(100, drop_remainder=True), validation_data=dds.take(5000).batch(100), epochs=50)"
   ]
  },
  {
   "cell_type": "code",
   "execution_count": 8,
   "metadata": {},
   "outputs": [],
   "source": [
    "# vae.save('step12_vae_ls')\n",
    "vae.load('step12_vae_ls')\n",
    "# plt.figure('vae_history')\n",
    "# plt.plot(vae_history.history['loss'])\n",
    "# plt.plot(vae_history.history['val_loss'])"
   ]
  },
  {
   "cell_type": "code",
   "execution_count": 4,
   "metadata": {},
   "outputs": [
    {
     "name": "stdout",
     "output_type": "stream",
     "text": [
      "AEFIT5 a ready:\n"
     ]
    }
   ],
   "source": [
    "vae1 = models.AEFIT5.AEFIT5(latent_dim=3, feature_dim=24, dprate=0.1, scale=2, geometry=[20,20,10,10])\n",
    "vae1.generative_net.trainable = False\n",
    "gen = vae1.inference_net"
   ]
  },
  {
   "cell_type": "code",
   "execution_count": 9,
   "metadata": {},
   "outputs": [
    {
     "data": {
      "text/plain": [
       "(<tf.Tensor: id=1663, shape=(1, 24), dtype=float32, numpy=\n",
       " array([[7.7838403e-01, 6.6250497e-01, 1.0000000e+00, 8.4118050e-01,\n",
       "         3.8530398e-03, 1.7496940e-03, 1.3933666e-03, 1.1771667e-03,\n",
       "         1.0829364e-03, 1.0471187e-03, 9.8091306e-04, 8.2249049e-04,\n",
       "         7.6939847e-04, 7.9315092e-04, 7.7427614e-01, 6.2758493e-01,\n",
       "         7.0027518e-01, 5.7280284e-01, 4.4354320e-01, 3.4268424e-01,\n",
       "         2.2694641e-01, 1.6687258e-01, 5.2244384e-02, 9.5797300e-01]],\n",
       "       dtype=float32)>,\n",
       " <tf.Tensor: id=1664, shape=(1, 6), dtype=float32, numpy=\n",
       " array([[ 0.3920337 , -0.42332593,  1.1689343 ,  3.7446733 ,  1.5084804 ,\n",
       "         -1.2739547 ]], dtype=float32)>)"
      ]
     },
     "execution_count": 9,
     "metadata": {},
     "output_type": "execute_result"
    }
   ],
   "source": [
    "Dds = ds.map(lambda p,xy: (p, tf.reshape(vae.encode(tf.reshape(xy,[1,-1]),training=False)[0],[-1])) )\n",
    "[x for x in Dds.batch(1).take(1)][0]"
   ]
  },
  {
   "cell_type": "code",
   "execution_count": 10,
   "metadata": {},
   "outputs": [],
   "source": [
    "\n",
    "# TRAIN MODEL\n",
    "rel = gen.layers[0]\n",
    "rel.rate = 0.\n",
    "# l1_l2 = tf.keras.regularizers.l1_l2\n",
    "# for l in gen.layers:\n",
    "#     if issubclass(type(l), tf.keras.layers.Dense):\n",
    "#         l.activity_regularizer = l1_l2(0.01)\n",
    "\n",
    "# gen.compile( vae1.optimizer, vae1.loss )\n",
    "gen.compile( tf.optimizers.Adam(1e-3), tf.losses.mse )\n",
    "\n",
    "DDS = Dds.prefetch( len(qsh) )\n"
   ]
  },
  {
   "cell_type": "code",
   "execution_count": 11,
   "metadata": {},
   "outputs": [
    {
     "data": {
      "image/png": "[encoded data removed]",
      "text/plain": [
       "<Figure size 936x216 with 3 Axes>"
      ]
     },
     "metadata": {},
     "output_type": "display_data"
    },
    {
     "data": {
      "image/png": "[encoded data removed]",
      "text/plain": [
       "<Figure size 864x576 with 1 Axes>"
      ]
     },
     "metadata": {},
     "output_type": "display_data"
    },
    {
     "name": "stdout",
     "output_type": "stream",
     "text": [
      "Mean squared error (cost function):\n",
      "training   (min:    0.617, max:    3.246, cur:    0.622)\n",
      "validation (min:    0.757, max:    2.981, cur:    0.840)\n",
      "\b\b\b\b\b\b\b\b\b\b\b\b\b\b\b\b\b\b\b\b\b\b\b\b\b\b\b\b\b\b\b\b\b\b\b\b\b\b\b\b\b\b\b\b\b\b\b\b\b\b\b\b\b\b\b\b\b\b\b\b\b\b\b\b\b\r",
      "446/446 [==============================] - 77s 173ms/step - loss: 0.6222 - val_loss: 0.8404\n"
     ]
    }
   ],
   "source": [
    "fit = lambda: gen.fit( DDS.skip(3000).batch(100), validation_data=DDS.take(3000).batch(100), epochs=100,\n",
    "                      callbacks=[PlotLossesCallback(), PlotRelevanceCallback()], shuffle=False )\n",
    "models.base.fn_thread(gen, fit).control_panel()"
   ]
  },
  {
   "cell_type": "code",
   "execution_count": 562,
   "metadata": {},
   "outputs": [
    {
     "ename": "NameError",
     "evalue": "name 'h' is not defined",
     "output_type": "error",
     "traceback": [
      "\u001b[0;31m---------------------------------------------------------------------------\u001b[0m",
      "\u001b[0;31mNameError\u001b[0m                                 Traceback (most recent call last)",
      "\u001b[0;32m<ipython-input-562-244aa7266b3f>\u001b[0m in \u001b[0;36m<module>\u001b[0;34m()\u001b[0m\n\u001b[0;32m----> 1\u001b[0;31m \u001b[0mh\u001b[0m\u001b[0;34m\u001b[0m\u001b[0;34m\u001b[0m\u001b[0m\n\u001b[0m",
      "\u001b[0;31mNameError\u001b[0m: name 'h' is not defined"
     ]
    }
   ],
   "source": []
  },
  {
   "cell_type": "code",
   "execution_count": null,
   "metadata": {},
   "outputs": [],
   "source": [
    "gen.layers[1].weights"
   ]
  },
  {
   "cell_type": "code",
   "execution_count": 568,
   "metadata": {},
   "outputs": [
    {
     "data": {
      "image/png": "[encoded data removed]",
      "text/plain": [
       "<Figure size 432x288 with 1 Axes>"
      ]
     },
     "metadata": {},
     "output_type": "display_data"
    },
    {
     "data": {
      "image/png": "[encoded data removed]",
      "text/plain": [
       "<Figure size 432x288 with 1 Axes>"
      ]
     },
     "metadata": {},
     "output_type": "display_data"
    },
    {
     "data": {
      "image/png": "[encoded data removed]",
      "text/plain": [
       "<Figure size 432x288 with 1 Axes>"
      ]
     },
     "metadata": {},
     "output_type": "display_data"
    }
   ],
   "source": [
    "index = qsh[0].n\n",
    "w = gen.layers[1].weights\n",
    "%matplotlib inline\n",
    "\n",
    "def plot_bar_x(index, w, title):\n",
    "    # this is for plotting purpose\n",
    "    plt.figure(title)\n",
    "    plt.bar(index, w)\n",
    "    # plt.xlabel('n', fontsize=5)\n",
    "    plt.ylabel('SXR ls6 relevance', fontsize=10)\n",
    "    plt.xticks(index, fontsize=10)\n",
    "    plt.title(title)\n",
    "    plt.show()\n",
    "\n",
    "p,re,im = w[0][0:4], w[0][4:14], w[0][14:24]\n",
    "plot_bar_x(['Ip','NS','Vt','F'], p, 'params')\n",
    "plot_bar_x(index, re, 'abs(Br) at resonance')\n",
    "plot_bar_x(index, im, 'arg(Br) at resonance')\n"
   ]
  },
  {
   "cell_type": "code",
   "execution_count": 28,
   "metadata": {},
   "outputs": [],
   "source": [
    "# vae1.save('step12_vae1_p2SXR_Br_rs_ABSARG')\n",
    "vae1.load('step12_vae1_p2SXR_Br_rs_ABSARG')\n",
    "# vae1.load('step12_vae1_p2SXR')\n",
    "# vae.load('step12_gan_PBr_reim')"
   ]
  },
  {
   "cell_type": "code",
   "execution_count": 5,
   "metadata": {},
   "outputs": [],
   "source": [
    "pos = 0"
   ]
  },
  {
   "cell_type": "code",
   "execution_count": null,
   "metadata": {},
   "outputs": [],
   "source": [
    "print(pos)\n",
    "d_pos = [x for x in ds.skip(pos).batch(1).take(1)][0]\n",
    "qp = qsh[pos]\n",
    "qp.plot_countour()\n"
   ]
  },
  {
   "cell_type": "code",
   "execution_count": 78,
   "metadata": {},
   "outputs": [
    {
     "name": "stderr",
     "output_type": "stream",
     "text": [
      "W0905 14:59:55.759104 139775700584256 legend.py:1282] No handles with labels found to put in legend.\n"
     ]
    },
    {
     "name": "stdout",
     "output_type": "stream",
     "text": [
      "68\n"
     ]
    },
    {
     "data": {
      "image/png": "[encoded data removed]",
      "text/plain": [
       "<Figure size 576x432 with 1 Axes>"
      ]
     },
     "metadata": {},
     "output_type": "display_data"
    }
   ],
   "source": [
    "print(pos)\n",
    "d_pos = [x for x in ds.skip(pos).batch(1).take(1)][0]\n",
    "\n",
    "def plot(xy, name=None):\n",
    "    fig = plt.figure('plot')\n",
    "    fig.set_size_inches(8, 6, forward=True)\n",
    "    ax = plt.gca()\n",
    "    ax.legend()\n",
    "    ax.set_ylim(0.,0.8)\n",
    "    xy = tf.reshape(xy, [-1])\n",
    "    x,y = tf.split(xy, num_or_size_splits=2, axis=0)\n",
    "    plt.plot(x,y,'.', label=name)\n",
    "\n",
    "xy = d_pos[1]\n",
    "XY_vae = vae(xy, training=False)\n",
    "ls = gen(d_pos[0], training=False)\n",
    "XY = vae.decode(ls, training=False)\n",
    "# XY = tf.sigmoid(XY)\n",
    "plot(xy, 'feature')\n",
    "plot(XY, 'reconst')\n",
    "plot(XY_vae, 'vae')\n",
    "pos += 1"
   ]
  }
 ],
 "metadata": {
  "kernelspec": {
   "display_name": "Python 3",
   "language": "python",
   "name": "python3"
  },
  "language_info": {
   "codemirror_mode": {
    "name": "ipython",
    "version": 3
   },
   "file_extension": ".py",
   "mimetype": "text/x-python",
   "name": "python",
   "nbconvert_exporter": "python",
   "pygments_lexer": "ipython3",
   "version": "3.6.8"
  }
 },
 "nbformat": 4,
 "nbformat_minor": 2
}
