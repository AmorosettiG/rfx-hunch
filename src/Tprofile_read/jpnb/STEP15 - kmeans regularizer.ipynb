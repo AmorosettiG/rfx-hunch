{
 "cells": [
  {
   "cell_type": "code",
   "execution_count": 6,
   "metadata": {},
   "outputs": [],
   "source": [
    "import numpy as np\n",
    "import tensorflow as tf\n",
    "\n",
    "# %matplotlib inline\n",
    "import matplotlib.pyplot as plt\n",
    "import matplotlib.patches as patches\n",
    "import matplotlib.colors as colors \n",
    "\n",
    "from datetime import datetime\n",
    "from packaging import version\n",
    "\n",
    "\n",
    "import ipysh\n",
    "import Hunch_utils  as Htls\n",
    "import Hunch_lsplot as Hplt\n",
    "import Hunch_tSNEplot as Hsne\n",
    "\n",
    "%aimport Dataset_QSH\n",
    "%aimport models.base\n",
    "%aimport models.AEFIT5\n",
    "%aimport models.AEFIT8\n",
    "\n",
    "\n",
    "import livelossplot.keras\n",
    "class PlotLossesCallback(livelossplot.keras.PlotLossesCallback):\n",
    "    def on_train_batch_begin(self, a, b): pass\n",
    "    def on_train_batch_end(self, a, b): pass\n",
    "    def on_test_begin(self, a): pass\n",
    "    def on_test_end(self, a): pass\n",
    "    def on_test_batch_begin(self, a, b): pass\n",
    "    def on_test_batch_end(self, a, b): pass"
   ]
  },
  {
   "cell_type": "code",
   "execution_count": 136,
   "metadata": {},
   "outputs": [],
   "source": [
    "qsh = Dataset_QSH.Dataset_QSH()\n",
    "import os\n",
    "file = ipysh.abs_builddir+'/te_db_fix_r15_shuffle.npy'\n",
    "qsh.load(file)\n"
   ]
  },
  {
   "cell_type": "code",
   "execution_count": 137,
   "metadata": {},
   "outputs": [
    {
     "name": "stdout",
     "output_type": "stream",
     "text": [
      "QSH rebalanced 15 points size:  47567\n"
     ]
    }
   ],
   "source": [
    "qsh.clean_up_poorcurves(5)\n",
    "qsh.dim = None\n",
    "qsh.set_null(np.nan)\n",
    "# qsh.set_normal_positive()\n",
    "qsh.set_normal_positive(['prel','te','tcentro','tbordo','Ip','VT','NS'])\n",
    "\n",
    "print(\"QSH rebalanced 15 points size: \", len(qsh))"
   ]
  },
  {
   "cell_type": "markdown",
   "metadata": {},
   "source": [
    "## VAE reconstruction - beta\n",
    "\n",
    "The dropout has been set to 0. ... otherwise it seems to not converge ( tested with 0.4 )\n",
    "Moreover also beta has been set to 0. ... that corresponds to a deterministic vae"
   ]
  },
  {
   "cell_type": "code",
   "execution_count": 138,
   "metadata": {},
   "outputs": [
    {
     "name": "stdout",
     "output_type": "stream",
     "text": [
      "AEFIT8 ready:\n"
     ]
    }
   ],
   "source": [
    "vae  = models.AEFIT8.AEFIT8(latent_dim=6, feature_dim=35, dprate=0., scale=1, beta=0.0, geometry=[20,20,10,10])"
   ]
  },
  {
   "cell_type": "code",
   "execution_count": 139,
   "metadata": {},
   "outputs": [
    {
     "data": {
      "text/plain": [
       "(<tf.Tensor: id=2282556, shape=(35,), dtype=float32, numpy=\n",
       " array([       nan, 0.10277789, 0.15121816, 0.20828514, 0.27427357,\n",
       "        0.3485927 , 0.42948723, 0.51404023, 0.59859335, 0.6794879 ,\n",
       "        0.75380695,        nan,        nan,        nan,        nan,\n",
       "               nan, 0.47085014, 0.4789356 , 0.44991535, 0.49600562,\n",
       "        0.4603666 , 0.46113756, 0.4934741 , 0.46349722, 0.48122364,\n",
       "        0.6778591 ,        nan,        nan,        nan,        nan,\n",
       "        0.59479386, 0.        , 0.49982342, 0.40706033, 0.23043942],\n",
       "       dtype=float32)>,\n",
       " <tf.Tensor: id=2282557, shape=(35,), dtype=float32, numpy=\n",
       " array([       nan, 0.10277789, 0.15121816, 0.20828514, 0.27427357,\n",
       "        0.3485927 , 0.42948723, 0.51404023, 0.59859335, 0.6794879 ,\n",
       "        0.75380695,        nan,        nan,        nan,        nan,\n",
       "               nan, 0.47085014, 0.4789356 , 0.44991535, 0.49600562,\n",
       "        0.4603666 , 0.46113756, 0.4934741 , 0.46349722, 0.48122364,\n",
       "        0.6778591 ,        nan,        nan,        nan,        nan,\n",
       "        0.59479386, 0.        , 0.49982342, 0.40706033, 0.23043942],\n",
       "       dtype=float32)>)"
      ]
     },
     "execution_count": 139,
     "metadata": {},
     "output_type": "execute_result"
    }
   ],
   "source": [
    "def _map(x,y):\n",
    "    return tf.concat([x,y],axis=0)\n",
    "\n",
    "ds = qsh.tf_tuple_compose(['prel~te:15','tcentro~tbordo~Ip~VT~NS']).map(lambda x,y: (_map(x,y),_map(x,y)))\n",
    "[x for x in ds.take(10)][0]"
   ]
  },
  {
   "cell_type": "code",
   "execution_count": 140,
   "metadata": {},
   "outputs": [],
   "source": [
    "class Emedding(tf.keras.callbacks.Callback):\n",
    "    \n",
    "    def __init__(self, logdir, validation_data):\n",
    "        self.logdir = logdir\n",
    "        self.data = validation_data        \n",
    "    def set_model(self, model):\n",
    "        m,v = model.encode(self.data)\n",
    "        z = model.reparametrize(m,v)\n",
    "        self.V = tf.Variable(z, trainable=False)\n",
    "        self.ckpt = tf.train.Checkpoint(V=self.V)\n",
    "\n",
    "        self.model = model\n",
    "    def on_epoch_end(self, logs, epoch):\n",
    "        model = self.model\n",
    "        m,v = model.encode(self.data)\n",
    "        z = model.reparametrize(m,v)\n",
    "        self.V.assign(z)\n",
    "        self.ckpt.save(self.logdir+'/vae.ckpt')\n",
    "        \n",
    "\n"
   ]
  },
  {
   "cell_type": "code",
   "execution_count": 141,
   "metadata": {},
   "outputs": [
    {
     "name": "stdout",
     "output_type": "stream",
     "text": [
      "LOG:  /home/andrea/devel/rfx/rfx-hunch/src/Tprofile_read/jpnb/logs/fit_20200124-100910\n"
     ]
    }
   ],
   "source": [
    "import io\n",
    "\n",
    "logdir = models.base.create_logdir()\n",
    "ds_meta = qsh.tf_tuple_compose(['tcentro~tbordo~Ip~VT~NS']).take(3000)\n",
    "\n",
    "out_v = io.open(logdir+'meta.tsv', 'w', encoding='utf-8')\n",
    "out_v.write( '\\t'.join(['tcentro','tbordo','Ip','VT','NS'])+'\\n' )\n",
    "for v in ds_meta:\n",
    "    # out_v.write( '\\t'.join(str(v)+'\\n')\n",
    "    out_v.write( '\\t'.join([str(i) for i in v[0].numpy()])+'\\n')\n",
    "out_v.close()"
   ]
  },
  {
   "cell_type": "code",
   "execution_count": 142,
   "metadata": {},
   "outputs": [
    {
     "data": {
      "image/png": "[encoded data removed]",
      "text/plain": [
       "<Figure size 864x1152 with 5 Axes>"
      ]
     },
     "metadata": {},
     "output_type": "display_data"
    },
    {
     "name": "stdout",
     "output_type": "stream",
     "text": [
      "<lambda> (cost function):\n",
      "training   (min:    0.000, max:    0.004, cur:    0.000)\n",
      "validation (min:    0.000, max:    0.000, cur:    0.000)\n",
      "\n",
      "mse:\n",
      "training   (min:    0.000, max:    0.004, cur:    0.000)\n",
      "validation (min:    0.000, max:    0.000, cur:    0.000)\n",
      "\n",
      "akl:\n",
      "training   (min:   21.884, max:   37.596, cur:   37.596)\n",
      "validation (min:   30.883, max:   37.609, cur:   36.799)\n",
      "\n",
      "mkl:\n",
      "training   (min:   21.791, max:   39.447, cur:   39.447)\n",
      "validation (min:   30.535, max:   39.290, cur:   38.666)\n",
      "\n",
      "b:\n",
      "training   (min:    0.000, max:    0.000, cur:    0.000)\n",
      "validation (min:    0.000, max:    0.000, cur:    0.000)\n",
      "445/445 [==============================] - 8s 19ms/step - loss: 1.3097e-04 - mse: 1.3136e-04 - akl: 37.5961 - mkl: 39.4474 - b: 0.0000e+00 - val_loss: 1.4001e-04 - val_mse: 1.4001e-04 - val_akl: 36.7989 - val_mkl: 38.6659 - val_b: 0.0000e+00\n",
      "Epoch 12/200\n",
      "28/30 [===========================>..] - ETA: 0s - loss: 1.2863e-04 - mse: 1.2863e-04 - akl: 36.7240 - mkl: 38.6296 - b: 0.0000e+00"
     ]
    }
   ],
   "source": [
    "#models.base.manual_train_thread(q_vae, qsh, batch=200, epoch=6, loss_factor=1e-3)\n",
    "# q_vae.train_thread(qsh, batch=200, epoch=10, learning_rate=1e-3).control_panel()\n",
    "# models.base.train_thread(q_vae, qsh, batch=100, epoch=10, learning_rate=1e-3, callbacks=[]).control_panel()\n",
    "\n",
    "# import io\n",
    "# logdir = models.base.create_logdir()\n",
    "\n",
    "# out_v = io.open(logdir+'meta.tsv', 'w', encoding='utf-8')\n",
    "# tcentro = qsh['tcentro'][0:3000]\n",
    "# for c in tcentro:\n",
    "#     out_v.write(str(c)+'\\n')\n",
    "# out_v.close()\n",
    "\n",
    "tbcb   = models.base.tensorboard_cb(logdir)\n",
    "\n",
    "vdata = [x for x in ds.take(3000).batch(3000)][0]\n",
    "\n",
    "e = Emedding(logdir, vdata)\n",
    "\n",
    "def fun():\n",
    "    global h\n",
    "    h = vae.fit( ds.skip(3000).cache().batch(100, drop_remainder=True), validation_data=ds.take(3000).cache().batch(100), \n",
    "                   callbacks=[PlotLossesCallback(),e], \n",
    "                   epochs=200, shuffle=False)\n",
    "models.base.fn_thread(fn=fun, model=vae).control_panel()"
   ]
  },
  {
   "cell_type": "code",
   "execution_count": 19,
   "metadata": {},
   "outputs": [
    {
     "ename": "NameError",
     "evalue": "name 'h' is not defined",
     "output_type": "error",
     "traceback": [
      "\u001b[0;31m---------------------------------------------------------------------------\u001b[0m",
      "\u001b[0;31mNameError\u001b[0m                                 Traceback (most recent call last)",
      "\u001b[0;32m<ipython-input-19-c9739519e280>\u001b[0m in \u001b[0;36m<module>\u001b[0;34m()\u001b[0m\n\u001b[0;32m----> 1\u001b[0;31m \u001b[0mloss\u001b[0m \u001b[0;34m=\u001b[0m \u001b[0;34m[\u001b[0m\u001b[0mi\u001b[0m\u001b[0;34m[\u001b[0m\u001b[0;36m0\u001b[0m\u001b[0;34m]\u001b[0m \u001b[0;32mfor\u001b[0m \u001b[0mi\u001b[0m \u001b[0;32min\u001b[0m \u001b[0mh\u001b[0m\u001b[0;34m.\u001b[0m\u001b[0mhistory\u001b[0m\u001b[0;34m[\u001b[0m\u001b[0;34m'loss'\u001b[0m\u001b[0;34m]\u001b[0m\u001b[0;34m]\u001b[0m\u001b[0;34m\u001b[0m\u001b[0;34m\u001b[0m\u001b[0m\n\u001b[0m\u001b[1;32m      2\u001b[0m \u001b[0mval_loss\u001b[0m \u001b[0;34m=\u001b[0m \u001b[0;34m[\u001b[0m\u001b[0mi\u001b[0m\u001b[0;34m[\u001b[0m\u001b[0;36m0\u001b[0m\u001b[0;34m]\u001b[0m \u001b[0;32mfor\u001b[0m \u001b[0mi\u001b[0m \u001b[0;32min\u001b[0m \u001b[0mh\u001b[0m\u001b[0;34m.\u001b[0m\u001b[0mhistory\u001b[0m\u001b[0;34m[\u001b[0m\u001b[0;34m'val_loss'\u001b[0m\u001b[0;34m]\u001b[0m\u001b[0;34m]\u001b[0m\u001b[0;34m\u001b[0m\u001b[0;34m\u001b[0m\u001b[0m\n\u001b[1;32m      3\u001b[0m \u001b[0mfig\u001b[0m \u001b[0;34m=\u001b[0m \u001b[0mplt\u001b[0m\u001b[0;34m.\u001b[0m\u001b[0mfigure\u001b[0m\u001b[0;34m(\u001b[0m\u001b[0;34m'loss'\u001b[0m\u001b[0;34m)\u001b[0m\u001b[0;34m\u001b[0m\u001b[0;34m\u001b[0m\u001b[0m\n\u001b[1;32m      4\u001b[0m \u001b[0mfig\u001b[0m\u001b[0;34m.\u001b[0m\u001b[0mset_dpi\u001b[0m\u001b[0;34m(\u001b[0m\u001b[0;36m150\u001b[0m\u001b[0;34m)\u001b[0m\u001b[0;34m\u001b[0m\u001b[0;34m\u001b[0m\u001b[0m\n\u001b[1;32m      5\u001b[0m \u001b[0mplt\u001b[0m\u001b[0;34m.\u001b[0m\u001b[0myscale\u001b[0m\u001b[0;34m(\u001b[0m\u001b[0;34m'log'\u001b[0m\u001b[0;34m)\u001b[0m\u001b[0;34m\u001b[0m\u001b[0;34m\u001b[0m\u001b[0m\n",
      "\u001b[0;31mNameError\u001b[0m: name 'h' is not defined"
     ]
    }
   ],
   "source": [
    "loss = [i[0] for i in h.history['loss']]\n",
    "val_loss = [i[0] for i in h.history['val_loss']]\n",
    "fig = plt.figure('loss')\n",
    "fig.set_dpi(150)\n",
    "plt.yscale('log')\n",
    "plt.plot(loss[0:150])\n",
    "plt.plot(val_loss[0:150])"
   ]
  },
  {
   "cell_type": "code",
   "execution_count": null,
   "metadata": {},
   "outputs": [],
   "source": [
    "# vae6.load('step7_ls6')"
   ]
  },
  {
   "cell_type": "code",
   "execution_count": 33,
   "metadata": {},
   "outputs": [],
   "source": [
    "from tensorboard.plugins import projector\n",
    "import io\n",
    "%load_ext tensorboard\n",
    "\n",
    "m = [ vae.encode(i,training=False)[0] for i in ds.batch(100).take(1) ]\n",
    "\n",
    "logdir = \"logs/scalars/\" + datetime.now().strftime(\"%Y%m%d-%H%M%S\")\n",
    "# file_writer = tf.summary.create_file_writer(logdir + \"/metrics\")\n",
    "# file_writer.set_as_default()\n",
    "\n",
    "\n",
    "\n",
    "# config = projector.ProjectorConfig()\n",
    "\n",
    "# embedding = config.embeddings.add()\n",
    "# embedding.tensor_name = 'm'\n",
    "# # Link this tensor to its metadata(Labels) file\n",
    "# # embedding.metadata_path = metadata\n",
    "\n",
    "out_v = io.open(logdir+'vecs.tsv', 'w', encoding='utf-8')\n",
    "out_m = io.open(logdir+'meta.tsv', 'w', encoding='utf-8')\n",
    "\n",
    "\n",
    "\n",
    "for x in m[0]:\n",
    "    out_v.write('\\t1.0\\t'.join([str(v) for v in x.numpy()]) + \"\\n\")\n",
    "\n",
    "out_v.close()\n",
    "\n",
    "\n",
    "# Saves a config file that TensorBoard will read during startup.\n",
    "# projector.visualize_embeddings(tf.summary.FileWriter(logdir), config)\n",
    "\n",
    "# tf.summary.scalar('m', data=m, step=0)\n",
    "\n",
    "\n",
    "#     fig = plt.figure()\n",
    "#     for i in range(1000):\n",
    "#         c = np.linspace(0,255,)\n",
    "#         te = qsh['te'][i]\n",
    "#         plt.plot(te,'-', color=cm(L[i]), linewidth=0.2) \n",
    "\n",
    "#     plt.ion()\n",
    "#     plt.show()\n",
    "\n",
    "\n"
   ]
  }
 ],
 "metadata": {
  "kernelspec": {
   "display_name": "Python 3",
   "language": "python",
   "name": "python3"
  },
  "language_info": {
   "codemirror_mode": {
    "name": "ipython",
    "version": 3
   },
   "file_extension": ".py",
   "mimetype": "text/x-python",
   "name": "python",
   "nbconvert_exporter": "python",
   "pygments_lexer": "ipython3",
   "version": "3.6.8"
  }
 },
 "nbformat": 4,
 "nbformat_minor": 2
}
