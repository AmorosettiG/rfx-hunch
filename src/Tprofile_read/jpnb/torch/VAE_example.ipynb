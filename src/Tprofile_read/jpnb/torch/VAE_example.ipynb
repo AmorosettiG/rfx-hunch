{
 "cells": [
  {
   "cell_type": "code",
   "execution_count": 5,
   "metadata": {},
   "outputs": [
    {
     "name": "stdout",
     "output_type": "stream",
     "text": [
      "Keyring is skipped due to an exception: org.freedesktop.DBus.Error.FileNotFound: Failed to connect to socket /run/user/1000/bus: No such file or directory\n",
      "Requirement already satisfied: numpy in /home/andrea/devel/rfx/rfx-hunch/build/conf/python/site-packages/lib/python3.6/site-packages (1.18.1)\n",
      "Collecting torchvision\n",
      "\u001b[?25l  Downloading https://files.pythonhosted.org/packages/7e/90/6141bf41f5655c78e24f40f710fdd4f8a8aff6c8b7c6f0328240f649bdbe/torchvision-0.5.0-cp36-cp36m-manylinux1_x86_64.whl (4.0MB)\n",
      "\u001b[K     |################################| 4.0MB 4.2MB/s eta 0:00:01\n",
      "\u001b[?25hRequirement already satisfied: pillow>=4.1.1 in /home/andrea/devel/rfx/rfx-hunch/build/conf/python/site-packages/lib/python3.6/site-packages (from torchvision) (6.0.0)\n",
      "Collecting torch==1.4.0\n",
      "\u001b[?25l  Downloading https://files.pythonhosted.org/packages/24/19/4804aea17cd136f1705a5e98a00618cb8f6ccc375ad8bfa437408e09d058/torch-1.4.0-cp36-cp36m-manylinux1_x86_64.whl (753.4MB)\n",
      "\u001b[K     |################################| 753.4MB 9.7kB/s eta 0:00:013     |#############################   | 682.8MB 3.2MB/s eta 0:00:22     |##############################  | 710.9MB 3.9MB/s eta 0:00:12\n",
      "\u001b[?25hRequirement already satisfied: six in /home/andrea/devel/rfx/rfx-hunch/build/conf/python/site-packages/lib/python3.6/site-packages (from torchvision) (1.14.0)\n",
      "Installing collected packages: torch, torchvision\n",
      "  Found existing installation: torch 1.3.0\n",
      "    Uninstalling torch-1.3.0:\n",
      "      Successfully uninstalled torch-1.3.0\n",
      "\u001b[33m  WARNING: The scripts convert-caffe2-to-onnx and convert-onnx-to-caffe2 are installed in '/home/andrea/devel/rfx/rfx-hunch/build/conf/python/site-packages/bin' which is not on PATH.\n",
      "  Consider adding this directory to PATH or, if you prefer to suppress this warning, use --no-warn-script-location.\u001b[0m\n",
      "Successfully installed torch-1.4.0 torchvision-0.5.0\n",
      "\u001b[33mWARNING: You are using pip version 19.3.1; however, version 20.0.2 is available.\n",
      "You should consider upgrading via the 'pip install --upgrade pip' command.\u001b[0m\n"
     ]
    }
   ],
   "source": [
    "!python3 -m pip install --user numpy torchvision"
   ]
  },
  {
   "cell_type": "code",
   "execution_count": 167,
   "metadata": {},
   "outputs": [],
   "source": [
    "from __future__ import print_function\n",
    "import argparse\n",
    "import torch\n",
    "import torch.utils.data\n",
    "from torch import nn, optim\n",
    "from torch.nn import functional as F\n",
    "from torch.utils.data import DataLoader, Dataset\n",
    "# from torchvision import datasets, transforms\n",
    "# from torchvision.utils import save_image\n",
    "import numpy as np\n",
    "import ipysh\n",
    "import Hunch_utils  as Htls\n",
    "import Hunch_lsplot as Hplt\n",
    "import Hunch_tSNEplot as Hsne\n",
    "\n",
    "%aimport Dataset_QSH"
   ]
  },
  {
   "cell_type": "code",
   "execution_count": 110,
   "metadata": {},
   "outputs": [],
   "source": [
    "device = torch.device(\"cpu\")"
   ]
  },
  {
   "cell_type": "code",
   "execution_count": 139,
   "metadata": {},
   "outputs": [],
   "source": [
    "class VAE(nn.Module):\n",
    "    def __init__(self, feature_dim=30, latent_dim=6, size=1):\n",
    "        super(VAE, self).__init__()\n",
    "        self.feature_dim = feature_dim\n",
    "        fcs = feature_dim*size\n",
    "        self.fc1 = nn.Sequential( \n",
    "                nn.Linear(feature_dim, fcs),\n",
    "                nn.Linear(fcs, fcs),\n",
    "                nn.Linear(fcs, fcs),\n",
    "                nn.Linear(fcs, fcs),\n",
    "        )\n",
    "        self.fc21 = nn.Linear(fcs, latent_dim)\n",
    "        self.fc22 = nn.Linear(fcs, latent_dim)\n",
    "        self.fc3 = nn.Sequential(\n",
    "            nn.Linear(latent_dim, fcs),\n",
    "            nn.Linear(fcs, fcs),\n",
    "            nn.Linear(fcs, fcs),\n",
    "            nn.Linear(fcs, fcs),\n",
    "        )\n",
    "        self.fc4 = nn.Linear(fcs, feature_dim)\n",
    "\n",
    "    def encode(self, x):\n",
    "        h1 = F.relu(self.fc1(x))\n",
    "        return self.fc21(h1), self.fc22(h1)\n",
    "\n",
    "    def reparameterize(self, mu, logvar):\n",
    "        std = torch.exp(0.5*logvar)\n",
    "        eps = torch.randn_like(std)\n",
    "        return mu + eps*std\n",
    "\n",
    "    def decode(self, z):\n",
    "        h3 = F.relu(self.fc3(z))\n",
    "        return torch.sigmoid(self.fc4(h3))\n",
    "\n",
    "    def forward(self, x):\n",
    "        mu, logvar = self.encode(x.view(-1,  self.feature_dim))\n",
    "        z = self.reparameterize(mu, logvar)\n",
    "        return self.decode(z), mu, logvar\n",
    "    \n",
    "\n",
    "    "
   ]
  },
  {
   "cell_type": "code",
   "execution_count": 134,
   "metadata": {},
   "outputs": [],
   "source": [
    "# Reconstruction + KL divergence losses summed over all elements and batch\n",
    "def loss_function(recon_x, x, mu, logvar):\n",
    "    BCE = F.mse_loss(recon_x, x.view(-1, 30), reduction='sum')\n",
    "    # KLD = -0.5 * torch.sum(1 + logvar - mu.pow(2) - logvar.exp())\n",
    "    return BCE #+ KLD\n"
   ]
  },
  {
   "cell_type": "code",
   "execution_count": 177,
   "metadata": {},
   "outputs": [
    {
     "name": "stderr",
     "output_type": "stream",
     "text": [
      "/usr/lib/python3/dist-packages/ipykernel_launcher.py:2: UserWarning: To copy construct from a tensor, it is recommended to use sourceTensor.clone().detach() or sourceTensor.clone().detach().requires_grad_(True), rather than torch.tensor(sourceTensor).\n",
      "  \n"
     ]
    },
    {
     "data": {
      "text/plain": [
       "tensor([[0.4459, 0.5152, 0.4928,  ..., 0.5291, 0.5094, 0.5405],\n",
       "        [0.4525, 0.5052, 0.4848,  ..., 0.5277, 0.5340, 0.5368],\n",
       "        [0.4606, 0.5119, 0.4811,  ..., 0.5222, 0.5379, 0.5214],\n",
       "        ...,\n",
       "        [0.4570, 0.5071, 0.4757,  ..., 0.5159, 0.5454, 0.5184],\n",
       "        [0.4478, 0.5038, 0.4962,  ..., 0.5113, 0.5350, 0.5384],\n",
       "        [0.4644, 0.5297, 0.4742,  ..., 0.5180, 0.5317, 0.5222]],\n",
       "       grad_fn=<SigmoidBackward>)"
      ]
     },
     "execution_count": 177,
     "metadata": {},
     "output_type": "execute_result"
    }
   ],
   "source": [
    "m = VAE()\n",
    "x = torch.tensor(torch.randn([100,30]))\n",
    "\n",
    "# F.mse_loss(x,m(x)[0].view(-1,30))\n",
    "m(x)[0]"
   ]
  },
  {
   "cell_type": "code",
   "execution_count": 204,
   "metadata": {},
   "outputs": [
    {
     "name": "stderr",
     "output_type": "stream",
     "text": [
      "/usr/lib/python3/dist-packages/ipykernel_launcher.py:1: UserWarning: To copy construct from a tensor, it is recommended to use sourceTensor.clone().detach() or sourceTensor.clone().detach().requires_grad_(True), rather than torch.tensor(sourceTensor).\n",
      "  \"\"\"Entry point for launching an IPython kernel.\n"
     ]
    }
   ],
   "source": [
    "xy = torch.tensor(torch.randn([100,30]))\n",
    "XY = m(xy)[0][0]\n",
    "\n",
    "x,y = torch.split(XY, 15)\n",
    "\n"
   ]
  },
  {
   "cell_type": "code",
   "execution_count": 238,
   "metadata": {},
   "outputs": [],
   "source": [
    "qsh = Dataset_QSH.Dataset_QSH()\n",
    "file = ipysh.abs_builddir+'/te_db_r15_clean_shuffle.npy'\n",
    "qsh.load(file)\n",
    "\n",
    "qsh.dim = 15\n",
    "qsh.set_null(np.nan)\n",
    "qsh.set_normal_positive()\n",
    "\n",
    "params = {\n",
    "            'batch_size': 100,\n",
    "            'shuffle': True,\n",
    "            'num_workers': 6,\n",
    "            'shuffle': True,\n",
    "         }\n",
    "\n",
    "ds = qsh.get_torch_dataset()\n",
    "ds,ts = torch.utils.data.random_split(ds, [len(ds)-6000, 6000])\n",
    "\n",
    "ds = DataLoader(ds,**params)\n",
    "ts = DataLoader(ts,**params)\n"
   ]
  },
  {
   "cell_type": "code",
   "execution_count": 178,
   "metadata": {},
   "outputs": [],
   "source": [
    "optimizer = optim.Adam(m.parameters(), lr=1e-3)\n",
    "def train(model, epoch):\n",
    "    model.train()\n",
    "    train_loss = 0\n",
    "    for batch_idx, (data, _) in enumerate(ds):\n",
    "        data = data.to(device)\n",
    "        optimizer.zero_grad()\n",
    "        recon_batch, mu, logvar = model(data)\n",
    "        loss = loss_function(recon_batch, data, mu, logvar)\n",
    "        loss.backward()\n",
    "        train_loss += loss.item()\n",
    "        optimizer.step()\n",
    "        print(\"step: [{}], loss={}\".format(batch_idx, loss.item()), end = '  \\r')\n",
    "\n",
    "    print('====> Epoch: {} Average loss: {:.4f}'.format(\n",
    "          epoch, train_loss / len(ds)), end='\\t' )\n",
    "\n",
    "def test(model, epoch):\n",
    "    model.eval()\n",
    "    test_loss = 0\n",
    "    with torch.no_grad():\n",
    "        for i, (data, _) in enumerate(ts):\n",
    "            data = data.to(device)\n",
    "            recon_batch, mu, logvar = model(data)\n",
    "            test_loss += loss_function(recon_batch, data, mu, logvar).item()\n",
    "#             if i == 0:\n",
    "#                 n = min(data.size(0), 8)\n",
    "#                 comparison = torch.cat([data[:n],\n",
    "#                                       recon_batch.view(args.batch_size, 1, 28, 28)[:n]])\n",
    "#                 save_image(comparison.cpu(),\n",
    "#                          'results/reconstruction_' + str(epoch) + '.png', nrow=n)\n",
    "\n",
    "    test_loss /= len(ts)\n",
    "    print('====> Test set loss: {:.4f}'.format(test_loss))\n"
   ]
  },
  {
   "cell_type": "code",
   "execution_count": 179,
   "metadata": {},
   "outputs": [
    {
     "name": "stdout",
     "output_type": "stream",
     "text": [
      "====> Epoch: 0 Average loss: 18.2919\t  ====> Test set loss: 0.4336\n",
      "====> Epoch: 1 Average loss: 0.8408\t6  ====> Test set loss: 0.4158\n",
      "====> Epoch: 2 Average loss: 0.8232\t8  ====> Test set loss: 0.4250\n",
      "====> Epoch: 3 Average loss: 0.8134\t  ====> Test set loss: 0.4096\n",
      "====> Epoch: 4 Average loss: 0.8044\t3  ====> Test set loss: 0.3959\n",
      "====> Epoch: 5 Average loss: 0.7376\t2  ====> Test set loss: 0.2692\n",
      "====> Epoch: 6 Average loss: 0.5248\t   ====> Test set loss: 0.2419\n",
      "====> Epoch: 7 Average loss: 0.4989\t   ====> Test set loss: 0.2183\n",
      "====> Epoch: 8 Average loss: 0.4880\t5  ====> Test set loss: 0.2371\n",
      "====> Epoch: 9 Average loss: 0.4827\t6  ====> Test set loss: 0.2226\n",
      "====> Epoch: 10 Average loss: 0.4794\t  ====> Test set loss: 0.2250\n",
      "====> Epoch: 11 Average loss: 0.4799\t  ====> Test set loss: 0.2011\n",
      "====> Epoch: 12 Average loss: 0.4773\t  ====> Test set loss: 0.2219\n",
      "====> Epoch: 13 Average loss: 0.4755\t  ====> Test set loss: 0.2167\n",
      "====> Epoch: 14 Average loss: 0.4739\t  ====> Test set loss: 0.2184\n",
      "====> Epoch: 15 Average loss: 0.4708\t  ====> Test set loss: 0.2138\n",
      "====> Epoch: 16 Average loss: 0.4005\t  ====> Test set loss: 0.1512\n",
      "====> Epoch: 17 Average loss: 0.3348\t  ====> Test set loss: 0.1385\n",
      "====> Epoch: 18 Average loss: 0.3283\t  ====> Test set loss: 0.1342\n",
      "====> Epoch: 19 Average loss: 0.3258\t5  ====> Test set loss: 0.1367\n",
      "====> Epoch: 20 Average loss: 0.3253\t  ====> Test set loss: 0.1417\n",
      "====> Epoch: 21 Average loss: 0.3229\t  ====> Test set loss: 0.1365\n",
      "====> Epoch: 22 Average loss: 0.3215\t  ====> Test set loss: 0.1317\n",
      "====> Epoch: 23 Average loss: 0.3211\t  ====> Test set loss: 0.1395\n",
      "====> Epoch: 24 Average loss: 0.3188\t  ====> Test set loss: 0.1313\n",
      "====> Epoch: 25 Average loss: 0.3180\t  ====> Test set loss: 0.1424\n",
      "====> Epoch: 26 Average loss: 0.3181\t  ====> Test set loss: 0.1287\n",
      "====> Epoch: 27 Average loss: 0.3164\t  ====> Test set loss: 0.1391\n",
      "====> Epoch: 28 Average loss: 0.3149\t  ====> Test set loss: 0.1282\n",
      "====> Epoch: 29 Average loss: 0.2966\t  ====> Test set loss: 0.1388\n",
      "====> Epoch: 30 Average loss: 0.2305\t6  ====> Test set loss: 0.1143\n",
      "====> Epoch: 31 Average loss: 0.2244\t  ====> Test set loss: 0.1072\n",
      "====> Epoch: 32 Average loss: 0.2223\t4  ====> Test set loss: 0.1041\n",
      "====> Epoch: 33 Average loss: 0.2213\t3  ====> Test set loss: 0.0950\n",
      "====> Epoch: 34 Average loss: 0.2197\t5  ====> Test set loss: 0.0941\n",
      "====> Epoch: 35 Average loss: 0.2170\t  ====> Test set loss: 0.0980\n",
      "====> Epoch: 36 Average loss: 0.2154\t  ====> Test set loss: 0.0939\n",
      "====> Epoch: 37 Average loss: 0.2133\t  ====> Test set loss: 0.0995\n",
      "====> Epoch: 38 Average loss: 0.2117\t  ====> Test set loss: 0.0916\n",
      "====> Epoch: 39 Average loss: 0.2103\t4  ====> Test set loss: 0.0867\n",
      "====> Epoch: 40 Average loss: 0.2075\t  ====> Test set loss: 0.1030\n",
      "====> Epoch: 41 Average loss: 0.1866\t  ====> Test set loss: 0.0824\n",
      "====> Epoch: 42 Average loss: 0.1563\t  ====> Test set loss: 0.0695\n",
      "====> Epoch: 43 Average loss: 0.1517\t  ====> Test set loss: 0.0704\n",
      "====> Epoch: 44 Average loss: 0.1488\t  ====> Test set loss: 0.0653\n",
      "====> Epoch: 45 Average loss: 0.1482\t  ====> Test set loss: 0.0702\n",
      "====> Epoch: 46 Average loss: 0.1466\t5  ====> Test set loss: 0.0668\n",
      "====> Epoch: 47 Average loss: 0.1460\t6  ====> Test set loss: 0.0698\n",
      "====> Epoch: 48 Average loss: 0.1455\t  ====> Test set loss: 0.0621\n",
      "====> Epoch: 49 Average loss: 0.1452\t  ====> Test set loss: 0.0614\n"
     ]
    }
   ],
   "source": [
    "for e in range(50):\n",
    "    train(m,e)\n",
    "    test(m,e)"
   ]
  },
  {
   "cell_type": "code",
   "execution_count": 180,
   "metadata": {},
   "outputs": [
    {
     "name": "stdout",
     "output_type": "stream",
     "text": [
      "====> Epoch: 0 Average loss: 0.1443\t23  ====> Test set loss: 0.0680\n",
      "====> Epoch: 1 Average loss: 0.1445\t   ====> Test set loss: 0.0621\n",
      "====> Epoch: 2 Average loss: 0.1442\t2  ====> Test set loss: 0.0654\n",
      "====> Epoch: 3 Average loss: 0.1435\t83  ====> Test set loss: 0.0638\n",
      "====> Epoch: 4 Average loss: 0.1439\t7  ====> Test set loss: 0.0650\n",
      "====> Epoch: 5 Average loss: 0.1430\t1  ====> Test set loss: 0.0608\n",
      "====> Epoch: 6 Average loss: 0.1429\t64  ====> Test set loss: 0.0677\n",
      "====> Epoch: 7 Average loss: 0.1428\t67  ====> Test set loss: 0.0588\n",
      "====> Epoch: 8 Average loss: 0.1427\t1  ====> Test set loss: 0.0639\n",
      "====> Epoch: 9 Average loss: 0.1423\t55  ====> Test set loss: 0.0692\n",
      "====> Epoch: 10 Average loss: 0.1427\t  ====> Test set loss: 0.0671\n",
      "====> Epoch: 11 Average loss: 0.1419\t  ====> Test set loss: 0.0614\n",
      "====> Epoch: 12 Average loss: 0.1424\t  ====> Test set loss: 0.0593\n",
      "====> Epoch: 13 Average loss: 0.1419\t  ====> Test set loss: 0.0612\n",
      "====> Epoch: 14 Average loss: 0.1417\t  ====> Test set loss: 0.0638\n",
      "====> Epoch: 15 Average loss: 0.1417\t3  ====> Test set loss: 0.0635\n",
      "====> Epoch: 16 Average loss: 0.1415\t5  ====> Test set loss: 0.0581\n",
      "====> Epoch: 17 Average loss: 0.1415\t  ====> Test set loss: 0.0616\n",
      "====> Epoch: 18 Average loss: 0.1417\t  ====> Test set loss: 0.0716\n",
      "====> Epoch: 19 Average loss: 0.1418\t6  ====> Test set loss: 0.0623\n",
      "====> Epoch: 20 Average loss: 0.1419\t5  ====> Test set loss: 0.0567\n",
      "====> Epoch: 21 Average loss: 0.1409\t4  ====> Test set loss: 0.0629\n",
      "====> Epoch: 22 Average loss: 0.1410\t7  ====> Test set loss: 0.0643\n",
      "====> Epoch: 23 Average loss: 0.1404\t  ====> Test set loss: 0.0626\n",
      "====> Epoch: 24 Average loss: 0.1405\t  ====> Test set loss: 0.0667\n",
      "====> Epoch: 25 Average loss: 0.1405\t  ====> Test set loss: 0.0628\n",
      "====> Epoch: 26 Average loss: 0.1401\t  ====> Test set loss: 0.0579\n",
      "====> Epoch: 27 Average loss: 0.1404\t  ====> Test set loss: 0.0658\n",
      "====> Epoch: 28 Average loss: 0.1412\t  ====> Test set loss: 0.0610\n",
      "====> Epoch: 29 Average loss: 0.1395\t  ====> Test set loss: 0.0595\n",
      "====> Epoch: 30 Average loss: 0.1371\t4  ====> Test set loss: 0.0558\n",
      "====> Epoch: 31 Average loss: 0.1260\t5  ====> Test set loss: 0.0490\n",
      "====> Epoch: 32 Average loss: 0.1195\t  ====> Test set loss: 0.0526\n",
      "====> Epoch: 33 Average loss: 0.1176\t  ====> Test set loss: 0.0476\n",
      "====> Epoch: 34 Average loss: 0.1160\t8  ====> Test set loss: 0.0491\n",
      "====> Epoch: 35 Average loss: 0.1144\t2  ====> Test set loss: 0.0530\n",
      "====> Epoch: 36 Average loss: 0.1137\t2  ====> Test set loss: 0.0528\n",
      "====> Epoch: 37 Average loss: 0.1125\t  ====> Test set loss: 0.0630\n",
      "====> Epoch: 38 Average loss: 0.1118\t  ====> Test set loss: 0.0500\n",
      "====> Epoch: 39 Average loss: 0.1103\t4  ====> Test set loss: 0.0534\n",
      "====> Epoch: 40 Average loss: 0.1099\t2  ====> Test set loss: 0.0516\n",
      "====> Epoch: 41 Average loss: 0.1094\t  ====> Test set loss: 0.0515\n",
      "====> Epoch: 42 Average loss: 0.1095\t2  ====> Test set loss: 0.0567\n",
      "====> Epoch: 43 Average loss: 0.1085\t4  ====> Test set loss: 0.0548\n",
      "====> Epoch: 44 Average loss: 0.1080\t6  ====> Test set loss: 0.0504\n",
      "====> Epoch: 45 Average loss: 0.1072\t  ====> Test set loss: 0.0512\n",
      "====> Epoch: 46 Average loss: 0.1073\t6  ====> Test set loss: 0.0526\n",
      "====> Epoch: 47 Average loss: 0.1077\t2  ====> Test set loss: 0.0514\n",
      "====> Epoch: 48 Average loss: 0.1066\t  ====> Test set loss: 0.0542\n",
      "====> Epoch: 49 Average loss: 0.1063\t3  ====> Test set loss: 0.0546\n"
     ]
    }
   ],
   "source": [
    "for e in range(50):\n",
    "    train(m,e)\n",
    "    test(m,e)"
   ]
  },
  {
   "cell_type": "code",
   "execution_count": 228,
   "metadata": {},
   "outputs": [],
   "source": [
    "ts_batch = [x for x in ts][0][0]\n",
    "pos = 0"
   ]
  },
  {
   "cell_type": "code",
   "execution_count": 266,
   "metadata": {},
   "outputs": [
    {
     "ename": "AttributeError",
     "evalue": "'tuple' object has no attribute 'detach'",
     "output_type": "error",
     "traceback": [
      "\u001b[0;31m---------------------------------------------------------------------------\u001b[0m",
      "\u001b[0;31mAttributeError\u001b[0m                            Traceback (most recent call last)",
      "\u001b[0;32m<ipython-input-266-0815de99edf0>\u001b[0m in \u001b[0;36m<module>\u001b[0;34m()\u001b[0m\n\u001b[0;32m----> 1\u001b[0;31m \u001b[0mm\u001b[0m\u001b[0;34m(\u001b[0m\u001b[0mts_batch\u001b[0m\u001b[0;34m[\u001b[0m\u001b[0;36m0\u001b[0m\u001b[0;34m]\u001b[0m\u001b[0;34m)\u001b[0m\u001b[0;34m.\u001b[0m\u001b[0mdetach\u001b[0m\u001b[0;34m(\u001b[0m\u001b[0;34m)\u001b[0m\u001b[0;34m.\u001b[0m\u001b[0mnumpy\u001b[0m\u001b[0;34m(\u001b[0m\u001b[0;34m)\u001b[0m\u001b[0;34m\u001b[0m\u001b[0;34m\u001b[0m\u001b[0m\n\u001b[0m",
      "\u001b[0;31mAttributeError\u001b[0m: 'tuple' object has no attribute 'detach'"
     ]
    }
   ],
   "source": [
    "m(ts_batch[0])[0]"
   ]
  },
  {
   "cell_type": "code",
   "execution_count": 337,
   "metadata": {},
   "outputs": [
    {
     "name": "stdout",
     "output_type": "stream",
     "text": [
      "66\n"
     ]
    },
    {
     "data": {
      "image/png": "[encoded data removed]",
      "text/plain": [
       "<Figure size 900x600 with 1 Axes>"
      ]
     },
     "metadata": {},
     "output_type": "display_data"
    }
   ],
   "source": [
    "\n",
    "import matplotlib.pyplot as plt\n",
    "import matplotlib.patches as patches\n",
    "import matplotlib.colors as colors \n",
    "# %matplotlib notebook\n",
    "\n",
    "\n",
    "print(pos)\n",
    "\n",
    "def un(x, min=0., max=2242.511):\n",
    "    return min + x*(max-min)\n",
    "\n",
    "def unx(x, min=-0.373, max=0.353):\n",
    "    return min + x*(max-min)\n",
    "\n",
    "def plot_torch(xy, name=None, h='.'):\n",
    "    fig = plt.figure('plot')    \n",
    "    fig.set_dpi(150)\n",
    "    ax = plt.gca()    \n",
    "    ax.set_ylim(0.,un(0.8))\n",
    "    x,y = torch.split(xy, 15, dim=0)\n",
    "    plt.plot(unx(x),un(y),h, label=name)\n",
    "    ax.legend()\n",
    "\n",
    "    \n",
    "def plot_te(vae, xy):    \n",
    "    fig = plt.figure('plot')\n",
    "    plt.clf()\n",
    "    ax = plt.gca()\n",
    "    ax.set_title( 'Te reconstruction [eV]   '+qsh[pos].label.decode(\"utf-8\") )\n",
    "    vae.eval()    \n",
    "    XY = vae(xy)[0][0].detach()\n",
    "\n",
    "    plot_torch(xy, '$T_e$','-.')\n",
    "    plot_torch(XY, 'ls6','+')\n",
    "\n",
    "\n",
    "plot_te(m, ts_batch[pos])\n",
    "pos += 1\n",
    "\n"
   ]
  },
  {
   "cell_type": "code",
   "execution_count": 245,
   "metadata": {},
   "outputs": [
    {
     "data": {
      "text/plain": [
       "array([0.02898344, 0.09607311, 0.14265138, 0.19771932, 0.26045254,\n",
       "       0.33110553, 0.4067115 , 0.48839146, 0.5687736 , 0.6456776 ,\n",
       "       0.71633047, 0.7790637 , 0.83331555, 0.8793663 , 0.91799575,\n",
       "              nan,        nan,        nan,        nan,        nan],\n",
       "      dtype=float32)"
      ]
     },
     "execution_count": 245,
     "metadata": {},
     "output_type": "execute_result"
    }
   ],
   "source": [
    "\n"
   ]
  }
 ],
 "metadata": {
  "kernelspec": {
   "display_name": "Python 3",
   "language": "python",
   "name": "python3"
  },
  "language_info": {
   "codemirror_mode": {
    "name": "ipython",
    "version": 3
   },
   "file_extension": ".py",
   "mimetype": "text/x-python",
   "name": "python",
   "nbconvert_exporter": "python",
   "pygments_lexer": "ipython3",
   "version": "3.6.8"
  }
 },
 "nbformat": 4,
 "nbformat_minor": 2
}
